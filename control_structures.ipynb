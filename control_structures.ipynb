{
 "cells": [
  {
   "cell_type": "markdown",
   "id": "8404b988",
   "metadata": {},
   "source": [
    "# Задание 1\n",
    "Дана переменная, в которой хранится слово из латинских букв. Напишите код, который выводит на экран:\n",
    "среднюю букву, если число букв в слове нечетное;\n",
    "две средних буквы, если число букв четное.\n"
   ]
  },
  {
   "cell_type": "code",
   "execution_count": 9,
   "id": "888ff4ab",
   "metadata": {},
   "outputs": [
    {
     "name": "stdout",
     "output_type": "stream",
     "text": [
      "введите любое слово: xxxxyxxxx\n",
      "y\n"
     ]
    }
   ],
   "source": [
    "word = input('введите любое слово: ')\n",
    "i = len(word)//2\n",
    "if len(word) % 2 !=0: #если слово нечетное, длина слова не делится нацело на 2\n",
    "    print(word[i]) #выводим средний символ\n",
    "else:\n",
    "    print(word[i-1] + word[i]) #выводим 2 средних символа\n",
    "    "
   ]
  },
  {
   "cell_type": "markdown",
   "id": "5b67c6b6",
   "metadata": {},
   "source": [
    "# Задание 2 \n",
    "Напишите программу, которая последовательно запрашивает у пользователя числа\n",
    "(по одному за раз) и после первого нуля выводит сумму всех ранее введенных \n",
    "чисел.\n"
   ]
  },
  {
   "cell_type": "code",
   "execution_count": 13,
   "id": "bf80c8f8",
   "metadata": {},
   "outputs": [
    {
     "name": "stdout",
     "output_type": "stream",
     "text": [
      "введите число: 1\n",
      "введите число: 2\n",
      "введите число: 5\n",
      "введите число: 5\n",
      "введите число: 5\n",
      "введите число: 5\n",
      "введите число: 0\n",
      "Сумма всех ранее введенных чисел:  23\n"
     ]
    }
   ],
   "source": [
    "counter_sum = 0\n",
    "number = int(input('введите число: '))\n",
    "while number != 0:\n",
    "    counter_sum += number\n",
    "    number = int(input('введите число: '))\n",
    "else:\n",
    "    print('Сумма всех ранее введенных чисел: ', counter_sum)\n",
    "    \n"
   ]
  },
  {
   "cell_type": "markdown",
   "id": "f9cb3f1a",
   "metadata": {},
   "source": [
    "# Задание 3\n",
    "Мы делаем MVP dating-сервиса, и у нас есть список парней и девушек.\n",
    "Выдвигаем гипотезу: лучшие рекомендации мы получим, если просто отсортируем имена по алфавиту и познакомим людей с одинаковыми индексами после сортировки! Но мы не будем никого знакомить, если кто-то может остаться без пары:"
   ]
  },
  {
   "cell_type": "code",
   "execution_count": 40,
   "id": "5aa42327",
   "metadata": {},
   "outputs": [
    {
     "name": "stdout",
     "output_type": "stream",
     "text": [
      "Идеальные пары: \n",
      "Ariadna и Alex\n",
      "Emma и Arthur\n",
      "Kate и Gregory\n",
      "Kira и John\n",
      "Liza и Peter\n",
      "Trisha и Richard\n"
     ]
    }
   ],
   "source": [
    "boys = ['Peter', 'Alex', 'John', 'Arthur', 'Richard','Gregory']\n",
    "girls = ['Kate', 'Liza', 'Kira', 'Emma', 'Trisha', 'Ariadna']\n",
    "\n",
    "if len(boys) == len(girls):\n",
    "    print('Идеальные пары: ')\n",
    "    for i, name_girls in enumerate(sorted(girls)):\n",
    "        for k, name_boys in enumerate(sorted(boys)):\n",
    "            if i == k:\n",
    "                print(name_girls, 'и', name_boys )\n",
    "else:\n",
    "    print('Внимание!! кто-то может остаться без пары, им будет грустно')"
   ]
  },
  {
   "cell_type": "code",
   "execution_count": 41,
   "id": "02ab4416",
   "metadata": {},
   "outputs": [
    {
     "name": "stdout",
     "output_type": "stream",
     "text": [
      "Внимание!! кто-то может остаться без пары, им будет грустно\n"
     ]
    }
   ],
   "source": [
    "boys = ['Peter', 'Alex', 'John', 'Arthur', 'Richard', 'Muhammed']\n",
    "girls = ['Kate', 'Liza', 'Kira', 'Emma', 'Trisha', ]\n",
    "\n",
    "if len(boys) == len(girls):\n",
    "    print('Идеальные пары: ')\n",
    "    for i, name_girls in enumerate(sorted(girls)):\n",
    "        for k, name_boys in enumerate(sorted(boys)):\n",
    "            if i == k:\n",
    "                print(name_girls, 'и', name_boys )\n",
    "else:\n",
    "    print('Внимание!! кто-то может остаться без пары, им будет грустно')"
   ]
  },
  {
   "cell_type": "markdown",
   "id": "2ae55ff5",
   "metadata": {},
   "source": [
    "# Задание 4\n",
    "У нас есть список, содержащий информацию о среднедневной температуре в Фаренгейтах за произвольный период по странам (структура данных в примере). Необходимо написать код, который рассчитает среднюю температуру за период в Цельсиях(!) для каждой страны."
   ]
  },
  {
   "cell_type": "code",
   "execution_count": 56,
   "id": "d01f3a5d",
   "metadata": {},
   "outputs": [],
   "source": [
    "def conversion_from_fahrenheit_to_celsius (fahrenheit):\n",
    "    '''Функции на вход подяются градусы в фаренгейтах.\n",
    "    Перевод градусов из Фаренгейта в Цельсия.\n",
    "    Результат округляется до 2-х знаков после запятой'''\n",
    "    celcium = (fahrenheit -32) / 1.8\n",
    "    return round(celcium, 2)"
   ]
  },
  {
   "cell_type": "code",
   "execution_count": 59,
   "id": "a01174f0",
   "metadata": {},
   "outputs": [
    {
     "name": "stdout",
     "output_type": "stream",
     "text": [
      "Thailand - 23.86 C\n",
      "Germany - 13.8 C\n",
      "Russia - 3.71 C\n",
      "Poland - 12.0 C\n"
     ]
    }
   ],
   "source": [
    "countries_temperature = [\n",
    "['Thailand', [75.2, 77, 78.8, 73.4, 68, 75.2, 77]],\n",
    "['Germany', [57.2, 55.4, 59, 59, 53.6]],\n",
    "['Russia', [35.6, 37.4, 39.2, 41, 42.8, 39.2, 35.6]],\n",
    "['Poland', [50, 50, 53.6, 57.2, 55.4, 55.4]]\n",
    "]\n",
    "\n",
    "for item in countries_temperature:\n",
    "    average_temperature = sum(item[1])/len(item[1])\n",
    "    average_temperature_cels = conversion_from_fahrenheit_to_celsius(average_temperature)\n",
    "    print(item[0], '-', average_temperature_cels, 'C')"
   ]
  },
  {
   "cell_type": "code",
   "execution_count": null,
   "id": "0abfd298",
   "metadata": {},
   "outputs": [],
   "source": []
  }
 ],
 "metadata": {
  "kernelspec": {
   "display_name": "Python 3",
   "language": "python",
   "name": "python3"
  },
  "language_info": {
   "codemirror_mode": {
    "name": "ipython",
    "version": 3
   },
   "file_extension": ".py",
   "mimetype": "text/x-python",
   "name": "python",
   "nbconvert_exporter": "python",
   "pygments_lexer": "ipython3",
   "version": "3.8.8"
  }
 },
 "nbformat": 4,
 "nbformat_minor": 5
}
