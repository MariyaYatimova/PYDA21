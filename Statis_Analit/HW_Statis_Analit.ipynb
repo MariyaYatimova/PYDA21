{
 "cells": [
  {
   "cell_type": "code",
   "execution_count": 30,
   "id": "b2499121",
   "metadata": {},
   "outputs": [],
   "source": [
    "import pandas as pd"
   ]
  },
  {
   "cell_type": "code",
   "execution_count": 31,
   "id": "d7b4669b",
   "metadata": {},
   "outputs": [],
   "source": [
    "import numpy as np"
   ]
  },
  {
   "cell_type": "markdown",
   "id": "e14e785b",
   "metadata": {},
   "source": [
    "удем осуществлять работу с непростым набором данных о состоянии здоровья лошадей, испытывающих кишечные колики. Цель – максимально корректно заполнить пропуски."
   ]
  },
  {
   "cell_type": "markdown",
   "id": "7483a87e",
   "metadata": {},
   "source": [
    "# Задание \n",
    "#### Изучить представленный набор данных на основе описания его столбцов, загрузить его и оставить 8 столбцов для дальнейшего изучения: surgery?, Age, rectal temperature, pulse, respiratory rate, temperature of extremities, pain, outcome."
   ]
  },
  {
   "cell_type": "code",
   "execution_count": 79,
   "id": "e1b11868",
   "metadata": {},
   "outputs": [],
   "source": [
    "columns = ['surgery?','Age', 'Hospital_Number', 'rectal_temperature', 'pulse', 'respiratory_rate', 'temperature_of_extremities', 'peripheral_pulse','mucous_membranes', 'capillary_refill_time', 'pain', 'peristalsis', 'abdominal_distension', 'nasogastric_tube', 'nasogastric_reflux', 'nasogastric_reflux_PH', 'rectal_examination-feces', 'abdomen', 'packed_cell_volume','total_protein', 'abdominocentesis_appearance', 'bdomcentesis_total_protein','outcome', 'urgical_lesion', '25', '26','27','cp_data' ]"
   ]
  },
  {
   "cell_type": "code",
   "execution_count": 80,
   "id": "45167dbe",
   "metadata": {},
   "outputs": [],
   "source": [
    "horse_kolic = pd.read_csv('https://raw.githubusercontent.com/obulygin/pyda_homeworks/master/statistics_basics/horse_data.csv', names=columns, delimiter=',', na_values=['?']) "
   ]
  },
  {
   "cell_type": "code",
   "execution_count": 81,
   "id": "50e932d2",
   "metadata": {},
   "outputs": [
    {
     "data": {
      "text/html": [
       "<div>\n",
       "<style scoped>\n",
       "    .dataframe tbody tr th:only-of-type {\n",
       "        vertical-align: middle;\n",
       "    }\n",
       "\n",
       "    .dataframe tbody tr th {\n",
       "        vertical-align: top;\n",
       "    }\n",
       "\n",
       "    .dataframe thead th {\n",
       "        text-align: right;\n",
       "    }\n",
       "</style>\n",
       "<table border=\"1\" class=\"dataframe\">\n",
       "  <thead>\n",
       "    <tr style=\"text-align: right;\">\n",
       "      <th></th>\n",
       "      <th>surgery?</th>\n",
       "      <th>Age</th>\n",
       "      <th>Hospital_Number</th>\n",
       "      <th>rectal_temperature</th>\n",
       "      <th>pulse</th>\n",
       "      <th>respiratory_rate</th>\n",
       "      <th>temperature_of_extremities</th>\n",
       "      <th>peripheral_pulse</th>\n",
       "      <th>mucous_membranes</th>\n",
       "      <th>capillary_refill_time</th>\n",
       "      <th>...</th>\n",
       "      <th>packed_cell_volume</th>\n",
       "      <th>total_protein</th>\n",
       "      <th>abdominocentesis_appearance</th>\n",
       "      <th>bdomcentesis_total_protein</th>\n",
       "      <th>outcome</th>\n",
       "      <th>urgical_lesion</th>\n",
       "      <th>25</th>\n",
       "      <th>26</th>\n",
       "      <th>27</th>\n",
       "      <th>cp_data</th>\n",
       "    </tr>\n",
       "  </thead>\n",
       "  <tbody>\n",
       "    <tr>\n",
       "      <th>0</th>\n",
       "      <td>2.0</td>\n",
       "      <td>1</td>\n",
       "      <td>530101</td>\n",
       "      <td>38.5</td>\n",
       "      <td>66.0</td>\n",
       "      <td>28.0</td>\n",
       "      <td>3.0</td>\n",
       "      <td>3.0</td>\n",
       "      <td>NaN</td>\n",
       "      <td>2.0</td>\n",
       "      <td>...</td>\n",
       "      <td>45.0</td>\n",
       "      <td>8.4</td>\n",
       "      <td>NaN</td>\n",
       "      <td>NaN</td>\n",
       "      <td>2.0</td>\n",
       "      <td>2</td>\n",
       "      <td>11300</td>\n",
       "      <td>0</td>\n",
       "      <td>0</td>\n",
       "      <td>2</td>\n",
       "    </tr>\n",
       "    <tr>\n",
       "      <th>1</th>\n",
       "      <td>1.0</td>\n",
       "      <td>1</td>\n",
       "      <td>534817</td>\n",
       "      <td>39.2</td>\n",
       "      <td>88.0</td>\n",
       "      <td>20.0</td>\n",
       "      <td>NaN</td>\n",
       "      <td>NaN</td>\n",
       "      <td>4.0</td>\n",
       "      <td>1.0</td>\n",
       "      <td>...</td>\n",
       "      <td>50.0</td>\n",
       "      <td>85.0</td>\n",
       "      <td>2.0</td>\n",
       "      <td>2.0</td>\n",
       "      <td>3.0</td>\n",
       "      <td>2</td>\n",
       "      <td>2208</td>\n",
       "      <td>0</td>\n",
       "      <td>0</td>\n",
       "      <td>2</td>\n",
       "    </tr>\n",
       "    <tr>\n",
       "      <th>2</th>\n",
       "      <td>2.0</td>\n",
       "      <td>1</td>\n",
       "      <td>530334</td>\n",
       "      <td>38.3</td>\n",
       "      <td>40.0</td>\n",
       "      <td>24.0</td>\n",
       "      <td>1.0</td>\n",
       "      <td>1.0</td>\n",
       "      <td>3.0</td>\n",
       "      <td>1.0</td>\n",
       "      <td>...</td>\n",
       "      <td>33.0</td>\n",
       "      <td>6.7</td>\n",
       "      <td>NaN</td>\n",
       "      <td>NaN</td>\n",
       "      <td>1.0</td>\n",
       "      <td>2</td>\n",
       "      <td>0</td>\n",
       "      <td>0</td>\n",
       "      <td>0</td>\n",
       "      <td>1</td>\n",
       "    </tr>\n",
       "    <tr>\n",
       "      <th>3</th>\n",
       "      <td>1.0</td>\n",
       "      <td>9</td>\n",
       "      <td>5290409</td>\n",
       "      <td>39.1</td>\n",
       "      <td>164.0</td>\n",
       "      <td>84.0</td>\n",
       "      <td>4.0</td>\n",
       "      <td>1.0</td>\n",
       "      <td>6.0</td>\n",
       "      <td>2.0</td>\n",
       "      <td>...</td>\n",
       "      <td>48.0</td>\n",
       "      <td>7.2</td>\n",
       "      <td>3.0</td>\n",
       "      <td>5.3</td>\n",
       "      <td>2.0</td>\n",
       "      <td>1</td>\n",
       "      <td>2208</td>\n",
       "      <td>0</td>\n",
       "      <td>0</td>\n",
       "      <td>1</td>\n",
       "    </tr>\n",
       "    <tr>\n",
       "      <th>4</th>\n",
       "      <td>2.0</td>\n",
       "      <td>1</td>\n",
       "      <td>530255</td>\n",
       "      <td>37.3</td>\n",
       "      <td>104.0</td>\n",
       "      <td>35.0</td>\n",
       "      <td>NaN</td>\n",
       "      <td>NaN</td>\n",
       "      <td>6.0</td>\n",
       "      <td>2.0</td>\n",
       "      <td>...</td>\n",
       "      <td>74.0</td>\n",
       "      <td>7.4</td>\n",
       "      <td>NaN</td>\n",
       "      <td>NaN</td>\n",
       "      <td>2.0</td>\n",
       "      <td>2</td>\n",
       "      <td>4300</td>\n",
       "      <td>0</td>\n",
       "      <td>0</td>\n",
       "      <td>2</td>\n",
       "    </tr>\n",
       "    <tr>\n",
       "      <th>...</th>\n",
       "      <td>...</td>\n",
       "      <td>...</td>\n",
       "      <td>...</td>\n",
       "      <td>...</td>\n",
       "      <td>...</td>\n",
       "      <td>...</td>\n",
       "      <td>...</td>\n",
       "      <td>...</td>\n",
       "      <td>...</td>\n",
       "      <td>...</td>\n",
       "      <td>...</td>\n",
       "      <td>...</td>\n",
       "      <td>...</td>\n",
       "      <td>...</td>\n",
       "      <td>...</td>\n",
       "      <td>...</td>\n",
       "      <td>...</td>\n",
       "      <td>...</td>\n",
       "      <td>...</td>\n",
       "      <td>...</td>\n",
       "      <td>...</td>\n",
       "    </tr>\n",
       "    <tr>\n",
       "      <th>295</th>\n",
       "      <td>1.0</td>\n",
       "      <td>1</td>\n",
       "      <td>533886</td>\n",
       "      <td>NaN</td>\n",
       "      <td>120.0</td>\n",
       "      <td>70.0</td>\n",
       "      <td>4.0</td>\n",
       "      <td>NaN</td>\n",
       "      <td>4.0</td>\n",
       "      <td>2.0</td>\n",
       "      <td>...</td>\n",
       "      <td>55.0</td>\n",
       "      <td>65.0</td>\n",
       "      <td>NaN</td>\n",
       "      <td>NaN</td>\n",
       "      <td>3.0</td>\n",
       "      <td>2</td>\n",
       "      <td>3205</td>\n",
       "      <td>0</td>\n",
       "      <td>0</td>\n",
       "      <td>2</td>\n",
       "    </tr>\n",
       "    <tr>\n",
       "      <th>296</th>\n",
       "      <td>2.0</td>\n",
       "      <td>1</td>\n",
       "      <td>527702</td>\n",
       "      <td>37.2</td>\n",
       "      <td>72.0</td>\n",
       "      <td>24.0</td>\n",
       "      <td>3.0</td>\n",
       "      <td>2.0</td>\n",
       "      <td>4.0</td>\n",
       "      <td>2.0</td>\n",
       "      <td>...</td>\n",
       "      <td>44.0</td>\n",
       "      <td>NaN</td>\n",
       "      <td>3.0</td>\n",
       "      <td>3.3</td>\n",
       "      <td>3.0</td>\n",
       "      <td>1</td>\n",
       "      <td>2208</td>\n",
       "      <td>0</td>\n",
       "      <td>0</td>\n",
       "      <td>1</td>\n",
       "    </tr>\n",
       "    <tr>\n",
       "      <th>297</th>\n",
       "      <td>1.0</td>\n",
       "      <td>1</td>\n",
       "      <td>529386</td>\n",
       "      <td>37.5</td>\n",
       "      <td>72.0</td>\n",
       "      <td>30.0</td>\n",
       "      <td>4.0</td>\n",
       "      <td>3.0</td>\n",
       "      <td>4.0</td>\n",
       "      <td>1.0</td>\n",
       "      <td>...</td>\n",
       "      <td>60.0</td>\n",
       "      <td>6.8</td>\n",
       "      <td>NaN</td>\n",
       "      <td>NaN</td>\n",
       "      <td>2.0</td>\n",
       "      <td>1</td>\n",
       "      <td>3205</td>\n",
       "      <td>0</td>\n",
       "      <td>0</td>\n",
       "      <td>2</td>\n",
       "    </tr>\n",
       "    <tr>\n",
       "      <th>298</th>\n",
       "      <td>1.0</td>\n",
       "      <td>1</td>\n",
       "      <td>530612</td>\n",
       "      <td>36.5</td>\n",
       "      <td>100.0</td>\n",
       "      <td>24.0</td>\n",
       "      <td>3.0</td>\n",
       "      <td>3.0</td>\n",
       "      <td>3.0</td>\n",
       "      <td>1.0</td>\n",
       "      <td>...</td>\n",
       "      <td>50.0</td>\n",
       "      <td>6.0</td>\n",
       "      <td>3.0</td>\n",
       "      <td>3.4</td>\n",
       "      <td>1.0</td>\n",
       "      <td>1</td>\n",
       "      <td>2208</td>\n",
       "      <td>0</td>\n",
       "      <td>0</td>\n",
       "      <td>1</td>\n",
       "    </tr>\n",
       "    <tr>\n",
       "      <th>299</th>\n",
       "      <td>1.0</td>\n",
       "      <td>1</td>\n",
       "      <td>534618</td>\n",
       "      <td>37.2</td>\n",
       "      <td>40.0</td>\n",
       "      <td>20.0</td>\n",
       "      <td>NaN</td>\n",
       "      <td>NaN</td>\n",
       "      <td>NaN</td>\n",
       "      <td>NaN</td>\n",
       "      <td>...</td>\n",
       "      <td>36.0</td>\n",
       "      <td>62.0</td>\n",
       "      <td>1.0</td>\n",
       "      <td>1.0</td>\n",
       "      <td>3.0</td>\n",
       "      <td>2</td>\n",
       "      <td>6112</td>\n",
       "      <td>0</td>\n",
       "      <td>0</td>\n",
       "      <td>2</td>\n",
       "    </tr>\n",
       "  </tbody>\n",
       "</table>\n",
       "<p>300 rows × 28 columns</p>\n",
       "</div>"
      ],
      "text/plain": [
       "     surgery?  Age  Hospital_Number  rectal_temperature  pulse  \\\n",
       "0         2.0    1           530101                38.5   66.0   \n",
       "1         1.0    1           534817                39.2   88.0   \n",
       "2         2.0    1           530334                38.3   40.0   \n",
       "3         1.0    9          5290409                39.1  164.0   \n",
       "4         2.0    1           530255                37.3  104.0   \n",
       "..        ...  ...              ...                 ...    ...   \n",
       "295       1.0    1           533886                 NaN  120.0   \n",
       "296       2.0    1           527702                37.2   72.0   \n",
       "297       1.0    1           529386                37.5   72.0   \n",
       "298       1.0    1           530612                36.5  100.0   \n",
       "299       1.0    1           534618                37.2   40.0   \n",
       "\n",
       "     respiratory_rate  temperature_of_extremities  peripheral_pulse  \\\n",
       "0                28.0                         3.0               3.0   \n",
       "1                20.0                         NaN               NaN   \n",
       "2                24.0                         1.0               1.0   \n",
       "3                84.0                         4.0               1.0   \n",
       "4                35.0                         NaN               NaN   \n",
       "..                ...                         ...               ...   \n",
       "295              70.0                         4.0               NaN   \n",
       "296              24.0                         3.0               2.0   \n",
       "297              30.0                         4.0               3.0   \n",
       "298              24.0                         3.0               3.0   \n",
       "299              20.0                         NaN               NaN   \n",
       "\n",
       "     mucous_membranes  capillary_refill_time  ...  packed_cell_volume  \\\n",
       "0                 NaN                    2.0  ...                45.0   \n",
       "1                 4.0                    1.0  ...                50.0   \n",
       "2                 3.0                    1.0  ...                33.0   \n",
       "3                 6.0                    2.0  ...                48.0   \n",
       "4                 6.0                    2.0  ...                74.0   \n",
       "..                ...                    ...  ...                 ...   \n",
       "295               4.0                    2.0  ...                55.0   \n",
       "296               4.0                    2.0  ...                44.0   \n",
       "297               4.0                    1.0  ...                60.0   \n",
       "298               3.0                    1.0  ...                50.0   \n",
       "299               NaN                    NaN  ...                36.0   \n",
       "\n",
       "     total_protein  abdominocentesis_appearance  bdomcentesis_total_protein  \\\n",
       "0              8.4                          NaN                         NaN   \n",
       "1             85.0                          2.0                         2.0   \n",
       "2              6.7                          NaN                         NaN   \n",
       "3              7.2                          3.0                         5.3   \n",
       "4              7.4                          NaN                         NaN   \n",
       "..             ...                          ...                         ...   \n",
       "295           65.0                          NaN                         NaN   \n",
       "296            NaN                          3.0                         3.3   \n",
       "297            6.8                          NaN                         NaN   \n",
       "298            6.0                          3.0                         3.4   \n",
       "299           62.0                          1.0                         1.0   \n",
       "\n",
       "     outcome  urgical_lesion     25  26  27  cp_data  \n",
       "0        2.0               2  11300   0   0        2  \n",
       "1        3.0               2   2208   0   0        2  \n",
       "2        1.0               2      0   0   0        1  \n",
       "3        2.0               1   2208   0   0        1  \n",
       "4        2.0               2   4300   0   0        2  \n",
       "..       ...             ...    ...  ..  ..      ...  \n",
       "295      3.0               2   3205   0   0        2  \n",
       "296      3.0               1   2208   0   0        1  \n",
       "297      2.0               1   3205   0   0        2  \n",
       "298      1.0               1   2208   0   0        1  \n",
       "299      3.0               2   6112   0   0        2  \n",
       "\n",
       "[300 rows x 28 columns]"
      ]
     },
     "execution_count": 81,
     "metadata": {},
     "output_type": "execute_result"
    }
   ],
   "source": [
    "\n",
    "\n",
    "horse_kolic"
   ]
  },
  {
   "cell_type": "code",
   "execution_count": 82,
   "id": "c883b287",
   "metadata": {},
   "outputs": [
    {
     "name": "stdout",
     "output_type": "stream",
     "text": [
      "<class 'pandas.core.frame.DataFrame'>\n",
      "RangeIndex: 300 entries, 0 to 299\n",
      "Data columns (total 28 columns):\n",
      " #   Column                       Non-Null Count  Dtype  \n",
      "---  ------                       --------------  -----  \n",
      " 0   surgery?                     299 non-null    float64\n",
      " 1   Age                          300 non-null    int64  \n",
      " 2   Hospital_Number              300 non-null    int64  \n",
      " 3   rectal_temperature           240 non-null    float64\n",
      " 4   pulse                        276 non-null    float64\n",
      " 5   respiratory_rate             242 non-null    float64\n",
      " 6   temperature_of_extremities   244 non-null    float64\n",
      " 7   peripheral_pulse             231 non-null    float64\n",
      " 8   mucous_membranes             253 non-null    float64\n",
      " 9   capillary_refill_time        268 non-null    float64\n",
      " 10  pain                         245 non-null    float64\n",
      " 11  peristalsis                  256 non-null    float64\n",
      " 12  abdominal_distension         244 non-null    float64\n",
      " 13  nasogastric_tube             196 non-null    float64\n",
      " 14  nasogastric_reflux           194 non-null    float64\n",
      " 15  nasogastric_reflux_PH        53 non-null     float64\n",
      " 16  rectal_examination-feces     198 non-null    float64\n",
      " 17  abdomen                      182 non-null    float64\n",
      " 18  packed_cell_volume           271 non-null    float64\n",
      " 19  total_protein                267 non-null    float64\n",
      " 20  abdominocentesis_appearance  135 non-null    float64\n",
      " 21  bdomcentesis_total_protein   102 non-null    float64\n",
      " 22  outcome                      299 non-null    float64\n",
      " 23  urgical_lesion               300 non-null    int64  \n",
      " 24  25                           300 non-null    int64  \n",
      " 25  26                           300 non-null    int64  \n",
      " 26  27                           300 non-null    int64  \n",
      " 27  cp_data                      300 non-null    int64  \n",
      "dtypes: float64(21), int64(7)\n",
      "memory usage: 65.8 KB\n"
     ]
    }
   ],
   "source": [
    "horse_kolic.info()"
   ]
  },
  {
   "cell_type": "code",
   "execution_count": 83,
   "id": "df4d1392",
   "metadata": {},
   "outputs": [],
   "source": [
    "#Оставим только 8 столбцов для изучения\n"
   ]
  },
  {
   "cell_type": "code",
   "execution_count": 84,
   "id": "abd0a7db",
   "metadata": {},
   "outputs": [],
   "source": [
    "horse_kolic_study = horse_kolic [ ['surgery?', 'Age', 'rectal_temperature', 'pulse','respiratory_rate', 'temperature_of_extremities', 'pain', 'outcome'] ]"
   ]
  },
  {
   "cell_type": "markdown",
   "id": "c0dd3504",
   "metadata": {},
   "source": [
    "#### surgery?\n",
    "1 = да, была операция\n",
    "2 = лечили без операции\n",
    "\n",
    "#### Age\n",
    "1 = взрослая лошадь\n",
    "2 = молодая лошадь (< 6 месяцев)\n",
    "\n",
    "#### rectal_temperature\n",
    "!!Повышенная температура может возникнуть из-за инфекции.\n",
    " температура может быть снижена, когда животное находится в позднем шоке\n",
    "нормальная температура 37,8\n",
    " этот параметр обычно меняется по мере развития проблемы\n",
    "например. может начаться нормально, затем стать повышенным из-за поражения, проходя обратно через нормальный диапазон, как лошадь впадает в шок\n",
    "#### pulse           \n",
    "является отражением состояния сердца: 30 - 40 нормально для взрослых.\n",
    "редко бывает ниже нормы, хотя у спортивных лошадей\n",
    " может иметь частоту 20-25\n",
    " животные с болезненными поражениями или страдающие от циркуляторного шока могут иметь повышенную частоту сердечных сокращений     \n",
    "#### respiratory_rate (частота дыхания)\n",
    "Сомнительная для анализа из-за больших разбросов\n",
    "нормальная частота составляет от 8 до 10 \n",
    "\n",
    "#### temperature_of_extremities\n",
    "1 = нормальное \n",
    "2 = теплое \n",
    "3 = прохладное \n",
    "4 = холодное \n",
    "холодные или прохладные конечности указывают на возможный шок\n",
    "горячие конечности должны коррелировать с повышенной ректальной температурой. \n",
    "\n",
    "#### pain\n",
    "боль – субъективная оценка уровня боли лошади \n",
    " возможные значения:\n",
    "1 = тревога, отсутствие боли \n",
    "2 = депрессия \n",
    "3 = прерывистая легкая боль \n",
    "4 = прерывистая сильная боль \n",
    "5 = постоянная сильная боль \n",
    "чем больнее, тем больше вероятность того, что потребуется хирургическое вмешательство.\n",
    "предварительное лечение боли может в некоторой степени маскировать уровень боли \n",
    "\n",
    "#### outcome\n",
    "1 = выжил \n",
    "2 = умер \n",
    "3 = подвергся эвтаназии"
   ]
  },
  {
   "cell_type": "code",
   "execution_count": 85,
   "id": "004d7ffe",
   "metadata": {},
   "outputs": [
    {
     "data": {
      "text/html": [
       "<div>\n",
       "<style scoped>\n",
       "    .dataframe tbody tr th:only-of-type {\n",
       "        vertical-align: middle;\n",
       "    }\n",
       "\n",
       "    .dataframe tbody tr th {\n",
       "        vertical-align: top;\n",
       "    }\n",
       "\n",
       "    .dataframe thead th {\n",
       "        text-align: right;\n",
       "    }\n",
       "</style>\n",
       "<table border=\"1\" class=\"dataframe\">\n",
       "  <thead>\n",
       "    <tr style=\"text-align: right;\">\n",
       "      <th></th>\n",
       "      <th>surgery?</th>\n",
       "      <th>Age</th>\n",
       "      <th>rectal_temperature</th>\n",
       "      <th>pulse</th>\n",
       "      <th>respiratory_rate</th>\n",
       "      <th>temperature_of_extremities</th>\n",
       "      <th>pain</th>\n",
       "      <th>outcome</th>\n",
       "    </tr>\n",
       "  </thead>\n",
       "  <tbody>\n",
       "    <tr>\n",
       "      <th>0</th>\n",
       "      <td>2.0</td>\n",
       "      <td>1</td>\n",
       "      <td>38.5</td>\n",
       "      <td>66.0</td>\n",
       "      <td>28.0</td>\n",
       "      <td>3.0</td>\n",
       "      <td>5.0</td>\n",
       "      <td>2.0</td>\n",
       "    </tr>\n",
       "    <tr>\n",
       "      <th>1</th>\n",
       "      <td>1.0</td>\n",
       "      <td>1</td>\n",
       "      <td>39.2</td>\n",
       "      <td>88.0</td>\n",
       "      <td>20.0</td>\n",
       "      <td>NaN</td>\n",
       "      <td>3.0</td>\n",
       "      <td>3.0</td>\n",
       "    </tr>\n",
       "    <tr>\n",
       "      <th>2</th>\n",
       "      <td>2.0</td>\n",
       "      <td>1</td>\n",
       "      <td>38.3</td>\n",
       "      <td>40.0</td>\n",
       "      <td>24.0</td>\n",
       "      <td>1.0</td>\n",
       "      <td>3.0</td>\n",
       "      <td>1.0</td>\n",
       "    </tr>\n",
       "    <tr>\n",
       "      <th>3</th>\n",
       "      <td>1.0</td>\n",
       "      <td>9</td>\n",
       "      <td>39.1</td>\n",
       "      <td>164.0</td>\n",
       "      <td>84.0</td>\n",
       "      <td>4.0</td>\n",
       "      <td>2.0</td>\n",
       "      <td>2.0</td>\n",
       "    </tr>\n",
       "    <tr>\n",
       "      <th>4</th>\n",
       "      <td>2.0</td>\n",
       "      <td>1</td>\n",
       "      <td>37.3</td>\n",
       "      <td>104.0</td>\n",
       "      <td>35.0</td>\n",
       "      <td>NaN</td>\n",
       "      <td>NaN</td>\n",
       "      <td>2.0</td>\n",
       "    </tr>\n",
       "    <tr>\n",
       "      <th>...</th>\n",
       "      <td>...</td>\n",
       "      <td>...</td>\n",
       "      <td>...</td>\n",
       "      <td>...</td>\n",
       "      <td>...</td>\n",
       "      <td>...</td>\n",
       "      <td>...</td>\n",
       "      <td>...</td>\n",
       "    </tr>\n",
       "    <tr>\n",
       "      <th>295</th>\n",
       "      <td>1.0</td>\n",
       "      <td>1</td>\n",
       "      <td>NaN</td>\n",
       "      <td>120.0</td>\n",
       "      <td>70.0</td>\n",
       "      <td>4.0</td>\n",
       "      <td>2.0</td>\n",
       "      <td>3.0</td>\n",
       "    </tr>\n",
       "    <tr>\n",
       "      <th>296</th>\n",
       "      <td>2.0</td>\n",
       "      <td>1</td>\n",
       "      <td>37.2</td>\n",
       "      <td>72.0</td>\n",
       "      <td>24.0</td>\n",
       "      <td>3.0</td>\n",
       "      <td>4.0</td>\n",
       "      <td>3.0</td>\n",
       "    </tr>\n",
       "    <tr>\n",
       "      <th>297</th>\n",
       "      <td>1.0</td>\n",
       "      <td>1</td>\n",
       "      <td>37.5</td>\n",
       "      <td>72.0</td>\n",
       "      <td>30.0</td>\n",
       "      <td>4.0</td>\n",
       "      <td>4.0</td>\n",
       "      <td>2.0</td>\n",
       "    </tr>\n",
       "    <tr>\n",
       "      <th>298</th>\n",
       "      <td>1.0</td>\n",
       "      <td>1</td>\n",
       "      <td>36.5</td>\n",
       "      <td>100.0</td>\n",
       "      <td>24.0</td>\n",
       "      <td>3.0</td>\n",
       "      <td>3.0</td>\n",
       "      <td>1.0</td>\n",
       "    </tr>\n",
       "    <tr>\n",
       "      <th>299</th>\n",
       "      <td>1.0</td>\n",
       "      <td>1</td>\n",
       "      <td>37.2</td>\n",
       "      <td>40.0</td>\n",
       "      <td>20.0</td>\n",
       "      <td>NaN</td>\n",
       "      <td>NaN</td>\n",
       "      <td>3.0</td>\n",
       "    </tr>\n",
       "  </tbody>\n",
       "</table>\n",
       "<p>300 rows × 8 columns</p>\n",
       "</div>"
      ],
      "text/plain": [
       "     surgery?  Age  rectal_temperature  pulse  respiratory_rate  \\\n",
       "0         2.0    1                38.5   66.0              28.0   \n",
       "1         1.0    1                39.2   88.0              20.0   \n",
       "2         2.0    1                38.3   40.0              24.0   \n",
       "3         1.0    9                39.1  164.0              84.0   \n",
       "4         2.0    1                37.3  104.0              35.0   \n",
       "..        ...  ...                 ...    ...               ...   \n",
       "295       1.0    1                 NaN  120.0              70.0   \n",
       "296       2.0    1                37.2   72.0              24.0   \n",
       "297       1.0    1                37.5   72.0              30.0   \n",
       "298       1.0    1                36.5  100.0              24.0   \n",
       "299       1.0    1                37.2   40.0              20.0   \n",
       "\n",
       "     temperature_of_extremities  pain  outcome  \n",
       "0                           3.0   5.0      2.0  \n",
       "1                           NaN   3.0      3.0  \n",
       "2                           1.0   3.0      1.0  \n",
       "3                           4.0   2.0      2.0  \n",
       "4                           NaN   NaN      2.0  \n",
       "..                          ...   ...      ...  \n",
       "295                         4.0   2.0      3.0  \n",
       "296                         3.0   4.0      3.0  \n",
       "297                         4.0   4.0      2.0  \n",
       "298                         3.0   3.0      1.0  \n",
       "299                         NaN   NaN      3.0  \n",
       "\n",
       "[300 rows x 8 columns]"
      ]
     },
     "execution_count": 85,
     "metadata": {},
     "output_type": "execute_result"
    }
   ],
   "source": [
    "horse_kolic_study"
   ]
  },
  {
   "cell_type": "markdown",
   "id": "c16a9737",
   "metadata": {},
   "source": [
    "# Задание 2. Первичное изучение данных\n",
    "\n",
    "Проанализировать значения по столбцам, рассчитать базовые статистики, найти выбросы."
   ]
  },
  {
   "cell_type": "code",
   "execution_count": 86,
   "id": "b9ce1160",
   "metadata": {},
   "outputs": [
    {
     "data": {
      "text/html": [
       "<div>\n",
       "<style scoped>\n",
       "    .dataframe tbody tr th:only-of-type {\n",
       "        vertical-align: middle;\n",
       "    }\n",
       "\n",
       "    .dataframe tbody tr th {\n",
       "        vertical-align: top;\n",
       "    }\n",
       "\n",
       "    .dataframe thead th {\n",
       "        text-align: right;\n",
       "    }\n",
       "</style>\n",
       "<table border=\"1\" class=\"dataframe\">\n",
       "  <thead>\n",
       "    <tr style=\"text-align: right;\">\n",
       "      <th></th>\n",
       "      <th>surgery?</th>\n",
       "      <th>Age</th>\n",
       "      <th>rectal_temperature</th>\n",
       "      <th>pulse</th>\n",
       "      <th>respiratory_rate</th>\n",
       "      <th>temperature_of_extremities</th>\n",
       "      <th>pain</th>\n",
       "      <th>outcome</th>\n",
       "    </tr>\n",
       "  </thead>\n",
       "  <tbody>\n",
       "    <tr>\n",
       "      <th>count</th>\n",
       "      <td>299.000000</td>\n",
       "      <td>300.000000</td>\n",
       "      <td>240.000000</td>\n",
       "      <td>276.000000</td>\n",
       "      <td>242.000000</td>\n",
       "      <td>244.000000</td>\n",
       "      <td>245.00000</td>\n",
       "      <td>299.000000</td>\n",
       "    </tr>\n",
       "    <tr>\n",
       "      <th>mean</th>\n",
       "      <td>1.397993</td>\n",
       "      <td>1.640000</td>\n",
       "      <td>38.167917</td>\n",
       "      <td>71.913043</td>\n",
       "      <td>30.417355</td>\n",
       "      <td>2.348361</td>\n",
       "      <td>2.95102</td>\n",
       "      <td>1.551839</td>\n",
       "    </tr>\n",
       "    <tr>\n",
       "      <th>std</th>\n",
       "      <td>0.490305</td>\n",
       "      <td>2.173972</td>\n",
       "      <td>0.732289</td>\n",
       "      <td>28.630557</td>\n",
       "      <td>17.642231</td>\n",
       "      <td>1.045054</td>\n",
       "      <td>1.30794</td>\n",
       "      <td>0.737187</td>\n",
       "    </tr>\n",
       "    <tr>\n",
       "      <th>min</th>\n",
       "      <td>1.000000</td>\n",
       "      <td>1.000000</td>\n",
       "      <td>35.400000</td>\n",
       "      <td>30.000000</td>\n",
       "      <td>8.000000</td>\n",
       "      <td>1.000000</td>\n",
       "      <td>1.00000</td>\n",
       "      <td>1.000000</td>\n",
       "    </tr>\n",
       "    <tr>\n",
       "      <th>25%</th>\n",
       "      <td>1.000000</td>\n",
       "      <td>1.000000</td>\n",
       "      <td>37.800000</td>\n",
       "      <td>48.000000</td>\n",
       "      <td>18.500000</td>\n",
       "      <td>1.000000</td>\n",
       "      <td>2.00000</td>\n",
       "      <td>1.000000</td>\n",
       "    </tr>\n",
       "    <tr>\n",
       "      <th>50%</th>\n",
       "      <td>1.000000</td>\n",
       "      <td>1.000000</td>\n",
       "      <td>38.200000</td>\n",
       "      <td>64.000000</td>\n",
       "      <td>24.500000</td>\n",
       "      <td>3.000000</td>\n",
       "      <td>3.00000</td>\n",
       "      <td>1.000000</td>\n",
       "    </tr>\n",
       "    <tr>\n",
       "      <th>75%</th>\n",
       "      <td>2.000000</td>\n",
       "      <td>1.000000</td>\n",
       "      <td>38.500000</td>\n",
       "      <td>88.000000</td>\n",
       "      <td>36.000000</td>\n",
       "      <td>3.000000</td>\n",
       "      <td>4.00000</td>\n",
       "      <td>2.000000</td>\n",
       "    </tr>\n",
       "    <tr>\n",
       "      <th>max</th>\n",
       "      <td>2.000000</td>\n",
       "      <td>9.000000</td>\n",
       "      <td>40.800000</td>\n",
       "      <td>184.000000</td>\n",
       "      <td>96.000000</td>\n",
       "      <td>4.000000</td>\n",
       "      <td>5.00000</td>\n",
       "      <td>3.000000</td>\n",
       "    </tr>\n",
       "  </tbody>\n",
       "</table>\n",
       "</div>"
      ],
      "text/plain": [
       "         surgery?         Age  rectal_temperature       pulse  \\\n",
       "count  299.000000  300.000000          240.000000  276.000000   \n",
       "mean     1.397993    1.640000           38.167917   71.913043   \n",
       "std      0.490305    2.173972            0.732289   28.630557   \n",
       "min      1.000000    1.000000           35.400000   30.000000   \n",
       "25%      1.000000    1.000000           37.800000   48.000000   \n",
       "50%      1.000000    1.000000           38.200000   64.000000   \n",
       "75%      2.000000    1.000000           38.500000   88.000000   \n",
       "max      2.000000    9.000000           40.800000  184.000000   \n",
       "\n",
       "       respiratory_rate  temperature_of_extremities       pain     outcome  \n",
       "count        242.000000                  244.000000  245.00000  299.000000  \n",
       "mean          30.417355                    2.348361    2.95102    1.551839  \n",
       "std           17.642231                    1.045054    1.30794    0.737187  \n",
       "min            8.000000                    1.000000    1.00000    1.000000  \n",
       "25%           18.500000                    1.000000    2.00000    1.000000  \n",
       "50%           24.500000                    3.000000    3.00000    1.000000  \n",
       "75%           36.000000                    3.000000    4.00000    2.000000  \n",
       "max           96.000000                    4.000000    5.00000    3.000000  "
      ]
     },
     "execution_count": 86,
     "metadata": {},
     "output_type": "execute_result"
    }
   ],
   "source": [
    "horse_kolic_study.describe()"
   ]
  },
  {
   "cell_type": "markdown",
   "id": "e7c94a65",
   "metadata": {},
   "source": [
    "Из базовых статистик, рассчитаных выше по столбцу возраст видно, что максимальное значение = 9 , при этом, возможно лишь значение 1 или 2.\n",
    "Рассмотрим данные строки с указанныим атрибутом возраста = 9: У большинства лошадей уже были операции, пульс выше среднего, что не является нормой для взрослых лошадей\n",
    "Рассмотрим уникальные значения возраста. И увидим, что уникальных значений 2, это 1 и 9, значит была допущена ошибка человеческого фактора. Значение 9 = 2\n"
   ]
  },
  {
   "cell_type": "code",
   "execution_count": 88,
   "id": "7a4723fb",
   "metadata": {},
   "outputs": [
    {
     "data": {
      "text/plain": [
       "array([1, 9], dtype=int64)"
      ]
     },
     "execution_count": 88,
     "metadata": {},
     "output_type": "execute_result"
    }
   ],
   "source": [
    "#Рассмотрим уникальные значения возраста\n",
    "horse_kolic_study['Age'].unique()"
   ]
  },
  {
   "cell_type": "code",
   "execution_count": 97,
   "id": "91afae4b",
   "metadata": {},
   "outputs": [
    {
     "data": {
      "text/plain": [
       "Series([], Name: Age, dtype: bool)"
      ]
     },
     "execution_count": 97,
     "metadata": {},
     "output_type": "execute_result"
    }
   ],
   "source": [
    "#Выполним замену\n",
    "horse_kolic_study.loc[(horse_kolic_study.Age ==9 ), 'Age' ] == 2"
   ]
  },
  {
   "cell_type": "code",
   "execution_count": 98,
   "id": "226f518c",
   "metadata": {},
   "outputs": [
    {
     "data": {
      "text/plain": [
       "array([1, 2], dtype=int64)"
      ]
     },
     "execution_count": 98,
     "metadata": {},
     "output_type": "execute_result"
    }
   ],
   "source": [
    "# теперь группы лошадей по возрасту распределены верно\n",
    "horse_kolic_study['Age'].unique()"
   ]
  },
  {
   "cell_type": "code",
   "execution_count": 99,
   "id": "538990c7",
   "metadata": {},
   "outputs": [
    {
     "data": {
      "text/plain": [
       "40.0"
      ]
     },
     "execution_count": 99,
     "metadata": {},
     "output_type": "execute_result"
    }
   ],
   "source": [
    "#Найдем выбросы по значению пульса\n",
    "Q1_pulse = horse_kolic_study['pulse'].quantile(0.25)\n",
    "Q3_pulse = horse_kolic_study['pulse'].quantile(0.75)\n",
    "IQR_H = Q3_pulse - Q1_pulse\n",
    "IQR_H"
   ]
  },
  {
   "cell_type": "code",
   "execution_count": 100,
   "id": "1ee207f2",
   "metadata": {},
   "outputs": [],
   "source": [
    "lower_ = Q1_pulse - (1.5 * IQR_H)\n",
    "higher_ = Q3_pulse + (1.5 * IQR_H)"
   ]
  },
  {
   "cell_type": "code",
   "execution_count": 103,
   "id": "09247f6c",
   "metadata": {},
   "outputs": [
    {
     "data": {
      "text/plain": [
       "array([164.,  nan, 150., 160., 184.])"
      ]
     },
     "execution_count": 103,
     "metadata": {},
     "output_type": "execute_result"
    }
   ],
   "source": [
    "#выведем уникальные значения по пульсу по найденным выбросам\n",
    "horse_kolic_study[~horse_kolic_study['pulse'].between(lower_, higher_, inclusive=True)]['pulse'].unique()"
   ]
  },
  {
   "cell_type": "markdown",
   "id": "a20478ea",
   "metadata": {},
   "source": [
    "симпатическая нервная система выделяет эпинефрин (адреналин), который пересиливает тонус блуждающего нерва и может быстро поднять частоту пульса лошади до 220-240 уд/мин.\n",
    "Вследствие чего можно считать частоту пульса от 150 до 184 естественным выбросом"
   ]
  },
  {
   "cell_type": "code",
   "execution_count": 104,
   "id": "eab1c037",
   "metadata": {},
   "outputs": [
    {
     "data": {
      "text/html": [
       "<div>\n",
       "<style scoped>\n",
       "    .dataframe tbody tr th:only-of-type {\n",
       "        vertical-align: middle;\n",
       "    }\n",
       "\n",
       "    .dataframe tbody tr th {\n",
       "        vertical-align: top;\n",
       "    }\n",
       "\n",
       "    .dataframe thead th {\n",
       "        text-align: right;\n",
       "    }\n",
       "</style>\n",
       "<table border=\"1\" class=\"dataframe\">\n",
       "  <thead>\n",
       "    <tr style=\"text-align: right;\">\n",
       "      <th></th>\n",
       "      <th>surgery?</th>\n",
       "      <th>Age</th>\n",
       "      <th>rectal_temperature</th>\n",
       "      <th>pulse</th>\n",
       "      <th>respiratory_rate</th>\n",
       "      <th>temperature_of_extremities</th>\n",
       "      <th>pain</th>\n",
       "    </tr>\n",
       "    <tr>\n",
       "      <th>outcome</th>\n",
       "      <th></th>\n",
       "      <th></th>\n",
       "      <th></th>\n",
       "      <th></th>\n",
       "      <th></th>\n",
       "      <th></th>\n",
       "      <th></th>\n",
       "    </tr>\n",
       "  </thead>\n",
       "  <tbody>\n",
       "    <tr>\n",
       "      <th>1.0</th>\n",
       "      <td>2.0</td>\n",
       "      <td>2</td>\n",
       "      <td>39.2</td>\n",
       "      <td>150.0</td>\n",
       "      <td>72.0</td>\n",
       "      <td>3.0</td>\n",
       "      <td>5.0</td>\n",
       "    </tr>\n",
       "    <tr>\n",
       "      <th>2.0</th>\n",
       "      <td>2.0</td>\n",
       "      <td>2</td>\n",
       "      <td>39.3</td>\n",
       "      <td>184.0</td>\n",
       "      <td>84.0</td>\n",
       "      <td>4.0</td>\n",
       "      <td>5.0</td>\n",
       "    </tr>\n",
       "    <tr>\n",
       "      <th>3.0</th>\n",
       "      <td>2.0</td>\n",
       "      <td>1</td>\n",
       "      <td>39.5</td>\n",
       "      <td>NaN</td>\n",
       "      <td>NaN</td>\n",
       "      <td>3.0</td>\n",
       "      <td>3.0</td>\n",
       "    </tr>\n",
       "  </tbody>\n",
       "</table>\n",
       "</div>"
      ],
      "text/plain": [
       "         surgery?  Age  rectal_temperature  pulse  respiratory_rate  \\\n",
       "outcome                                                               \n",
       "1.0           2.0    2                39.2  150.0              72.0   \n",
       "2.0           2.0    2                39.3  184.0              84.0   \n",
       "3.0           2.0    1                39.5    NaN               NaN   \n",
       "\n",
       "         temperature_of_extremities  pain  \n",
       "outcome                                    \n",
       "1.0                             3.0   5.0  \n",
       "2.0                             4.0   5.0  \n",
       "3.0                             3.0   3.0  "
      ]
     },
     "execution_count": 104,
     "metadata": {},
     "output_type": "execute_result"
    }
   ],
   "source": [
    "horse_kolic_study[~horse_kolic_study['pulse'].between(lower_, higher_, inclusive=True)].groupby('outcome').max()"
   ]
  },
  {
   "cell_type": "markdown",
   "id": "b036acd6",
   "metadata": {},
   "source": [
    "Видим, что среди выживших лошадей есть лошади высоким пульсом 150, но они испитывали сильную постоянную боль(была операция)\n",
    "Лошадь с максимальным пульсом 184 не выжила и так же испытывала сисльную постоянную боль(была операция).\n"
   ]
  },
  {
   "cell_type": "code",
   "execution_count": 57,
   "id": "5be34376",
   "metadata": {},
   "outputs": [
    {
     "data": {
      "text/plain": [
       "17.5"
      ]
     },
     "execution_count": 57,
     "metadata": {},
     "output_type": "execute_result"
    }
   ],
   "source": [
    "#Посмотрим на выбросы по частоте дыхания\n",
    "Q1_rate = horse_kolic_study['respiratory_rate'].quantile(0.25)\n",
    "Q3_rate = horse_kolic_study['respiratory_rate'].quantile(0.75)\n",
    "IQR_H = Q3_rate - Q1_rate\n",
    "IQR_H"
   ]
  },
  {
   "cell_type": "code",
   "execution_count": 58,
   "id": "d232e91d",
   "metadata": {},
   "outputs": [],
   "source": [
    "lower_rate = Q1_rate - (1.5 * IQR_H)\n",
    "higher_rate = Q3_rate + (1.5 * IQR_H)"
   ]
  },
  {
   "cell_type": "code",
   "execution_count": 264,
   "id": "442189b8",
   "metadata": {},
   "outputs": [
    {
     "data": {
      "text/plain": [
       "66.0"
      ]
     },
     "execution_count": 264,
     "metadata": {},
     "output_type": "execute_result"
    }
   ],
   "source": [
    "#Посмотрим на выбросы по частоте дыхания\n",
    "horse_kolic_study[~horse_kolic_study['respiratory_rate'].between(lower_rate, higher_rate, inclusive=True)]['respiratory_rate'].min()"
   ]
  },
  {
   "cell_type": "code",
   "execution_count": 265,
   "id": "c47e097f",
   "metadata": {},
   "outputs": [
    {
     "data": {
      "text/plain": [
       "96.0"
      ]
     },
     "execution_count": 265,
     "metadata": {},
     "output_type": "execute_result"
    }
   ],
   "source": [
    "horse_kolic_study[~horse_kolic_study['respiratory_rate'].between(lower_rate, higher_rate, inclusive=True)]['respiratory_rate'].max()"
   ]
  },
  {
   "cell_type": "markdown",
   "id": "3eb3f759",
   "metadata": {},
   "source": [
    "Посмотрим на дата фрейм с данными по частете дыхания болше наименьшего значения выброса\n",
    "Затем, посмотрим на средние значения для пульса и частоты дыхания в разрезе возраста и факта операции, для оценки выбросов.\n",
    "\n"
   ]
  },
  {
   "cell_type": "code",
   "execution_count": 411,
   "id": "a7fa5f26",
   "metadata": {},
   "outputs": [
    {
     "data": {
      "text/html": [
       "<div>\n",
       "<style scoped>\n",
       "    .dataframe tbody tr th:only-of-type {\n",
       "        vertical-align: middle;\n",
       "    }\n",
       "\n",
       "    .dataframe tbody tr th {\n",
       "        vertical-align: top;\n",
       "    }\n",
       "\n",
       "    .dataframe thead th {\n",
       "        text-align: right;\n",
       "    }\n",
       "</style>\n",
       "<table border=\"1\" class=\"dataframe\">\n",
       "  <thead>\n",
       "    <tr style=\"text-align: right;\">\n",
       "      <th></th>\n",
       "      <th></th>\n",
       "      <th>rectal_temperature</th>\n",
       "      <th>pulse</th>\n",
       "      <th>respiratory_rate</th>\n",
       "      <th>temperature_of_extremities</th>\n",
       "      <th>pain</th>\n",
       "      <th>outcome</th>\n",
       "    </tr>\n",
       "    <tr>\n",
       "      <th>Age</th>\n",
       "      <th>surgery?</th>\n",
       "      <th></th>\n",
       "      <th></th>\n",
       "      <th></th>\n",
       "      <th></th>\n",
       "      <th></th>\n",
       "      <th></th>\n",
       "    </tr>\n",
       "  </thead>\n",
       "  <tbody>\n",
       "    <tr>\n",
       "      <th rowspan=\"2\" valign=\"top\">1</th>\n",
       "      <th>1.0</th>\n",
       "      <td>38.416667</td>\n",
       "      <td>70.000000</td>\n",
       "      <td>82.000000</td>\n",
       "      <td>2.666667</td>\n",
       "      <td>2.333333</td>\n",
       "      <td>1.571429</td>\n",
       "    </tr>\n",
       "    <tr>\n",
       "      <th>2.0</th>\n",
       "      <td>NaN</td>\n",
       "      <td>56.000000</td>\n",
       "      <td>68.000000</td>\n",
       "      <td>3.000000</td>\n",
       "      <td>3.000000</td>\n",
       "      <td>3.000000</td>\n",
       "    </tr>\n",
       "    <tr>\n",
       "      <th rowspan=\"2\" valign=\"top\">2</th>\n",
       "      <th>1.0</th>\n",
       "      <td>38.557143</td>\n",
       "      <td>139.714286</td>\n",
       "      <td>81.428571</td>\n",
       "      <td>2.000000</td>\n",
       "      <td>2.800000</td>\n",
       "      <td>1.428571</td>\n",
       "    </tr>\n",
       "    <tr>\n",
       "      <th>2.0</th>\n",
       "      <td>39.000000</td>\n",
       "      <td>150.000000</td>\n",
       "      <td>72.000000</td>\n",
       "      <td>NaN</td>\n",
       "      <td>NaN</td>\n",
       "      <td>1.000000</td>\n",
       "    </tr>\n",
       "  </tbody>\n",
       "</table>\n",
       "</div>"
      ],
      "text/plain": [
       "              rectal_temperature       pulse  respiratory_rate  \\\n",
       "Age surgery?                                                     \n",
       "1   1.0                38.416667   70.000000         82.000000   \n",
       "    2.0                      NaN   56.000000         68.000000   \n",
       "2   1.0                38.557143  139.714286         81.428571   \n",
       "    2.0                39.000000  150.000000         72.000000   \n",
       "\n",
       "              temperature_of_extremities      pain   outcome  \n",
       "Age surgery?                                                  \n",
       "1   1.0                         2.666667  2.333333  1.571429  \n",
       "    2.0                         3.000000  3.000000  3.000000  \n",
       "2   1.0                         2.000000  2.800000  1.428571  \n",
       "    2.0                              NaN       NaN  1.000000  "
      ]
     },
     "execution_count": 411,
     "metadata": {},
     "output_type": "execute_result"
    }
   ],
   "source": [
    "horse_kolic_study[horse_kolic_study['respiratory_rate'] > 66].groupby(['Age','surgery?']).mean()"
   ]
  },
  {
   "cell_type": "raw",
   "id": "3561f7d3",
   "metadata": {},
   "source": [
    "для взрослых лошадей видна зависимость по средним показателям частоты дыхания от пульса, чем выше пульс, тем больше частота дыхания.\n",
    "не применимо для молодых лошадей. Предположу, что это так же является естественным выбросом.\n"
   ]
  },
  {
   "cell_type": "markdown",
   "id": "f1f71d15",
   "metadata": {},
   "source": [
    "# Задание 3. Работа с пропусками\n",
    "Рассчитать количество пропусков для всех выбранных столбцов. Принять и обосновать решение о методе заполнения пропусков по каждому столбцу на основе рассчитанных статистик и возможной взаимосвязи значений в них. Сформировать датафрейм, в котором пропуски будут отсутствовать."
   ]
  },
  {
   "cell_type": "code",
   "execution_count": 267,
   "id": "8690c9d9",
   "metadata": {},
   "outputs": [],
   "source": [
    "#Вспомним показатели основного дата фрейма"
   ]
  },
  {
   "cell_type": "code",
   "execution_count": 268,
   "id": "04e6740f",
   "metadata": {},
   "outputs": [
    {
     "data": {
      "text/html": [
       "<div>\n",
       "<style scoped>\n",
       "    .dataframe tbody tr th:only-of-type {\n",
       "        vertical-align: middle;\n",
       "    }\n",
       "\n",
       "    .dataframe tbody tr th {\n",
       "        vertical-align: top;\n",
       "    }\n",
       "\n",
       "    .dataframe thead th {\n",
       "        text-align: right;\n",
       "    }\n",
       "</style>\n",
       "<table border=\"1\" class=\"dataframe\">\n",
       "  <thead>\n",
       "    <tr style=\"text-align: right;\">\n",
       "      <th></th>\n",
       "      <th>surgery?</th>\n",
       "      <th>Age</th>\n",
       "      <th>rectal_temperature</th>\n",
       "      <th>pulse</th>\n",
       "      <th>respiratory_rate</th>\n",
       "      <th>temperature_of_extremities</th>\n",
       "      <th>pain</th>\n",
       "      <th>outcome</th>\n",
       "    </tr>\n",
       "  </thead>\n",
       "  <tbody>\n",
       "    <tr>\n",
       "      <th>count</th>\n",
       "      <td>299.000000</td>\n",
       "      <td>300.000000</td>\n",
       "      <td>240.000000</td>\n",
       "      <td>276.000000</td>\n",
       "      <td>242.000000</td>\n",
       "      <td>244.000000</td>\n",
       "      <td>245.00000</td>\n",
       "      <td>299.000000</td>\n",
       "    </tr>\n",
       "    <tr>\n",
       "      <th>mean</th>\n",
       "      <td>1.397993</td>\n",
       "      <td>1.080000</td>\n",
       "      <td>38.167917</td>\n",
       "      <td>71.913043</td>\n",
       "      <td>30.417355</td>\n",
       "      <td>2.348361</td>\n",
       "      <td>2.95102</td>\n",
       "      <td>1.551839</td>\n",
       "    </tr>\n",
       "    <tr>\n",
       "      <th>std</th>\n",
       "      <td>0.490305</td>\n",
       "      <td>0.271746</td>\n",
       "      <td>0.732289</td>\n",
       "      <td>28.630557</td>\n",
       "      <td>17.642231</td>\n",
       "      <td>1.045054</td>\n",
       "      <td>1.30794</td>\n",
       "      <td>0.737187</td>\n",
       "    </tr>\n",
       "    <tr>\n",
       "      <th>min</th>\n",
       "      <td>1.000000</td>\n",
       "      <td>1.000000</td>\n",
       "      <td>35.400000</td>\n",
       "      <td>30.000000</td>\n",
       "      <td>8.000000</td>\n",
       "      <td>1.000000</td>\n",
       "      <td>1.00000</td>\n",
       "      <td>1.000000</td>\n",
       "    </tr>\n",
       "    <tr>\n",
       "      <th>25%</th>\n",
       "      <td>1.000000</td>\n",
       "      <td>1.000000</td>\n",
       "      <td>37.800000</td>\n",
       "      <td>48.000000</td>\n",
       "      <td>18.500000</td>\n",
       "      <td>1.000000</td>\n",
       "      <td>2.00000</td>\n",
       "      <td>1.000000</td>\n",
       "    </tr>\n",
       "    <tr>\n",
       "      <th>50%</th>\n",
       "      <td>1.000000</td>\n",
       "      <td>1.000000</td>\n",
       "      <td>38.200000</td>\n",
       "      <td>64.000000</td>\n",
       "      <td>24.500000</td>\n",
       "      <td>3.000000</td>\n",
       "      <td>3.00000</td>\n",
       "      <td>1.000000</td>\n",
       "    </tr>\n",
       "    <tr>\n",
       "      <th>75%</th>\n",
       "      <td>2.000000</td>\n",
       "      <td>1.000000</td>\n",
       "      <td>38.500000</td>\n",
       "      <td>88.000000</td>\n",
       "      <td>36.000000</td>\n",
       "      <td>3.000000</td>\n",
       "      <td>4.00000</td>\n",
       "      <td>2.000000</td>\n",
       "    </tr>\n",
       "    <tr>\n",
       "      <th>max</th>\n",
       "      <td>2.000000</td>\n",
       "      <td>2.000000</td>\n",
       "      <td>40.800000</td>\n",
       "      <td>184.000000</td>\n",
       "      <td>96.000000</td>\n",
       "      <td>4.000000</td>\n",
       "      <td>5.00000</td>\n",
       "      <td>3.000000</td>\n",
       "    </tr>\n",
       "  </tbody>\n",
       "</table>\n",
       "</div>"
      ],
      "text/plain": [
       "         surgery?         Age  rectal_temperature       pulse  \\\n",
       "count  299.000000  300.000000          240.000000  276.000000   \n",
       "mean     1.397993    1.080000           38.167917   71.913043   \n",
       "std      0.490305    0.271746            0.732289   28.630557   \n",
       "min      1.000000    1.000000           35.400000   30.000000   \n",
       "25%      1.000000    1.000000           37.800000   48.000000   \n",
       "50%      1.000000    1.000000           38.200000   64.000000   \n",
       "75%      2.000000    1.000000           38.500000   88.000000   \n",
       "max      2.000000    2.000000           40.800000  184.000000   \n",
       "\n",
       "       respiratory_rate  temperature_of_extremities       pain     outcome  \n",
       "count        242.000000                  244.000000  245.00000  299.000000  \n",
       "mean          30.417355                    2.348361    2.95102    1.551839  \n",
       "std           17.642231                    1.045054    1.30794    0.737187  \n",
       "min            8.000000                    1.000000    1.00000    1.000000  \n",
       "25%           18.500000                    1.000000    2.00000    1.000000  \n",
       "50%           24.500000                    3.000000    3.00000    1.000000  \n",
       "75%           36.000000                    3.000000    4.00000    2.000000  \n",
       "max           96.000000                    4.000000    5.00000    3.000000  "
      ]
     },
     "execution_count": 268,
     "metadata": {},
     "output_type": "execute_result"
    }
   ],
   "source": [
    "horse_kolic_study.describe()"
   ]
  },
  {
   "cell_type": "markdown",
   "id": "a16521b3",
   "metadata": {},
   "source": [
    "# rectal_temperature\n",
    "Перейдем к заполнению пропусков\n",
    "Рассмотрим rectal_temperature\n",
    "Предположим, что температура зависит от temperature_of_extremities и pain\n",
    "\n",
    "Попробуем выполнить группировку по переменной (скопируем для начала ДФ)\n",
    "\n",
    "Мы не можем отрицать, что температура может изменяться в зависимости от температуры конечностей и состояния животного.\n",
    "горячие конечности должны коррелировать с повышенной ректальной температурой а температура может быть снижена, когда животное находится в позднем шоке\n",
    "Заполним пропуски для на основе вышесказанного:"
   ]
  },
  {
   "cell_type": "code",
   "execution_count": 413,
   "id": "0bc96f4f",
   "metadata": {},
   "outputs": [
    {
     "data": {
      "text/html": [
       "<div>\n",
       "<style scoped>\n",
       "    .dataframe tbody tr th:only-of-type {\n",
       "        vertical-align: middle;\n",
       "    }\n",
       "\n",
       "    .dataframe tbody tr th {\n",
       "        vertical-align: top;\n",
       "    }\n",
       "\n",
       "    .dataframe thead th {\n",
       "        text-align: right;\n",
       "    }\n",
       "</style>\n",
       "<table border=\"1\" class=\"dataframe\">\n",
       "  <thead>\n",
       "    <tr style=\"text-align: right;\">\n",
       "      <th></th>\n",
       "      <th></th>\n",
       "      <th>surgery?</th>\n",
       "      <th>Age</th>\n",
       "      <th>rectal_temperature</th>\n",
       "      <th>respiratory_rate</th>\n",
       "      <th>pain</th>\n",
       "      <th>outcome</th>\n",
       "    </tr>\n",
       "    <tr>\n",
       "      <th>temperature_of_extremities</th>\n",
       "      <th>pulse</th>\n",
       "      <th></th>\n",
       "      <th></th>\n",
       "      <th></th>\n",
       "      <th></th>\n",
       "      <th></th>\n",
       "      <th></th>\n",
       "    </tr>\n",
       "  </thead>\n",
       "  <tbody>\n",
       "    <tr>\n",
       "      <th rowspan=\"5\" valign=\"top\">1.0</th>\n",
       "      <th>36.0</th>\n",
       "      <td>1.5</td>\n",
       "      <td>1.0</td>\n",
       "      <td>37.20</td>\n",
       "      <td>20.5</td>\n",
       "      <td>3.5</td>\n",
       "      <td>1.5</td>\n",
       "    </tr>\n",
       "    <tr>\n",
       "      <th>40.0</th>\n",
       "      <td>2.0</td>\n",
       "      <td>1.0</td>\n",
       "      <td>38.10</td>\n",
       "      <td>18.0</td>\n",
       "      <td>2.0</td>\n",
       "      <td>1.0</td>\n",
       "    </tr>\n",
       "    <tr>\n",
       "      <th>42.0</th>\n",
       "      <td>2.0</td>\n",
       "      <td>1.0</td>\n",
       "      <td>38.25</td>\n",
       "      <td>18.0</td>\n",
       "      <td>2.0</td>\n",
       "      <td>1.0</td>\n",
       "    </tr>\n",
       "    <tr>\n",
       "      <th>44.0</th>\n",
       "      <td>2.0</td>\n",
       "      <td>1.0</td>\n",
       "      <td>37.75</td>\n",
       "      <td>20.0</td>\n",
       "      <td>3.0</td>\n",
       "      <td>1.0</td>\n",
       "    </tr>\n",
       "    <tr>\n",
       "      <th>46.0</th>\n",
       "      <td>2.0</td>\n",
       "      <td>1.0</td>\n",
       "      <td>38.60</td>\n",
       "      <td>NaN</td>\n",
       "      <td>1.0</td>\n",
       "      <td>1.0</td>\n",
       "    </tr>\n",
       "    <tr>\n",
       "      <th>...</th>\n",
       "      <th>...</th>\n",
       "      <td>...</td>\n",
       "      <td>...</td>\n",
       "      <td>...</td>\n",
       "      <td>...</td>\n",
       "      <td>...</td>\n",
       "      <td>...</td>\n",
       "    </tr>\n",
       "    <tr>\n",
       "      <th rowspan=\"5\" valign=\"top\">4.0</th>\n",
       "      <th>110.0</th>\n",
       "      <td>2.0</td>\n",
       "      <td>1.0</td>\n",
       "      <td>39.40</td>\n",
       "      <td>35.0</td>\n",
       "      <td>NaN</td>\n",
       "      <td>1.0</td>\n",
       "    </tr>\n",
       "    <tr>\n",
       "      <th>112.0</th>\n",
       "      <td>1.0</td>\n",
       "      <td>1.0</td>\n",
       "      <td>NaN</td>\n",
       "      <td>13.0</td>\n",
       "      <td>2.0</td>\n",
       "      <td>1.0</td>\n",
       "    </tr>\n",
       "    <tr>\n",
       "      <th>120.0</th>\n",
       "      <td>1.0</td>\n",
       "      <td>1.0</td>\n",
       "      <td>38.85</td>\n",
       "      <td>60.0</td>\n",
       "      <td>3.5</td>\n",
       "      <td>2.0</td>\n",
       "    </tr>\n",
       "    <tr>\n",
       "      <th>130.0</th>\n",
       "      <td>2.0</td>\n",
       "      <td>1.0</td>\n",
       "      <td>38.20</td>\n",
       "      <td>16.0</td>\n",
       "      <td>2.0</td>\n",
       "      <td>3.0</td>\n",
       "    </tr>\n",
       "    <tr>\n",
       "      <th>164.0</th>\n",
       "      <td>1.0</td>\n",
       "      <td>2.0</td>\n",
       "      <td>39.10</td>\n",
       "      <td>84.0</td>\n",
       "      <td>2.0</td>\n",
       "      <td>2.0</td>\n",
       "    </tr>\n",
       "  </tbody>\n",
       "</table>\n",
       "<p>103 rows × 6 columns</p>\n",
       "</div>"
      ],
      "text/plain": [
       "                                  surgery?  Age  rectal_temperature  \\\n",
       "temperature_of_extremities pulse                                      \n",
       "1.0                        36.0        1.5  1.0               37.20   \n",
       "                           40.0        2.0  1.0               38.10   \n",
       "                           42.0        2.0  1.0               38.25   \n",
       "                           44.0        2.0  1.0               37.75   \n",
       "                           46.0        2.0  1.0               38.60   \n",
       "...                                    ...  ...                 ...   \n",
       "4.0                        110.0       2.0  1.0               39.40   \n",
       "                           112.0       1.0  1.0                 NaN   \n",
       "                           120.0       1.0  1.0               38.85   \n",
       "                           130.0       2.0  1.0               38.20   \n",
       "                           164.0       1.0  2.0               39.10   \n",
       "\n",
       "                                  respiratory_rate  pain  outcome  \n",
       "temperature_of_extremities pulse                                   \n",
       "1.0                        36.0               20.5   3.5      1.5  \n",
       "                           40.0               18.0   2.0      1.0  \n",
       "                           42.0               18.0   2.0      1.0  \n",
       "                           44.0               20.0   3.0      1.0  \n",
       "                           46.0                NaN   1.0      1.0  \n",
       "...                                            ...   ...      ...  \n",
       "4.0                        110.0              35.0   NaN      1.0  \n",
       "                           112.0              13.0   2.0      1.0  \n",
       "                           120.0              60.0   3.5      2.0  \n",
       "                           130.0              16.0   2.0      3.0  \n",
       "                           164.0              84.0   2.0      2.0  \n",
       "\n",
       "[103 rows x 6 columns]"
      ]
     },
     "execution_count": 413,
     "metadata": {},
     "output_type": "execute_result"
    }
   ],
   "source": [
    "horse_kolic_study_ = horse_kolic_study.copy()\n",
    "horse_kolic_study_.groupby(['temperature_of_extremities', 'pulse']).median()"
   ]
  },
  {
   "cell_type": "code",
   "execution_count": 414,
   "id": "e60fe983",
   "metadata": {},
   "outputs": [],
   "source": [
    "#выполним заполнение медианным значением\n",
    "horse_kolic_study_['rectal_temperature'] = horse_kolic_study_['rectal_temperature'].fillna(horse_kolic_study_.groupby(['temperature_of_extremities', 'pulse'])['rectal_temperature'].transform('median'))"
   ]
  },
  {
   "cell_type": "code",
   "execution_count": 310,
   "id": "d0f046bd",
   "metadata": {},
   "outputs": [
    {
     "data": {
      "text/plain": [
       "count    240.000000\n",
       "mean      38.167917\n",
       "std        0.732289\n",
       "min       35.400000\n",
       "25%       37.800000\n",
       "50%       38.200000\n",
       "75%       38.500000\n",
       "max       40.800000\n",
       "Name: rectal_temperature, dtype: float64"
      ]
     },
     "execution_count": 310,
     "metadata": {},
     "output_type": "execute_result"
    }
   ],
   "source": [
    "horse_kolic_study['rectal_temperature'].describe()"
   ]
  },
  {
   "cell_type": "code",
   "execution_count": 311,
   "id": "e5504e69",
   "metadata": {},
   "outputs": [
    {
     "data": {
      "text/plain": [
       "count    267.000000\n",
       "mean      38.192884\n",
       "std        0.721388\n",
       "min       35.400000\n",
       "25%       37.800000\n",
       "50%       38.200000\n",
       "75%       38.600000\n",
       "max       40.800000\n",
       "Name: rectal_temperature, dtype: float64"
      ]
     },
     "execution_count": 311,
     "metadata": {},
     "output_type": "execute_result"
    }
   ],
   "source": [
    "horse_kolic_study_['rectal_temperature'].describe()"
   ]
  },
  {
   "cell_type": "markdown",
   "id": "b0105409",
   "metadata": {},
   "source": [
    "# pulse\n",
    "Знамем, что животные с болезненными поражениями или страдающие от циркуляторного шока могут иметь повышенную частоту сердечных сокращений, а значит может зависить от уровня боли\n",
    "холодные или прохладные конечности указывают на возможный шок\n",
    "На основе вышесказанного заполним пропуски по пульсу"
   ]
  },
  {
   "cell_type": "code",
   "execution_count": 313,
   "id": "f541e99f",
   "metadata": {},
   "outputs": [],
   "source": [
    "#Заполним пропуски медианным значением\n",
    "horse_kolic_study_['pulse'] = horse_kolic_study_['pulse'].fillna(horse_kolic_study_.groupby(['temperature_of_extremities', 'pain'])['pulse'].transform('median'))"
   ]
  },
  {
   "cell_type": "code",
   "execution_count": 314,
   "id": "3e9dc936",
   "metadata": {},
   "outputs": [
    {
     "data": {
      "text/plain": [
       "count    291.000000\n",
       "mean      72.288660\n",
       "std       28.161343\n",
       "min       30.000000\n",
       "25%       48.000000\n",
       "50%       64.000000\n",
       "75%       90.000000\n",
       "max      184.000000\n",
       "Name: pulse, dtype: float64"
      ]
     },
     "execution_count": 314,
     "metadata": {},
     "output_type": "execute_result"
    }
   ],
   "source": [
    "horse_kolic_study_['pulse'].describe()"
   ]
  },
  {
   "cell_type": "code",
   "execution_count": 315,
   "id": "7513f2b1",
   "metadata": {},
   "outputs": [
    {
     "data": {
      "text/plain": [
       "count    276.000000\n",
       "mean      71.913043\n",
       "std       28.630557\n",
       "min       30.000000\n",
       "25%       48.000000\n",
       "50%       64.000000\n",
       "75%       88.000000\n",
       "max      184.000000\n",
       "Name: pulse, dtype: float64"
      ]
     },
     "execution_count": 315,
     "metadata": {},
     "output_type": "execute_result"
    }
   ],
   "source": [
    "horse_kolic_study['pulse'].describe()"
   ]
  },
  {
   "cell_type": "markdown",
   "id": "f23e4e85",
   "metadata": {},
   "source": [
    "### respiratory_rate\n",
    "несмотря на большой разброс частоты дыхания, можно предположить, что частота дыхания зависит от пульса и состояния лошади\n",
    "Рассчитаем среднее значение частоты дыхания в зависимости от этих показателей\n"
   ]
  },
  {
   "cell_type": "code",
   "execution_count": 415,
   "id": "02e81f60",
   "metadata": {},
   "outputs": [
    {
     "data": {
      "text/plain": [
       "pain  pulse\n",
       "1.0   40.0     16.0\n",
       "      42.0     14.0\n",
       "      44.0     40.0\n",
       "      45.0     16.0\n",
       "      46.0      NaN\n",
       "               ... \n",
       "5.0   100.0    30.0\n",
       "      112.0    24.0\n",
       "      120.0    28.0\n",
       "      136.0    48.0\n",
       "      150.0    50.0\n",
       "Name: respiratory_rate, Length: 111, dtype: float64"
      ]
     },
     "execution_count": 415,
     "metadata": {},
     "output_type": "execute_result"
    }
   ],
   "source": [
    "horse_kolic_study_.groupby(['pain', 'pulse'])['respiratory_rate'].median()"
   ]
  },
  {
   "cell_type": "code",
   "execution_count": 416,
   "id": "a5c90707",
   "metadata": {},
   "outputs": [],
   "source": [
    "horse_kolic_study_['respiratory_rate'] = horse_kolic_study_['respiratory_rate'].fillna(horse_kolic_study_.groupby(['pain', 'pulse'])['respiratory_rate'].transform('median'))"
   ]
  },
  {
   "cell_type": "code",
   "execution_count": 318,
   "id": "771d24a2",
   "metadata": {},
   "outputs": [
    {
     "data": {
      "text/plain": [
       "count    279.000000\n",
       "mean      30.430108\n",
       "std       16.872393\n",
       "min        8.000000\n",
       "25%       20.000000\n",
       "50%       27.000000\n",
       "75%       36.000000\n",
       "max       96.000000\n",
       "Name: respiratory_rate, dtype: float64"
      ]
     },
     "execution_count": 318,
     "metadata": {},
     "output_type": "execute_result"
    }
   ],
   "source": [
    "horse_kolic_study_['respiratory_rate'].describe()"
   ]
  },
  {
   "cell_type": "code",
   "execution_count": 319,
   "id": "97e02582",
   "metadata": {},
   "outputs": [
    {
     "data": {
      "text/plain": [
       "count    242.000000\n",
       "mean      30.417355\n",
       "std       17.642231\n",
       "min        8.000000\n",
       "25%       18.500000\n",
       "50%       24.500000\n",
       "75%       36.000000\n",
       "max       96.000000\n",
       "Name: respiratory_rate, dtype: float64"
      ]
     },
     "execution_count": 319,
     "metadata": {},
     "output_type": "execute_result"
    }
   ],
   "source": [
    "horse_kolic_study['respiratory_rate'].describe()"
   ]
  },
  {
   "cell_type": "markdown",
   "id": "8d1f4f0b",
   "metadata": {},
   "source": [
    "## pain\n",
    "pain чем больнее, тем больше вероятность того, что потребуется хирургическое вмешательство\n",
    "rectal_temperature - парметр меняется по мере развития проблемы\n",
    "Повышенная температура может возникнуть из-за инфекции.\n",
    "температура может быть снижена, когда животное находится в позднем шоке\n",
    "\n",
    "сформировав свод по параметрам факта операции и ректанольной температуры видим, что для непрооперированных лошадей уровень боли  повышен с низкой ректальной температурой, так как в состоянии шока она может снижаться.\n",
    "У прооперированных лошадей уровень боли снижен с более высокой ректальной температрой.\n",
    "\n",
    "\n"
   ]
  },
  {
   "cell_type": "code",
   "execution_count": 321,
   "id": "6e2ca65a",
   "metadata": {},
   "outputs": [
    {
     "data": {
      "text/plain": [
       "surgery?  rectal_temperature\n",
       "1.0       35.4                  4.0\n",
       "          36.4                  4.0\n",
       "          36.5                  4.0\n",
       "          36.8                  NaN\n",
       "          37.0                  4.0\n",
       "                               ... \n",
       "2.0       39.4                  NaN\n",
       "          39.5                  3.0\n",
       "          39.6                  2.0\n",
       "          40.0                  2.0\n",
       "          40.3                  2.0\n",
       "Name: pain, Length: 66, dtype: float64"
      ]
     },
     "execution_count": 321,
     "metadata": {},
     "output_type": "execute_result"
    }
   ],
   "source": [
    "horse_kolic_study_.groupby(['surgery?', 'rectal_temperature'])['pain'].median()"
   ]
  },
  {
   "cell_type": "code",
   "execution_count": 322,
   "id": "75158021",
   "metadata": {},
   "outputs": [],
   "source": [
    "horse_kolic_study_['pain'] = horse_kolic_study_['pain'].fillna(horse_kolic_study_.groupby(['surgery?', 'rectal_temperature'])['pain'].transform('median'))"
   ]
  },
  {
   "cell_type": "code",
   "execution_count": 323,
   "id": "f66398c8",
   "metadata": {},
   "outputs": [
    {
     "data": {
      "text/plain": [
       "count    285.000000\n",
       "mean       2.963158\n",
       "std        1.262770\n",
       "min        1.000000\n",
       "25%        2.000000\n",
       "50%        3.000000\n",
       "75%        4.000000\n",
       "max        5.000000\n",
       "Name: pain, dtype: float64"
      ]
     },
     "execution_count": 323,
     "metadata": {},
     "output_type": "execute_result"
    }
   ],
   "source": [
    "horse_kolic_study_['pain'].describe()"
   ]
  },
  {
   "cell_type": "code",
   "execution_count": 324,
   "id": "259f5880",
   "metadata": {},
   "outputs": [
    {
     "data": {
      "text/plain": [
       "count    245.00000\n",
       "mean       2.95102\n",
       "std        1.30794\n",
       "min        1.00000\n",
       "25%        2.00000\n",
       "50%        3.00000\n",
       "75%        4.00000\n",
       "max        5.00000\n",
       "Name: pain, dtype: float64"
      ]
     },
     "execution_count": 324,
     "metadata": {},
     "output_type": "execute_result"
    }
   ],
   "source": [
    "horse_kolic_study['pain'].describe()"
   ]
  },
  {
   "cell_type": "markdown",
   "id": "1a59e824",
   "metadata": {},
   "source": [
    "# temperature_of_extremities\n",
    "1 = нормальное\n",
    "2 = теплое\n",
    "3 = прохладное\n",
    "4 = холодное\n",
    "холодные или прохладные конечности указывают на возможный шок, зависит от\n",
    "горячие конечности должны коррелировать с повышенной ректальной температурой.\n"
   ]
  },
  {
   "cell_type": "code",
   "execution_count": 327,
   "id": "28e064c4",
   "metadata": {},
   "outputs": [
    {
     "data": {
      "text/plain": [
       "pulse  rectal_temperature\n",
       "30.0   37.8                  NaN\n",
       "       38.5                  NaN\n",
       "36.0   37.2                  1.0\n",
       "       38.0                  3.0\n",
       "38.0   37.6                  3.0\n",
       "                            ... \n",
       "150.0  38.8                  1.0\n",
       "       39.0                  NaN\n",
       "160.0  38.6                  3.0\n",
       "164.0  39.1                  4.0\n",
       "184.0  38.8                  1.0\n",
       "Name: temperature_of_extremities, Length: 189, dtype: float64"
      ]
     },
     "execution_count": 327,
     "metadata": {},
     "output_type": "execute_result"
    }
   ],
   "source": [
    "horse_kolic_study_.groupby(['pulse', 'rectal_temperature'])['temperature_of_extremities'].median()"
   ]
  },
  {
   "cell_type": "code",
   "execution_count": 328,
   "id": "3d5c2d3c",
   "metadata": {},
   "outputs": [],
   "source": [
    "horse_kolic_study_['temperature_of_extremities'] = horse_kolic_study_['temperature_of_extremities'].fillna(horse_kolic_study_.groupby(['rectal_temperature'])['temperature_of_extremities'].transform('median'))"
   ]
  },
  {
   "cell_type": "code",
   "execution_count": 329,
   "id": "233aca3e",
   "metadata": {},
   "outputs": [
    {
     "data": {
      "text/plain": [
       "count    244.000000\n",
       "mean       2.348361\n",
       "std        1.045054\n",
       "min        1.000000\n",
       "25%        1.000000\n",
       "50%        3.000000\n",
       "75%        3.000000\n",
       "max        4.000000\n",
       "Name: temperature_of_extremities, dtype: float64"
      ]
     },
     "execution_count": 329,
     "metadata": {},
     "output_type": "execute_result"
    }
   ],
   "source": [
    "horse_kolic_study['temperature_of_extremities'].describe()"
   ]
  },
  {
   "cell_type": "code",
   "execution_count": 330,
   "id": "316a352d",
   "metadata": {},
   "outputs": [
    {
     "data": {
      "text/plain": [
       "count    284.000000\n",
       "mean       2.339789\n",
       "std        1.023505\n",
       "min        1.000000\n",
       "25%        1.000000\n",
       "50%        3.000000\n",
       "75%        3.000000\n",
       "max        4.000000\n",
       "Name: temperature_of_extremities, dtype: float64"
      ]
     },
     "execution_count": 330,
     "metadata": {},
     "output_type": "execute_result"
    }
   ],
   "source": [
    "horse_kolic_study_['temperature_of_extremities'].describe()"
   ]
  },
  {
   "cell_type": "code",
   "execution_count": 332,
   "id": "155372ef",
   "metadata": {},
   "outputs": [
    {
     "data": {
      "text/html": [
       "<div>\n",
       "<style scoped>\n",
       "    .dataframe tbody tr th:only-of-type {\n",
       "        vertical-align: middle;\n",
       "    }\n",
       "\n",
       "    .dataframe tbody tr th {\n",
       "        vertical-align: top;\n",
       "    }\n",
       "\n",
       "    .dataframe thead th {\n",
       "        text-align: right;\n",
       "    }\n",
       "</style>\n",
       "<table border=\"1\" class=\"dataframe\">\n",
       "  <thead>\n",
       "    <tr style=\"text-align: right;\">\n",
       "      <th></th>\n",
       "      <th>surgery?</th>\n",
       "      <th>Age</th>\n",
       "      <th>rectal_temperature</th>\n",
       "      <th>pulse</th>\n",
       "      <th>respiratory_rate</th>\n",
       "      <th>temperature_of_extremities</th>\n",
       "      <th>pain</th>\n",
       "      <th>outcome</th>\n",
       "    </tr>\n",
       "  </thead>\n",
       "  <tbody>\n",
       "    <tr>\n",
       "      <th>132</th>\n",
       "      <td>NaN</td>\n",
       "      <td>1</td>\n",
       "      <td>38.0</td>\n",
       "      <td>48.0</td>\n",
       "      <td>20.0</td>\n",
       "      <td>3.0</td>\n",
       "      <td>4.0</td>\n",
       "      <td>NaN</td>\n",
       "    </tr>\n",
       "  </tbody>\n",
       "</table>\n",
       "</div>"
      ],
      "text/plain": [
       "     surgery?  Age  rectal_temperature  pulse  respiratory_rate  \\\n",
       "132       NaN    1                38.0   48.0              20.0   \n",
       "\n",
       "     temperature_of_extremities  pain  outcome  \n",
       "132                         3.0   4.0      NaN  "
      ]
     },
     "execution_count": 332,
     "metadata": {},
     "output_type": "execute_result"
    }
   ],
   "source": [
    "#Посмотрим на пропуск по surgery?\n",
    "horse_kolic_study_[horse_kolic_study_['surgery?'].isnull()]"
   ]
  },
  {
   "cell_type": "code",
   "execution_count": 418,
   "id": "81ae002a",
   "metadata": {},
   "outputs": [],
   "source": [
    "#видим, что все показатели в номре, кроме уровня боли. предположим, что это молодая лошадь с прерывистой сильной болью\n",
    "horse_kolic_study_['surgery?'] = horse_kolic_study_['surgery?'].fillna(2)"
   ]
  },
  {
   "cell_type": "code",
   "execution_count": 419,
   "id": "17c8bbd5",
   "metadata": {},
   "outputs": [
    {
     "data": {
      "text/plain": [
       "0"
      ]
     },
     "execution_count": 419,
     "metadata": {},
     "output_type": "execute_result"
    }
   ],
   "source": [
    "#Проверим наличие пропусков\n",
    "horse_kolic_study_['surgery?'].isna().sum()"
   ]
  },
  {
   "cell_type": "markdown",
   "id": "0bcb526c",
   "metadata": {},
   "source": [
    "Заполнили все возможные зависимые показатели, для остальные нельзя просто так удалить\n",
    "для заполнения пропусков заполним данными медианного значения по возрасту и была или нет операция\n",
    "для значения pain\n"
   ]
  },
  {
   "cell_type": "code",
   "execution_count": 420,
   "id": "eebcb5df",
   "metadata": {},
   "outputs": [],
   "source": [
    "horse_kolic_study_['pain'] = horse_kolic_study_['pain'].fillna(horse_kolic_study_.groupby(['surgery?', 'Age' ])['pain'].transform('median'))"
   ]
  },
  {
   "cell_type": "code",
   "execution_count": 421,
   "id": "ef0f0fe4",
   "metadata": {},
   "outputs": [],
   "source": [
    "#заполним пропуски по пульсу в соответствии с уровнем боли\n",
    "horse_kolic_study_['pulse'] = horse_kolic_study_['pulse'].fillna(horse_kolic_study_.groupby(['pain'])['pulse'].transform('median'))"
   ]
  },
  {
   "cell_type": "code",
   "execution_count": 422,
   "id": "aefd8058",
   "metadata": {},
   "outputs": [
    {
     "name": "stdout",
     "output_type": "stream",
     "text": [
      "<class 'pandas.core.frame.DataFrame'>\n",
      "RangeIndex: 300 entries, 0 to 299\n",
      "Data columns (total 8 columns):\n",
      " #   Column                      Non-Null Count  Dtype  \n",
      "---  ------                      --------------  -----  \n",
      " 0   surgery?                    300 non-null    float64\n",
      " 1   Age                         300 non-null    int64  \n",
      " 2   rectal_temperature          267 non-null    float64\n",
      " 3   pulse                       300 non-null    float64\n",
      " 4   respiratory_rate            270 non-null    float64\n",
      " 5   temperature_of_extremities  244 non-null    float64\n",
      " 6   pain                        300 non-null    float64\n",
      " 7   outcome                     299 non-null    float64\n",
      "dtypes: float64(7), int64(1)\n",
      "memory usage: 18.9 KB\n"
     ]
    }
   ],
   "source": [
    "horse_kolic_study_.info()"
   ]
  },
  {
   "cell_type": "code",
   "execution_count": 423,
   "id": "08725780",
   "metadata": {},
   "outputs": [],
   "source": [
    "#заполним пропуски по частоте дыхания в соответствии с уровнем боли и пульсу\n",
    "horse_kolic_study_['respiratory_rate'] = horse_kolic_study_['respiratory_rate'].fillna(horse_kolic_study_.groupby(['pain', 'pulse'])['respiratory_rate'].transform('mean'))"
   ]
  },
  {
   "cell_type": "code",
   "execution_count": 424,
   "id": "053e298b",
   "metadata": {},
   "outputs": [
    {
     "name": "stdout",
     "output_type": "stream",
     "text": [
      "<class 'pandas.core.frame.DataFrame'>\n",
      "RangeIndex: 300 entries, 0 to 299\n",
      "Data columns (total 8 columns):\n",
      " #   Column                      Non-Null Count  Dtype  \n",
      "---  ------                      --------------  -----  \n",
      " 0   surgery?                    300 non-null    float64\n",
      " 1   Age                         300 non-null    int64  \n",
      " 2   rectal_temperature          267 non-null    float64\n",
      " 3   pulse                       300 non-null    float64\n",
      " 4   respiratory_rate            293 non-null    float64\n",
      " 5   temperature_of_extremities  244 non-null    float64\n",
      " 6   pain                        300 non-null    float64\n",
      " 7   outcome                     299 non-null    float64\n",
      "dtypes: float64(7), int64(1)\n",
      "memory usage: 18.9 KB\n"
     ]
    }
   ],
   "source": [
    "horse_kolic_study_.info()"
   ]
  },
  {
   "cell_type": "code",
   "execution_count": 425,
   "id": "39aaba68",
   "metadata": {},
   "outputs": [],
   "source": [
    "#выполним заполнение медианным значением пропуски по ректальной температуре в зависимости от боли и пульса\n",
    "horse_kolic_study_['rectal_temperature'] = horse_kolic_study_['rectal_temperature'].fillna(horse_kolic_study_.groupby(['pain','pulse'])['rectal_temperature'].transform('median'))"
   ]
  },
  {
   "cell_type": "code",
   "execution_count": 426,
   "id": "1a6b39ac",
   "metadata": {},
   "outputs": [
    {
     "name": "stdout",
     "output_type": "stream",
     "text": [
      "<class 'pandas.core.frame.DataFrame'>\n",
      "RangeIndex: 300 entries, 0 to 299\n",
      "Data columns (total 8 columns):\n",
      " #   Column                      Non-Null Count  Dtype  \n",
      "---  ------                      --------------  -----  \n",
      " 0   surgery?                    300 non-null    float64\n",
      " 1   Age                         300 non-null    int64  \n",
      " 2   rectal_temperature          294 non-null    float64\n",
      " 3   pulse                       300 non-null    float64\n",
      " 4   respiratory_rate            293 non-null    float64\n",
      " 5   temperature_of_extremities  244 non-null    float64\n",
      " 6   pain                        300 non-null    float64\n",
      " 7   outcome                     299 non-null    float64\n",
      "dtypes: float64(7), int64(1)\n",
      "memory usage: 18.9 KB\n"
     ]
    }
   ],
   "source": [
    "horse_kolic_study_.info()"
   ]
  },
  {
   "cell_type": "code",
   "execution_count": 427,
   "id": "786cd95b",
   "metadata": {},
   "outputs": [],
   "source": [
    "#выполним заполнение медианным значением'temperature_of_extremities' в зависимости от пульса и 'rectal_temperature'\n",
    "horse_kolic_study_['temperature_of_extremities'] = horse_kolic_study_['temperature_of_extremities'].fillna(horse_kolic_study_.groupby(['pulse', 'rectal_temperature'])['temperature_of_extremities'].transform('median'))"
   ]
  },
  {
   "cell_type": "code",
   "execution_count": 428,
   "id": "7aefd8f4",
   "metadata": {},
   "outputs": [
    {
     "name": "stdout",
     "output_type": "stream",
     "text": [
      "<class 'pandas.core.frame.DataFrame'>\n",
      "RangeIndex: 300 entries, 0 to 299\n",
      "Data columns (total 8 columns):\n",
      " #   Column                      Non-Null Count  Dtype  \n",
      "---  ------                      --------------  -----  \n",
      " 0   surgery?                    300 non-null    float64\n",
      " 1   Age                         300 non-null    int64  \n",
      " 2   rectal_temperature          294 non-null    float64\n",
      " 3   pulse                       300 non-null    float64\n",
      " 4   respiratory_rate            293 non-null    float64\n",
      " 5   temperature_of_extremities  269 non-null    float64\n",
      " 6   pain                        300 non-null    float64\n",
      " 7   outcome                     299 non-null    float64\n",
      "dtypes: float64(7), int64(1)\n",
      "memory usage: 18.9 KB\n"
     ]
    }
   ],
   "source": [
    "horse_kolic_study_.info()"
   ]
  },
  {
   "cell_type": "markdown",
   "id": "ae7109d1",
   "metadata": {},
   "source": [
    "Больше не можем заполнять в соответствии с зависимости от изменения ближайших показателей.\n",
    "Предположим, что для исхода была предрасположенность по показателям rectal_temperature, respiratory_rate, temperature_of_extremities"
   ]
  },
  {
   "cell_type": "code",
   "execution_count": 429,
   "id": "43521918",
   "metadata": {},
   "outputs": [],
   "source": [
    "# Выполним заполнение пропусков в соответствии с исходом\n",
    "horse_kolic_study_['rectal_temperature'] = horse_kolic_study_['rectal_temperature'].fillna(horse_kolic_study_.groupby('outcome')['rectal_temperature'].transform('median'))\n"
   ]
  },
  {
   "cell_type": "code",
   "execution_count": 430,
   "id": "1a201e22",
   "metadata": {},
   "outputs": [],
   "source": [
    "horse_kolic_study_['respiratory_rate'] = horse_kolic_study_['respiratory_rate'].fillna(horse_kolic_study_.groupby('outcome')['respiratory_rate'].transform('median'))\n"
   ]
  },
  {
   "cell_type": "code",
   "execution_count": 431,
   "id": "6af2d6cb",
   "metadata": {},
   "outputs": [],
   "source": [
    "horse_kolic_study_['temperature_of_extremities'] = horse_kolic_study_['temperature_of_extremities'].fillna(horse_kolic_study_.groupby('outcome')['temperature_of_extremities'].transform('median'))"
   ]
  },
  {
   "cell_type": "code",
   "execution_count": 432,
   "id": "7c07f980",
   "metadata": {},
   "outputs": [
    {
     "name": "stdout",
     "output_type": "stream",
     "text": [
      "<class 'pandas.core.frame.DataFrame'>\n",
      "RangeIndex: 300 entries, 0 to 299\n",
      "Data columns (total 8 columns):\n",
      " #   Column                      Non-Null Count  Dtype  \n",
      "---  ------                      --------------  -----  \n",
      " 0   surgery?                    300 non-null    float64\n",
      " 1   Age                         300 non-null    int64  \n",
      " 2   rectal_temperature          300 non-null    float64\n",
      " 3   pulse                       300 non-null    float64\n",
      " 4   respiratory_rate            300 non-null    float64\n",
      " 5   temperature_of_extremities  300 non-null    float64\n",
      " 6   pain                        300 non-null    float64\n",
      " 7   outcome                     299 non-null    float64\n",
      "dtypes: float64(7), int64(1)\n",
      "memory usage: 18.9 KB\n"
     ]
    }
   ],
   "source": [
    "horse_kolic_study_.info()"
   ]
  },
  {
   "cell_type": "code",
   "execution_count": 433,
   "id": "74a2d4d5",
   "metadata": {},
   "outputs": [
    {
     "data": {
      "text/html": [
       "<div>\n",
       "<style scoped>\n",
       "    .dataframe tbody tr th:only-of-type {\n",
       "        vertical-align: middle;\n",
       "    }\n",
       "\n",
       "    .dataframe tbody tr th {\n",
       "        vertical-align: top;\n",
       "    }\n",
       "\n",
       "    .dataframe thead th {\n",
       "        text-align: right;\n",
       "    }\n",
       "</style>\n",
       "<table border=\"1\" class=\"dataframe\">\n",
       "  <thead>\n",
       "    <tr style=\"text-align: right;\">\n",
       "      <th></th>\n",
       "      <th>surgery?</th>\n",
       "      <th>Age</th>\n",
       "      <th>rectal_temperature</th>\n",
       "      <th>pulse</th>\n",
       "      <th>respiratory_rate</th>\n",
       "      <th>temperature_of_extremities</th>\n",
       "      <th>pain</th>\n",
       "      <th>outcome</th>\n",
       "    </tr>\n",
       "  </thead>\n",
       "  <tbody>\n",
       "    <tr>\n",
       "      <th>132</th>\n",
       "      <td>2.0</td>\n",
       "      <td>1</td>\n",
       "      <td>38.0</td>\n",
       "      <td>48.0</td>\n",
       "      <td>20.0</td>\n",
       "      <td>3.0</td>\n",
       "      <td>4.0</td>\n",
       "      <td>NaN</td>\n",
       "    </tr>\n",
       "  </tbody>\n",
       "</table>\n",
       "</div>"
      ],
      "text/plain": [
       "     surgery?  Age  rectal_temperature  pulse  respiratory_rate  \\\n",
       "132       2.0    1                38.0   48.0              20.0   \n",
       "\n",
       "     temperature_of_extremities  pain  outcome  \n",
       "132                         3.0   4.0      NaN  "
      ]
     },
     "execution_count": 433,
     "metadata": {},
     "output_type": "execute_result"
    }
   ],
   "source": [
    "horse_kolic_study_[horse_kolic_study_['outcome'].isnull()]"
   ]
  },
  {
   "cell_type": "code",
   "execution_count": 436,
   "id": "66fbbdd4",
   "metadata": {},
   "outputs": [],
   "source": [
    "#Предположим, что исход зависит от пульса и ректальной температуры \n",
    "horse_kolic_study_['outcome'] = horse_kolic_study_['outcome'].fillna(horse_kolic_study_.groupby(['rectal_temperature', 'pulse'])['outcome'].transform('mean'))"
   ]
  },
  {
   "cell_type": "code",
   "execution_count": 437,
   "id": "6a331192",
   "metadata": {},
   "outputs": [
    {
     "name": "stdout",
     "output_type": "stream",
     "text": [
      "<class 'pandas.core.frame.DataFrame'>\n",
      "RangeIndex: 300 entries, 0 to 299\n",
      "Data columns (total 8 columns):\n",
      " #   Column                      Non-Null Count  Dtype  \n",
      "---  ------                      --------------  -----  \n",
      " 0   surgery?                    300 non-null    float64\n",
      " 1   Age                         300 non-null    int64  \n",
      " 2   rectal_temperature          300 non-null    float64\n",
      " 3   pulse                       300 non-null    float64\n",
      " 4   respiratory_rate            300 non-null    float64\n",
      " 5   temperature_of_extremities  300 non-null    float64\n",
      " 6   pain                        300 non-null    float64\n",
      " 7   outcome                     300 non-null    float64\n",
      "dtypes: float64(7), int64(1)\n",
      "memory usage: 18.9 KB\n"
     ]
    }
   ],
   "source": [
    "horse_kolic_study_.info()"
   ]
  },
  {
   "cell_type": "code",
   "execution_count": 438,
   "id": "4d2f8900",
   "metadata": {},
   "outputs": [
    {
     "data": {
      "text/plain": [
       "surgery?                      0\n",
       "Age                           0\n",
       "rectal_temperature            0\n",
       "pulse                         0\n",
       "respiratory_rate              0\n",
       "temperature_of_extremities    0\n",
       "pain                          0\n",
       "outcome                       0\n",
       "dtype: int64"
      ]
     },
     "execution_count": 438,
     "metadata": {},
     "output_type": "execute_result"
    }
   ],
   "source": [
    "horse_kolic_study_.isna().sum()"
   ]
  },
  {
   "cell_type": "code",
   "execution_count": null,
   "id": "5cde398a",
   "metadata": {},
   "outputs": [],
   "source": []
  }
 ],
 "metadata": {
  "kernelspec": {
   "display_name": "Python 3",
   "language": "python",
   "name": "python3"
  },
  "language_info": {
   "codemirror_mode": {
    "name": "ipython",
    "version": 3
   },
   "file_extension": ".py",
   "mimetype": "text/x-python",
   "name": "python",
   "nbconvert_exporter": "python",
   "pygments_lexer": "ipython3",
   "version": "3.8.8"
  }
 },
 "nbformat": 4,
 "nbformat_minor": 5
}
