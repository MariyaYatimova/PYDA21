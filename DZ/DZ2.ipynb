{
 "cells": [
  {
   "cell_type": "markdown",
   "id": "0547263a",
   "metadata": {},
   "source": [
    "### Задание 1"
   ]
  },
  {
   "cell_type": "code",
   "execution_count": 187,
   "id": "22ff77f0",
   "metadata": {},
   "outputs": [
    {
     "data": {
      "text/plain": [
       "{15, 35, 54, 98, 119, 213}"
      ]
     },
     "execution_count": 187,
     "metadata": {},
     "output_type": "execute_result"
    }
   ],
   "source": [
    "ids = {\n",
    "    'user1': [213, 213, 213, 15, 213],\n",
    "    'user2': [54, 54, 119, 119, 119],\n",
    "    'user3': [213, 98, 98, 35]\n",
    "}\n",
    "\n",
    "list_geo = []\n",
    "for geo in ids.values():\n",
    "    list_geo += geo\n",
    "set(list_geo)"
   ]
  },
  {
   "cell_type": "markdown",
   "id": "320977ce",
   "metadata": {},
   "source": [
    "### Задание 2 "
   ]
  },
  {
   "cell_type": "code",
   "execution_count": 186,
   "id": "a9f7042b",
   "metadata": {},
   "outputs": [
    {
     "name": "stdout",
     "output_type": "stream",
     "text": [
      "Запросов, содержащих 2 слов(а) 33.33 %\n",
      "Запросов, содержащих 3 слов(а) 44.44 %\n",
      "Запросов, содержащих 4 слов(а) 11.11 %\n",
      "Запросов, содержащих 6 слов(а) 11.11 %\n"
     ]
    }
   ],
   "source": [
    "queries = [\n",
    "    'смотреть сериалы онлайн',\n",
    "    'новости спорта',\n",
    "    'афиша кино',\n",
    "    'курс доллара',\n",
    "    'сериалы этим летом',\n",
    "    'курс по питону',\n",
    "    'сериалы про спорт',\n",
    "    'смотреть фильм онлайн в хорошем качестве',\n",
    "    'Скачать и смотреть фильм'\n",
    "]\n",
    "\n",
    "my = []\n",
    "sh = 1\n",
    "for i in range(len(queries)):\n",
    "    my.append(len(queries[i].split()))\n",
    "for k in my:\n",
    "    sh += 1\n",
    "    if my.count(sh) != 0:\n",
    "        correlations = round((100*my.count(sh)/len(my)),2)\n",
    "        print('Запросов, содержащих', sh, 'слов(а)', correlations, '%')"
   ]
  },
  {
   "cell_type": "markdown",
   "id": "492e9aad",
   "metadata": {},
   "source": [
    "### Задание 3"
   ]
  },
  {
   "cell_type": "code",
   "execution_count": 175,
   "id": "94ddc1b2",
   "metadata": {},
   "outputs": [],
   "source": [
    "results = {\n",
    "    'vk': {'revenue': 103, 'cost': 98},\n",
    "    'yandex': {'revenue': 179, 'cost': 153},\n",
    "    'facebook': {'revenue': 103, 'cost': 110},\n",
    "    'adwords': {'revenue': 35, 'cost': 34},\n",
    "    'twitter': {'revenue': 11, 'cost': 24},\n",
    "}\n"
   ]
  },
  {
   "cell_type": "code",
   "execution_count": 182,
   "id": "5e356221",
   "metadata": {},
   "outputs": [
    {
     "data": {
      "text/plain": [
       "{'vk': {'revenue': 103, 'cost': 98, 'ROI': 5.1},\n",
       " 'yandex': {'revenue': 179, 'cost': 153, 'ROI': 16.99},\n",
       " 'facebook': {'revenue': 103, 'cost': 110, 'ROI': -6.36},\n",
       " 'adwords': {'revenue': 35, 'cost': 34, 'ROI': 2.94},\n",
       " 'twitter': {'revenue': 11, 'cost': 24, 'ROI': -54.17}}"
      ]
     },
     "execution_count": 182,
     "metadata": {},
     "output_type": "execute_result"
    }
   ],
   "source": [
    "for key_, val in results.items():\n",
    "    results[key_]['ROI'] = round(((val['revenue'] / val['cost'] - 1) * 100),2)\n",
    "results"
   ]
  },
  {
   "cell_type": "markdown",
   "id": "dbb2c354",
   "metadata": {},
   "source": [
    "### Задание 4"
   ]
  },
  {
   "cell_type": "code",
   "execution_count": 259,
   "id": "420d2714",
   "metadata": {},
   "outputs": [],
   "source": [
    "stats = {'facebook': 667, 'yandex': 557, 'vk': 120, 'google': 99, 'email': 42, 'ok': 98}"
   ]
  },
  {
   "cell_type": "code",
   "execution_count": 286,
   "id": "fdb0ab7f",
   "metadata": {},
   "outputs": [
    {
     "name": "stdout",
     "output_type": "stream",
     "text": [
      "max объем продаж на канале: facebook\n"
     ]
    }
   ],
   "source": [
    "for key, val in stats.items():\n",
    "    if key == max(stats, key=stats.get):\n",
    "        print('max объем продаж на канале:',key)\n",
    "   \n",
    "    \n",
    "    "
   ]
  },
  {
   "cell_type": "code",
   "execution_count": null,
   "id": "42d0a685",
   "metadata": {},
   "outputs": [],
   "source": []
  }
 ],
 "metadata": {
  "kernelspec": {
   "display_name": "Python 3",
   "language": "python",
   "name": "python3"
  },
  "language_info": {
   "codemirror_mode": {
    "name": "ipython",
    "version": 3
   },
   "file_extension": ".py",
   "mimetype": "text/x-python",
   "name": "python",
   "nbconvert_exporter": "python",
   "pygments_lexer": "ipython3",
   "version": "3.8.8"
  }
 },
 "nbformat": 4,
 "nbformat_minor": 5
}
