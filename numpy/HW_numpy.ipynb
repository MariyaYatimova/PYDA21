{
 "cells": [
  {
   "cell_type": "code",
   "execution_count": 1,
   "id": "de692295",
   "metadata": {},
   "outputs": [],
   "source": [
    "import numpy as np"
   ]
  },
  {
   "cell_type": "markdown",
   "id": "6a80643c",
   "metadata": {},
   "source": [
    "# Задание 1\n",
    "Создайте numpy array с элементами от числа N до 0 (например, для N = 10 это будет array([9, 8, 7, 6, 5, 4, 3, 2, 1, 0]))."
   ]
  },
  {
   "cell_type": "code",
   "execution_count": 2,
   "id": "d886657a",
   "metadata": {},
   "outputs": [
    {
     "name": "stdout",
     "output_type": "stream",
     "text": [
      "Введите число N = 7\n"
     ]
    },
    {
     "data": {
      "text/plain": [
       "array([6, 5, 4, 3, 2, 1, 0])"
      ]
     },
     "execution_count": 2,
     "metadata": {},
     "output_type": "execute_result"
    }
   ],
   "source": [
    "n = int(input('Введите число N = '))\n",
    "np.arange(n)[::-1]"
   ]
  },
  {
   "cell_type": "markdown",
   "id": "5ef26e37",
   "metadata": {},
   "source": [
    "# Задание 2\n",
    "Создайте диагональную матрицу с элементами от N до 0. Посчитайте сумму ее значений на диагонали."
   ]
  },
  {
   "cell_type": "code",
   "execution_count": 18,
   "id": "d27be069",
   "metadata": {},
   "outputs": [
    {
     "name": "stdout",
     "output_type": "stream",
     "text": [
      "Введите число N = 12\n"
     ]
    },
    {
     "data": {
      "text/plain": [
       "array([[11,  0,  0,  0,  0,  0,  0,  0,  0,  0,  0,  0],\n",
       "       [ 0, 10,  0,  0,  0,  0,  0,  0,  0,  0,  0,  0],\n",
       "       [ 0,  0,  9,  0,  0,  0,  0,  0,  0,  0,  0,  0],\n",
       "       [ 0,  0,  0,  8,  0,  0,  0,  0,  0,  0,  0,  0],\n",
       "       [ 0,  0,  0,  0,  7,  0,  0,  0,  0,  0,  0,  0],\n",
       "       [ 0,  0,  0,  0,  0,  6,  0,  0,  0,  0,  0,  0],\n",
       "       [ 0,  0,  0,  0,  0,  0,  5,  0,  0,  0,  0,  0],\n",
       "       [ 0,  0,  0,  0,  0,  0,  0,  4,  0,  0,  0,  0],\n",
       "       [ 0,  0,  0,  0,  0,  0,  0,  0,  3,  0,  0,  0],\n",
       "       [ 0,  0,  0,  0,  0,  0,  0,  0,  0,  2,  0,  0],\n",
       "       [ 0,  0,  0,  0,  0,  0,  0,  0,  0,  0,  1,  0],\n",
       "       [ 0,  0,  0,  0,  0,  0,  0,  0,  0,  0,  0,  0]])"
      ]
     },
     "execution_count": 18,
     "metadata": {},
     "output_type": "execute_result"
    }
   ],
   "source": [
    "n = int(input('Введите число N = '))\n",
    "b = np.diag(np.arange(n)[::-1], k=0)\n",
    "b"
   ]
  },
  {
   "cell_type": "code",
   "execution_count": 19,
   "id": "4a84c67d",
   "metadata": {},
   "outputs": [
    {
     "data": {
      "text/plain": [
       "66"
      ]
     },
     "execution_count": 19,
     "metadata": {},
     "output_type": "execute_result"
    }
   ],
   "source": [
    "# Сумма значений на диагонали\n",
    "np.trace(b)"
   ]
  },
  {
   "cell_type": "markdown",
   "id": "375a12ed",
   "metadata": {},
   "source": [
    "# Задание 3\n",
    "Решите систему уравнений:\n",
    "#### 4x + 2y + z = 4\n",
    "#### x + 3y = 12\n",
    "#### 5y + 4z = -3"
   ]
  },
  {
   "cell_type": "code",
   "execution_count": 5,
   "id": "b0c20dcf",
   "metadata": {},
   "outputs": [],
   "source": [
    "a = np.array( [ [4, 2, 1],[1, 3, 0],[0, 5, 4] ])\n",
    "b = np.array( [4, 12, -3])"
   ]
  },
  {
   "cell_type": "code",
   "execution_count": 6,
   "id": "03cf260e",
   "metadata": {},
   "outputs": [],
   "source": [
    "from numpy import linalg"
   ]
  },
  {
   "cell_type": "code",
   "execution_count": 7,
   "id": "6bd0d02a",
   "metadata": {},
   "outputs": [
    {
     "data": {
      "text/plain": [
       "array([ 0.46666667,  3.84444444, -5.55555556])"
      ]
     },
     "execution_count": 7,
     "metadata": {},
     "output_type": "execute_result"
    }
   ],
   "source": [
    "linalg.solve(a,b)"
   ]
  },
  {
   "cell_type": "code",
   "execution_count": 8,
   "id": "62ae19b0",
   "metadata": {},
   "outputs": [
    {
     "data": {
      "text/plain": [
       "True"
      ]
     },
     "execution_count": 8,
     "metadata": {},
     "output_type": "execute_result"
    }
   ],
   "source": [
    "np.allclose( np.dot(a, linalg.solve(a, b)), b)"
   ]
  },
  {
   "cell_type": "markdown",
   "id": "8be32ba4",
   "metadata": {},
   "source": [
    "# Задание 4"
   ]
  },
  {
   "cell_type": "code",
   "execution_count": 9,
   "id": "eecaafeb",
   "metadata": {},
   "outputs": [],
   "source": [
    "users_stats = np.array(\n",
    "    [\n",
    "        [2, 1, 0, 0, 0, 0],\n",
    "        [1, 1, 2, 1, 0, 0],\n",
    "        [2, 0, 1, 0, 0, 0],\n",
    "        [1, 1, 2, 1, 0, 1],\n",
    "        [0, 0, 1, 2, 0, 0],\n",
    "        [0, 0, 0, 0, 0, 5],\n",
    "        [1, 0, 0, 0, 0, 0],\n",
    "        [0, 1, 1, 0, 0, 0],\n",
    "        [0, 0, 0, 1, 1, 3],\n",
    "        [1, 0, 0, 2, 1, 4]\n",
    "    ], \n",
    "    np.int32\n",
    ")"
   ]
  },
  {
   "cell_type": "code",
   "execution_count": 10,
   "id": "5ea70f95",
   "metadata": {},
   "outputs": [],
   "source": [
    "#новый покупатель\n",
    "next_user_stats = np.array([0, 1, 2, 0, 0, 0])"
   ]
  },
  {
   "cell_type": "code",
   "execution_count": 11,
   "id": "9d13ad78",
   "metadata": {},
   "outputs": [
    {
     "data": {
      "text/plain": [
       "array([1, 5, 2, 5, 2, 0, 0, 3, 0, 0])"
      ]
     },
     "execution_count": 11,
     "metadata": {},
     "output_type": "execute_result"
    }
   ],
   "source": [
    "#рассчитаем скалярное произведение между векторами старых и нового покупателей\n",
    "np.dot(users_stats, next_user_stats)"
   ]
  },
  {
   "cell_type": "code",
   "execution_count": 12,
   "id": "16dcd866",
   "metadata": {},
   "outputs": [],
   "source": [
    "# далее, рассчитаем косинусное сходство\n",
    "#импортируем matplotlib.pyplot\n",
    "\n",
    "import matplotlib.pyplot as plt"
   ]
  },
  {
   "cell_type": "code",
   "execution_count": 13,
   "id": "6b02bde0",
   "metadata": {},
   "outputs": [],
   "source": [
    "#формула для подсчета косинусного угла\n",
    "def cosine_1 (users_stats, next_user_stats):\n",
    "    '''\n",
    "    Подсчет косинуса угла между векторами массива users_stats и next_user_stats по их координатам\n",
    "    '''\n",
    "    #длины векторов\n",
    "    aLength = np.linalg.norm( users_stats )\n",
    "    bLength = np.linalg.norm( next_user_stats )\n",
    "    \n",
    "    return np.dot(users_stats,next_user_stats) / (aLength * bLength )"
   ]
  },
  {
   "cell_type": "code",
   "execution_count": 14,
   "id": "450043a9",
   "metadata": {},
   "outputs": [],
   "source": [
    "cos_array = cosine_1 (users_stats, next_user_stats)"
   ]
  },
  {
   "cell_type": "code",
   "execution_count": 15,
   "id": "69adfb9f",
   "metadata": {},
   "outputs": [
    {
     "data": {
      "text/plain": [
       "0.2344036154692477"
      ]
     },
     "execution_count": 15,
     "metadata": {},
     "output_type": "execute_result"
    }
   ],
   "source": [
    "# Найдем максимальное значение сходства для дальнейшей рекомендации\n",
    "recom = max(cos_array)\n",
    "recom"
   ]
  },
  {
   "cell_type": "code",
   "execution_count": 16,
   "id": "f4962785",
   "metadata": {},
   "outputs": [
    {
     "name": "stdout",
     "output_type": "stream",
     "text": [
      "похожий пользователь id = 2 , косинусное сходство = 0.2344036154692477\n",
      "похожий пользователь id = 4 , косинусное сходство = 0.2344036154692477\n"
     ]
    }
   ],
   "source": [
    "for i, cos in enumerate(cos_array):\n",
    "    if cos == recom:\n",
    "        print('похожий пользователь id =',i+1, ', косинусное сходство =', cos)"
   ]
  },
  {
   "cell_type": "code",
   "execution_count": null,
   "id": "22fa3077",
   "metadata": {},
   "outputs": [],
   "source": []
  }
 ],
 "metadata": {
  "kernelspec": {
   "display_name": "Python 3",
   "language": "python",
   "name": "python3"
  },
  "language_info": {
   "codemirror_mode": {
    "name": "ipython",
    "version": 3
   },
   "file_extension": ".py",
   "mimetype": "text/x-python",
   "name": "python",
   "nbconvert_exporter": "python",
   "pygments_lexer": "ipython3",
   "version": "3.8.8"
  }
 },
 "nbformat": 4,
 "nbformat_minor": 5
}
