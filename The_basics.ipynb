{
 "cells": [
  {
   "cell_type": "markdown",
   "id": "33875617",
   "metadata": {},
   "source": [
    "# Задание 1\n",
    "Даны 2 переменных, в которых хранятся строки произвольной длины: phrase_1 и phrase_2.\n",
    "Напишите код, который проверяет какая из этих строк длиннее."
   ]
  },
  {
   "cell_type": "code",
   "execution_count": 59,
   "id": "7a92de15",
   "metadata": {},
   "outputs": [
    {
     "name": "stdout",
     "output_type": "stream",
     "text": [
      "Введите произвульную фаразу: Большинство проблем только у нас в голове\n",
      "Введите вторую произвульную фаразу: практика - залог успеха\n",
      "Фраза 1 длиннее фразы 2\n"
     ]
    }
   ],
   "source": [
    "phrase_1 = input('Введите произвульную фаразу: ')\n",
    "phrase_2 = input('Введите вторую произвульную фаразу: ')\n",
    "if len(phrase_1) > len(phrase_2):\n",
    "    print('Фраза 1 длиннее фразы 2')\n",
    "elif len(phrase_2) > len(phrase_1):\n",
    "    print('Фраза 2 длиннее фразы 1')\n",
    "else:\n",
    "    print('Фразы равны по длине')"
   ]
  },
  {
   "cell_type": "markdown",
   "id": "947c068e",
   "metadata": {},
   "source": [
    "# Задание 2\n",
    "Дана переменная, в которой хранится четырехзначное число (год). \n",
    "Необходимо написать программу, которая выведет, \n",
    "является ли данный год високосным или обычным."
   ]
  },
  {
   "cell_type": "code",
   "execution_count": 10,
   "id": "98d2204a",
   "metadata": {},
   "outputs": [
    {
     "name": "stdout",
     "output_type": "stream",
     "text": [
      "введите год для проверки: 2020\n",
      "год 2020 является високосным\n"
     ]
    }
   ],
   "source": [
    "year = int(input('введите год для проверки: '))\n",
    "if year % 4 != 0 or (year %100 == 0 and year % 400 != 0):\n",
    "    print(f'год {year} не является високосным')\n",
    "else:\n",
    "    print(f'год {year} является високосным')"
   ]
  },
  {
   "cell_type": "markdown",
   "id": "d7f0d8c9",
   "metadata": {},
   "source": [
    "# Задание 3\n",
    "Необходимо написать программу, которая будет запрашивать у пользователя месяц и дату рождения и выводить соответствующий знак зодиака."
   ]
  },
  {
   "cell_type": "code",
   "execution_count": 60,
   "id": "05a41ee3",
   "metadata": {},
   "outputs": [
    {
     "name": "stdout",
     "output_type": "stream",
     "text": [
      "Введите день рождения, от 1 до 31:  26\n",
      "Введите месяц рождения прописью в именительном падеже:  декабрь\n",
      "Ваш знак зодиака: Козерог\n"
     ]
    }
   ],
   "source": [
    "date = int(input ('Введите день рождения, от 1 до 31:  '))\n",
    "\n",
    "month = input('Введите месяц рождения прописью в именительном падеже:  ')\n",
    "\n",
    "if (month.capitalize() == 'Март' and 21 <= date <= 31) or (month.capitalize() == 'Апрель' and 1 <= date <= 19):\n",
    "    print('Ваш знак зодиака: Овен')\n",
    "elif (month.capitalize() == 'Апрель' and 20 <= date <= 31) or (month.capitalize() == 'Май' and 1 <= date <= 20):\n",
    "    print('Ваш знак зодиака: Телец')\n",
    "elif (month.capitalize() == 'Май' and 21 <= date <= 31) or (month.capitalize() == 'Июнь' and 1 <= date <= 21):\n",
    "    print('Ваш знак зодиака: Близнецы')\n",
    "elif (month.capitalize() == 'Июнь' and 22 <= date <= 30) or (month.capitalize() == 'Июль' and 1 <= date <= 22):\n",
    "    print('Ваш знак зодиака: Рак')\n",
    "elif (month.capitalize() == 'Июль' and 23 <= date <= 31) or (month.capitalize() == 'Август' and 1 <= date <= 22):\n",
    "    print('Ваш знак зодиака: Лев')\n",
    "elif (month.capitalize() == 'Август' and 23 <= date <= 31) or (month.capitalize() == 'Сентябрь' and 1 <= date <= 22):\n",
    "    print('Ваш знак зодиака: Дева')\n",
    "elif (month.capitalize() == 'Сентябрь' and 23 <= date <= 30) or (month.capitalize() == 'Октябрь' and 1 <= date <= 23):\n",
    "    print('Ваш знак зодиака: Весы')\n",
    "elif (month.capitalize() == 'Октябрь' and 24 <= date <= 31) or (month.capitalize() == 'Ноябрь' and 1 <= date <= 22):\n",
    "    print('Ваш знак зодиака: Скорпион')\n",
    "elif (month.capitalize() == 'Ноябрь' and 23 <= date <= 30) or (month.capitalize() == 'Декабрь' and 1 <= date <= 21):\n",
    "    print('Ваш знак зодиака: Стрелец')\n",
    "elif (month.capitalize() == 'Декабрь' and 22 <= date <= 31) or (month.capitalize() == 'Январь' and 1 <= date <= 20):\n",
    "    print('Ваш знак зодиака: Козерог')\n",
    "elif (month.capitalize() == 'Январь' and 21 <= date <= 31) or (month.capitalize() == 'Февраль' and 1 <= date <= 18):\n",
    "    print('Ваш знак зодиака: Водолей')\n",
    "elif (month.capitalize() == 'Февраль' and 19 <= date <= 29) or (month.capitalize() == 'Март' and 1 <= date <= 20):\n",
    "    print('Ваш знак зодиака: Рыбы')\n",
    "else:\n",
    "    print('Ой, кажется, Вы ввели неправильные данные. Уточните Месяц или день рождения') "
   ]
  },
  {
   "cell_type": "markdown",
   "id": "7ac8fd73",
   "metadata": {},
   "source": [
    "# Задание 4\n",
    "Вам нужно написать программу для подбора упаковок по размерам товара. Размеры (ширина, длина, высота) хранятся в переменных (в сантиметрах):\n",
    "\n",
    "Используйте следующие правила:\n",
    "\n",
    "если каждое из трех измерений менее или равно 15 сантиметрам, то выведите на экран “Коробка №1”;\n",
    "если хотя бы одно из измерений больше 15 сантиметров, но менее 50 сантиметров, то выводите “Коробка №2”;\n",
    "если длина товара больше 2 метров, то выводите “Упаковка для лыж”;\n",
    "во всех остальных случаях выводите “Стандартная коробка №3”.\n",
    "Пример работы программы:"
   ]
  },
  {
   "cell_type": "code",
   "execution_count": 61,
   "id": "e5c283a3",
   "metadata": {},
   "outputs": [
    {
     "name": "stdout",
     "output_type": "stream",
     "text": [
      "введите ширину товара в сантиметрах: 60\n",
      "введите длину товара в сантиметрах: 222.5\n",
      "введите высоту товара в сантиметрах: 77\n",
      "Упаковка для лыж\n"
     ]
    }
   ],
   "source": [
    "width = float(input('введите ширину товара в сантиметрах: '))\n",
    "length = float(input('введите длину товара в сантиметрах: '))\n",
    "height = float(input('введите высоту товара в сантиметрах: '))\n",
    "\n",
    "if width <= 15 and length <= 15 and height <= 15:\n",
    "    print ('Коробка №1')\n",
    "elif (50 > width > 15 or 50 > height > 15 or 50 > length > 15) and length <200:\n",
    "    print ('Коробка №2')\n",
    "elif length > 200:\n",
    "    print('Упаковка для лыж')\n",
    "else:\n",
    "    print('Стандартная коробка №3')\n",
    "    "
   ]
  },
  {
   "cell_type": "code",
   "execution_count": null,
   "id": "b35a185d",
   "metadata": {},
   "outputs": [],
   "source": []
  }
 ],
 "metadata": {
  "kernelspec": {
   "display_name": "Python 3",
   "language": "python",
   "name": "python3"
  },
  "language_info": {
   "codemirror_mode": {
    "name": "ipython",
    "version": 3
   },
   "file_extension": ".py",
   "mimetype": "text/x-python",
   "name": "python",
   "nbconvert_exporter": "python",
   "pygments_lexer": "ipython3",
   "version": "3.8.8"
  }
 },
 "nbformat": 4,
 "nbformat_minor": 5
}
