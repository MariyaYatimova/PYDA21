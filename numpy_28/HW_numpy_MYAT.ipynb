{
 "cells": [
  {
   "cell_type": "markdown",
   "id": "d1326161",
   "metadata": {},
   "source": [
    "# Домашнее задание\n",
    "\n",
    "# Задание 1\n",
    "Создайте numpy array с элементами от числа N до 0 (например, для N = 10 это будет array([9, 8, 7, 6, 5, 4, 3, 2, 1, 0])).\n"
   ]
  },
  {
   "cell_type": "code",
   "execution_count": 5,
   "id": "cade491e",
   "metadata": {},
   "outputs": [],
   "source": [
    "import numpy as np"
   ]
  },
  {
   "cell_type": "code",
   "execution_count": 6,
   "id": "25d57e7a",
   "metadata": {},
   "outputs": [
    {
     "name": "stdout",
     "output_type": "stream",
     "text": [
      "Введите число N = 10\n"
     ]
    },
    {
     "data": {
      "text/plain": [
       "array([9, 8, 7, 6, 5, 4, 3, 2, 1, 0])"
      ]
     },
     "execution_count": 6,
     "metadata": {},
     "output_type": "execute_result"
    }
   ],
   "source": [
    "n = int(input('Введите число N = '))\n",
    "np.arange(n)[::-1]"
   ]
  },
  {
   "cell_type": "markdown",
   "id": "958ca4d9",
   "metadata": {},
   "source": [
    "# Задание 2\n",
    "Создайте диагональную матрицу с элементами от N до 0. Посчитайте сумму ее значений на диагонали"
   ]
  },
  {
   "cell_type": "code",
   "execution_count": 8,
   "id": "60ecff21",
   "metadata": {},
   "outputs": [
    {
     "name": "stdout",
     "output_type": "stream",
     "text": [
      "Введите число N = 10\n"
     ]
    },
    {
     "data": {
      "text/plain": [
       "array([[10.,  0.,  0.,  0.,  0.,  0.,  0.,  0.,  0.,  0.,  0.],\n",
       "       [ 0.,  9.,  0.,  0.,  0.,  0.,  0.,  0.,  0.,  0.,  0.],\n",
       "       [ 0.,  0.,  8.,  0.,  0.,  0.,  0.,  0.,  0.,  0.,  0.],\n",
       "       [ 0.,  0.,  0.,  7.,  0.,  0.,  0.,  0.,  0.,  0.,  0.],\n",
       "       [ 0.,  0.,  0.,  0.,  6.,  0.,  0.,  0.,  0.,  0.,  0.],\n",
       "       [ 0.,  0.,  0.,  0.,  0.,  5.,  0.,  0.,  0.,  0.,  0.],\n",
       "       [ 0.,  0.,  0.,  0.,  0.,  0.,  4.,  0.,  0.,  0.,  0.],\n",
       "       [ 0.,  0.,  0.,  0.,  0.,  0.,  0.,  3.,  0.,  0.,  0.],\n",
       "       [ 0.,  0.,  0.,  0.,  0.,  0.,  0.,  0.,  2.,  0.,  0.],\n",
       "       [ 0.,  0.,  0.,  0.,  0.,  0.,  0.,  0.,  0.,  1.,  0.],\n",
       "       [ 0.,  0.,  0.,  0.,  0.,  0.,  0.,  0.,  0.,  0.,  0.]])"
      ]
     },
     "execution_count": 8,
     "metadata": {},
     "output_type": "execute_result"
    }
   ],
   "source": [
    "n = float(input('Введите число N = '))\n",
    "array2 = np.diag(np.arange(n, -1, -1), k = 0)\n",
    "array2 "
   ]
  },
  {
   "cell_type": "code",
   "execution_count": 10,
   "id": "63be21be",
   "metadata": {},
   "outputs": [
    {
     "name": "stdout",
     "output_type": "stream",
     "text": [
      "Сумма значений по диагонали =  55.0\n"
     ]
    }
   ],
   "source": [
    "print('Сумма значений по диагонали = ', array2.sum())"
   ]
  },
  {
   "cell_type": "markdown",
   "id": "457bf111",
   "metadata": {},
   "source": [
    "# Задание 3\n",
    "Решите систему уравнений:\n",
    "4x + 2y + z = 4\n",
    "x + 3y = 12\n",
    "5y + 4z = -3"
   ]
  },
  {
   "cell_type": "code",
   "execution_count": 12,
   "id": "773ff700",
   "metadata": {},
   "outputs": [],
   "source": [
    "a_left = np.array([[4,2,1], [1, 3, 0], [0, 5, 4]])  \n",
    "a_right = np.array([4, 12, -3])  "
   ]
  },
  {
   "cell_type": "code",
   "execution_count": 13,
   "id": "13471381",
   "metadata": {},
   "outputs": [],
   "source": [
    "from numpy import linalg"
   ]
  },
  {
   "cell_type": "code",
   "execution_count": 14,
   "id": "0379f3c3",
   "metadata": {},
   "outputs": [
    {
     "data": {
      "text/plain": [
       "array([ 0.46666667,  3.84444444, -5.55555556])"
      ]
     },
     "execution_count": 14,
     "metadata": {},
     "output_type": "execute_result"
    }
   ],
   "source": [
    "linalg.solve(a_left, a_right)"
   ]
  },
  {
   "cell_type": "code",
   "execution_count": 15,
   "id": "5f292e05",
   "metadata": {},
   "outputs": [
    {
     "data": {
      "text/plain": [
       "4.0"
      ]
     },
     "execution_count": 15,
     "metadata": {},
     "output_type": "execute_result"
    }
   ],
   "source": [
    "#ручная проверка\n",
    "4*linalg.solve(a_left, a_right)[0] + 2*linalg.solve(a_left, a_right)[1] + linalg.solve(a_left, a_right)[2]"
   ]
  },
  {
   "cell_type": "code",
   "execution_count": 16,
   "id": "72d5c1b6",
   "metadata": {},
   "outputs": [
    {
     "data": {
      "text/plain": [
       "True"
      ]
     },
     "execution_count": 16,
     "metadata": {},
     "output_type": "execute_result"
    }
   ],
   "source": [
    "#проверка\n",
    "np.allclose( np.dot(a_left, linalg.solve(a_left, a_right)), a_right)"
   ]
  },
  {
   "cell_type": "markdown",
   "id": "e4023ba1",
   "metadata": {},
   "source": [
    "# Задание 4\n",
    "Найдите самого похожего пользователя. Т. е. посчитайте косинусное сходство между этим пользователем и всеми пользователями из массива user_stats"
   ]
  },
  {
   "cell_type": "code",
   "execution_count": 18,
   "id": "55a1b8bb",
   "metadata": {},
   "outputs": [],
   "source": [
    "users_stats = np.array(\n",
    "    [\n",
    "        [2, 1, 0, 0, 0, 0],\n",
    "        [1, 1, 2, 1, 0, 0],\n",
    "        [2, 0, 1, 0, 0, 0],\n",
    "        [1, 1, 2, 1, 0, 1],\n",
    "        [0, 0, 1, 2, 0, 0],\n",
    "        [0, 0, 0, 0, 0, 5],\n",
    "        [1, 0, 0, 0, 0, 0],\n",
    "        [0, 1, 1, 0, 0, 0],\n",
    "        [0, 0, 0, 1, 1, 3],\n",
    "        [1, 0, 0, 2, 1, 4]\n",
    "    ], \n",
    "    np.int32\n",
    ")"
   ]
  },
  {
   "cell_type": "code",
   "execution_count": 20,
   "id": "eb97113c",
   "metadata": {},
   "outputs": [],
   "source": [
    "#На сайт заходит очередной посетитель, о покупках которого известно следующее:\n",
    "next_user_stats = np.array([0, 1, 2, 0, 0, 0])"
   ]
  },
  {
   "cell_type": "code",
   "execution_count": 21,
   "id": "5ae836b3",
   "metadata": {},
   "outputs": [],
   "source": [
    "def cosin(a, b):\n",
    "    \"\"\" Подсчет косинуса угла между векторами а и b по их координатам,\n",
    "        расчет длин векторов делается с использовании фукнции linalg.norm()\"\"\"\n",
    "    #расчитаем длины векторов \n",
    "    aNorma = np.linalg.norm(a) \n",
    "    bNorma = np.linalg.norm(b)\n",
    "    \n",
    "    return np.dot(a, b)/(aNorma*bNorma)"
   ]
  },
  {
   "cell_type": "code",
   "execution_count": 23,
   "id": "c46dc864",
   "metadata": {},
   "outputs": [
    {
     "name": "stdout",
     "output_type": "stream",
     "text": [
      "(8, 0.9486832980505138)\n",
      "Самый похожий пользователь с ID =  8\n"
     ]
    }
   ],
   "source": [
    "d = ({})\n",
    "for k,i in enumerate(users_stats):\n",
    "    cosine_imilarity = cosin(i, next_user_stats)\n",
    "    d.update({k+1:cosine_imilarity})\n",
    "most_similar_user = max(d.items(), key=lambda x: x[1])\n",
    "print(most_similar_user)\n",
    "most_similar_user_id = max(d, key=d.get)\n",
    "print ('Самый похожий пользователь с ID = ', most_similar_user_id)"
   ]
  },
  {
   "cell_type": "code",
   "execution_count": null,
   "id": "8d2e7236",
   "metadata": {},
   "outputs": [],
   "source": []
  }
 ],
 "metadata": {
  "kernelspec": {
   "display_name": "Python 3",
   "language": "python",
   "name": "python3"
  },
  "language_info": {
   "codemirror_mode": {
    "name": "ipython",
    "version": 3
   },
   "file_extension": ".py",
   "mimetype": "text/x-python",
   "name": "python",
   "nbconvert_exporter": "python",
   "pygments_lexer": "ipython3",
   "version": "3.8.8"
  }
 },
 "nbformat": 4,
 "nbformat_minor": 5
}
