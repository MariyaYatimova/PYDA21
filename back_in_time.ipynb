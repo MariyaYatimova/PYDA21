{
 "cells": [
  {
   "cell_type": "markdown",
   "id": "39445cce",
   "metadata": {},
   "source": [
    "# Задание 1\n",
    "Печатные газеты использовали свой формат дат для каждого выпуска. Для каждой газеты из списка напишите формат указанной даты для перевода в объект datetime:\n",
    "##### The Moscow Times - Wednesday, October 2, 2002\n",
    "##### The Guardian - Friday, 11.10.13\n",
    "##### Daily News - Thursday, 18 August 1977"
   ]
  },
  {
   "cell_type": "code",
   "execution_count": 22,
   "id": "ac675a73",
   "metadata": {},
   "outputs": [],
   "source": [
    "from datetime import datetime"
   ]
  },
  {
   "cell_type": "code",
   "execution_count": 23,
   "id": "5dfb586c",
   "metadata": {},
   "outputs": [],
   "source": [
    "moscow_times = 'Wednesday, October 2, 2002'\n",
    "guardian = 'Friday, 11.10.13'\n",
    "daily_news = 'Thursday, 18 August 1977'\n",
    "\n",
    "moscow_times_date_time = datetime.strptime(moscow_times, '%A, %B %d, %Y')\n",
    "\n",
    "guardian_date_time = datetime.strptime(guardian, '%A, %d.%m.%y')\n",
    "\n",
    "daily_news_date_time = datetime.strptime(daily_news, '%A, %d %B %Y')"
   ]
  },
  {
   "cell_type": "code",
   "execution_count": 24,
   "id": "1180b48f",
   "metadata": {},
   "outputs": [
    {
     "name": "stdout",
     "output_type": "stream",
     "text": [
      "2002\n",
      "2013\n",
      "1977\n"
     ]
    }
   ],
   "source": [
    "print(moscow_times_date_time.year)\n",
    "print(guardian_date_time.year)\n",
    "print(daily_news_date_time.year)"
   ]
  },
  {
   "cell_type": "markdown",
   "id": "0637984f",
   "metadata": {},
   "source": [
    "# Задание 2\n",
    "Дан поток дат в формате YYYY-MM-DD, в которых встречаются некорректные значения:\n",
    "stream = [‘2018-04-02’, ‘2018-02-29’, ‘2018-19-02’]\n",
    "\n",
    "Напишите функцию, которая проверяет эти даты на корректность. Т. е. для каждой даты возвращает True (дата корректна) или False (некорректная дата)."
   ]
  },
  {
   "cell_type": "code",
   "execution_count": 77,
   "id": "837ee870",
   "metadata": {},
   "outputs": [],
   "source": [
    "stream = ['2018-04-02', '2018-02-29', '2018-19-02',]\n",
    "stream2 = ['2018-04-02', '2018-02-29', '2018-19-02', '2018-88-11', '2015-05-15']\n",
    "\n",
    "from datetime import datetime\n",
    "\n",
    "def date_check(*stream):\n",
    "    for date in stream:\n",
    "        try:\n",
    "            date_time = datetime.strptime(date,'%Y-%m-%d')\n",
    "            #print(f\"True: {date}\")\n",
    "            print('True: {}'.format(date))\n",
    "        except:\n",
    "            print(f\"False:{date}\") \n",
    "            pass\n",
    "    \n",
    "    "
   ]
  },
  {
   "cell_type": "code",
   "execution_count": 79,
   "id": "9f742bce",
   "metadata": {},
   "outputs": [
    {
     "name": "stdout",
     "output_type": "stream",
     "text": [
      "True: 2018-04-02\n",
      "False:2018-02-29\n",
      "False:2018-19-02\n"
     ]
    }
   ],
   "source": [
    "date_check(*stream)"
   ]
  },
  {
   "cell_type": "markdown",
   "id": "28502fbb",
   "metadata": {},
   "source": [
    "# Задание 3\n",
    "Напишите функцию date_range, которая возвращает список дат за период от start_date до end_date. Даты должны вводиться в формате YYYY-MM-DD. В случае неверного формата или при start_date > end_date должен возвращаться пустой список."
   ]
  },
  {
   "cell_type": "code",
   "execution_count": 183,
   "id": "671b3601",
   "metadata": {},
   "outputs": [],
   "source": [
    "from datetime import timedelta"
   ]
  },
  {
   "cell_type": "code",
   "execution_count": 184,
   "id": "a27724b2",
   "metadata": {},
   "outputs": [],
   "source": [
    "start_date = '2018-01-01'\n",
    "end_date = '2018-02-07'"
   ]
  },
  {
   "cell_type": "code",
   "execution_count": 210,
   "id": "ac1a1b63",
   "metadata": {},
   "outputs": [],
   "source": [
    "def date_range ():\n",
    "    start_date = input('начальная дата в формате YYYY-MM-DD: ')\n",
    "    end_date = input('конечная дата в формате YYYY-MM-DD: ')\n",
    "    try:\n",
    "        start_date_dt = datetime.strptime(start_date, '%Y-%m-%d')\n",
    "        end_date_dt = datetime.strptime(end_date, '%Y-%m-%d')\n",
    "        date_commencement = start_date_dt\n",
    "        if start_date <= end_date:\n",
    "            while date_commencement <= end_date_dt:\n",
    "                print(date_commencement.strftime('%Y-%m-%d'))\n",
    "\n",
    "                date_commencement += timedelta(days=1)\n",
    "        else:\n",
    "            print([])\n",
    "\n",
    "    except:\n",
    "        #print('Проверьте корректность введенной даты')\n",
    "        print([])\n",
    "\n",
    "    "
   ]
  },
  {
   "cell_type": "code",
   "execution_count": 211,
   "id": "2206e2b0",
   "metadata": {},
   "outputs": [
    {
     "name": "stdout",
     "output_type": "stream",
     "text": [
      "начальная дата в формате YYYY-MM-DD: 2022-05-02\n",
      "конечная дата в формате YYYY-MM-DD: 2022-05-08\n",
      "2022-05-02\n",
      "2022-05-03\n",
      "2022-05-04\n",
      "2022-05-05\n",
      "2022-05-06\n",
      "2022-05-07\n",
      "2022-05-08\n"
     ]
    }
   ],
   "source": [
    "date_range()"
   ]
  },
  {
   "cell_type": "markdown",
   "id": "c5025028",
   "metadata": {},
   "source": [
    "#Тоже самое, только без ввода"
   ]
  },
  {
   "cell_type": "code",
   "execution_count": 195,
   "id": "09e7e2cd",
   "metadata": {},
   "outputs": [],
   "source": [
    "def date_range_2 (start_date_, end_date_):\n",
    "    '''Функции на вход подается начальная дата start_date_\n",
    "    и конечная дата end_date_. \n",
    "    Возвращает список дат за период от start_date до end_date.\n",
    "    Даты должны вводиться в формате YYYY-MM-DD. В случае неверного формата \n",
    "    или при start_date > end_date возвращается пустой список'''\n",
    "    \n",
    "    try:\n",
    "        start_date_dt = datetime.strptime(start_date_, '%Y-%m-%d')\n",
    "        end_date_dt = datetime.strptime(end_date_, '%Y-%m-%d')\n",
    "        date_commencement = start_date_dt\n",
    "        if start_date_dt <= end_date_dt:\n",
    "            while date_commencement <= end_date_dt:\n",
    "                print(date_commencement.strftime('%Y-%m-%d'))\n",
    "            \n",
    "                date_commencement += timedelta(days=1)\n",
    "        else:\n",
    "            print([])\n",
    "        \n",
    "    except ValueError:\n",
    "        #print('Проверьте корректность введенной даты')\n",
    "        print([])"
   ]
  },
  {
   "cell_type": "code",
   "execution_count": 208,
   "id": "b7789cc6",
   "metadata": {},
   "outputs": [],
   "source": [
    "start_date_ = '2019-06-01'\n",
    "end_date_ = '2018-06-18'"
   ]
  },
  {
   "cell_type": "code",
   "execution_count": 209,
   "id": "a7d644e9",
   "metadata": {},
   "outputs": [
    {
     "name": "stdout",
     "output_type": "stream",
     "text": [
      "[]\n"
     ]
    }
   ],
   "source": [
    "date_range_2(start_date_,end_date_)"
   ]
  },
  {
   "cell_type": "code",
   "execution_count": null,
   "id": "0db89335",
   "metadata": {},
   "outputs": [],
   "source": []
  },
  {
   "cell_type": "code",
   "execution_count": null,
   "id": "4cb6e338",
   "metadata": {},
   "outputs": [],
   "source": []
  }
 ],
 "metadata": {
  "kernelspec": {
   "display_name": "Python 3",
   "language": "python",
   "name": "python3"
  },
  "language_info": {
   "codemirror_mode": {
    "name": "ipython",
    "version": 3
   },
   "file_extension": ".py",
   "mimetype": "text/x-python",
   "name": "python",
   "nbconvert_exporter": "python",
   "pygments_lexer": "ipython3",
   "version": "3.8.8"
  }
 },
 "nbformat": 4,
 "nbformat_minor": 5
}
