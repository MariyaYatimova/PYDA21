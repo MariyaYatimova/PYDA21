{
 "cells": [
  {
   "cell_type": "markdown",
   "id": "663af740",
   "metadata": {},
   "source": [
    "Задание 1. Переведите содержимое файла purchase_log.txt в словарь purchases вида:\n",
    "{‘1840e0b9d4’: ‘Продукты’, …}"
   ]
  },
  {
   "cell_type": "code",
   "execution_count": 9,
   "id": "4408a3d8",
   "metadata": {},
   "outputs": [],
   "source": [
    "import json"
   ]
  },
  {
   "cell_type": "code",
   "execution_count": 69,
   "id": "f22955d1",
   "metadata": {},
   "outputs": [
    {
     "name": "stdout",
     "output_type": "stream",
     "text": [
      "{'1840e0b9d4': 'Продукты', '4e4f90fcfb': 'Электроника', 'afea8d72fc': 'Электроника', '373a6055fe': 'Бытовая техника', '9b2ab046f3': 'Электроника', '9f39d307c3': 'Электроника', '44edeffc91': 'Продукты', '704474fa2d': 'Продукты', '1de31be403': 'Бытовая техника', 'b71f36a5e4': 'Продукты', '79843a685a': 'Продукты'}\n"
     ]
    }
   ],
   "source": [
    "purchase = {}\n",
    "with open ('purchase_log.txt', 'r', encoding='utf-8') as list_purchase:\n",
    "    for i, line in enumerate(list_purchase):\n",
    "        purchases_list = list(json.loads(line.strip()).values())\n",
    "        purchase1 = dict.fromkeys([purchases_list[0]],purchases_list[1])\n",
    "        purchase.update(purchase1)\n",
    "        if i > 10:\n",
    "            del(purchase['user_id'])\n",
    "            print(purchase)\n",
    "            \n",
    "            break"
   ]
  },
  {
   "cell_type": "markdown",
   "id": "e374f7ad",
   "metadata": {},
   "source": [
    "# Задание 2"
   ]
  },
  {
   "cell_type": "markdown",
   "id": "519150f4",
   "metadata": {},
   "source": [
    "Для каждого user_id в файле visit_log.csv определите третий столбец с категорией покупки (если покупка была, сам файл visit_log.csv изменять не надо). Запишите в файл funnel.csv визиты из файла visit_log.csv, в которых были покупки с указанием категории."
   ]
  },
  {
   "cell_type": "code",
   "execution_count": 86,
   "id": "3c42006b",
   "metadata": {},
   "outputs": [],
   "source": [
    "with open ('purchase_log.txt', 'r', encoding='utf-8') as list_purchase:\n",
    "    with open ('visit_log.csv', 'r', encoding='utf-8') as visit_log:\n",
    "          with open ('funnel.csv', 'w') as funnel:\n",
    "            for line in list_purchase:\n",
    "                purchases_list = list(json.loads(line.strip()).values())\n",
    "                visit = visit_log.readline().strip().split(',')\n",
    "                if purchases_list[0] in visit:\n",
    "                    visit.append(purchases_list[1])\n",
    "                    funnel.write(','.join(visit) +'\\n')"
   ]
  },
  {
   "cell_type": "markdown",
   "id": "1849a0ae",
   "metadata": {},
   "source": [
    "Ещё вариант"
   ]
  },
  {
   "cell_type": "code",
   "execution_count": 83,
   "id": "cf1a363e",
   "metadata": {},
   "outputs": [],
   "source": [
    "with open ('purchase_log.txt', 'r', encoding='utf-8') as list_purchase:\n",
    "    with open ('visit_log.csv', 'r', encoding='utf-8') as visit_log:\n",
    "          with open ('funnel.csv', 'w') as funnel:\n",
    "            for line in list_purchase:\n",
    "                purchases_list = list(json.loads(line.strip()).values())\n",
    "                for visit in visit_log:\n",
    "                    visit = visit.strip().split(',')\n",
    "                    if purchases_list[0] in visit:\n",
    "                        visit.append(purchases_list[1])\n",
    "                        funnel.write(','.join(visit)+'\\n')"
   ]
  }
 ],
 "metadata": {
  "kernelspec": {
   "display_name": "Python 3",
   "language": "python",
   "name": "python3"
  },
  "language_info": {
   "codemirror_mode": {
    "name": "ipython",
    "version": 3
   },
   "file_extension": ".py",
   "mimetype": "text/x-python",
   "name": "python",
   "nbconvert_exporter": "python",
   "pygments_lexer": "ipython3",
   "version": "3.8.8"
  }
 },
 "nbformat": 4,
 "nbformat_minor": 5
}
