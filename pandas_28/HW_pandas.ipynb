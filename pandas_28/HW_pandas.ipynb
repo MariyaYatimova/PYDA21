{
 "cells": [
  {
   "cell_type": "markdown",
   "id": "6f0109fa",
   "metadata": {},
   "source": [
    "### Задание 2 \n",
    "По данным файла power.csv посчитайте суммарное потребление стран Прибалтики (Латвия, Литва и Эстония) категорий 4, 12 и 21 за период с 2005 по 2010 года. Не учитывайте в расчетах отрицательные значения quantity"
   ]
  },
  {
   "cell_type": "code",
   "execution_count": 72,
   "id": "1ab0dce4",
   "metadata": {},
   "outputs": [],
   "source": [
    "import pandas as pd"
   ]
  },
  {
   "cell_type": "code",
   "execution_count": 3,
   "id": "a8034233",
   "metadata": {},
   "outputs": [
    {
     "data": {
      "text/html": [
       "<div>\n",
       "<style scoped>\n",
       "    .dataframe tbody tr th:only-of-type {\n",
       "        vertical-align: middle;\n",
       "    }\n",
       "\n",
       "    .dataframe tbody tr th {\n",
       "        vertical-align: top;\n",
       "    }\n",
       "\n",
       "    .dataframe thead th {\n",
       "        text-align: right;\n",
       "    }\n",
       "</style>\n",
       "<table border=\"1\" class=\"dataframe\">\n",
       "  <thead>\n",
       "    <tr style=\"text-align: right;\">\n",
       "      <th></th>\n",
       "      <th>country</th>\n",
       "      <th>year</th>\n",
       "      <th>quantity</th>\n",
       "      <th>category</th>\n",
       "    </tr>\n",
       "  </thead>\n",
       "  <tbody>\n",
       "    <tr>\n",
       "      <th>0</th>\n",
       "      <td>Austria</td>\n",
       "      <td>1996</td>\n",
       "      <td>5.0</td>\n",
       "      <td>1</td>\n",
       "    </tr>\n",
       "    <tr>\n",
       "      <th>1</th>\n",
       "      <td>Austria</td>\n",
       "      <td>1995</td>\n",
       "      <td>17.0</td>\n",
       "      <td>1</td>\n",
       "    </tr>\n",
       "    <tr>\n",
       "      <th>2</th>\n",
       "      <td>Belgium</td>\n",
       "      <td>2014</td>\n",
       "      <td>0.0</td>\n",
       "      <td>1</td>\n",
       "    </tr>\n",
       "    <tr>\n",
       "      <th>3</th>\n",
       "      <td>Belgium</td>\n",
       "      <td>2013</td>\n",
       "      <td>0.0</td>\n",
       "      <td>1</td>\n",
       "    </tr>\n",
       "    <tr>\n",
       "      <th>4</th>\n",
       "      <td>Belgium</td>\n",
       "      <td>2012</td>\n",
       "      <td>35.0</td>\n",
       "      <td>1</td>\n",
       "    </tr>\n",
       "    <tr>\n",
       "      <th>5</th>\n",
       "      <td>Belgium</td>\n",
       "      <td>2011</td>\n",
       "      <td>25.0</td>\n",
       "      <td>1</td>\n",
       "    </tr>\n",
       "    <tr>\n",
       "      <th>6</th>\n",
       "      <td>Belgium</td>\n",
       "      <td>2010</td>\n",
       "      <td>22.0</td>\n",
       "      <td>1</td>\n",
       "    </tr>\n",
       "    <tr>\n",
       "      <th>7</th>\n",
       "      <td>Belgium</td>\n",
       "      <td>2009</td>\n",
       "      <td>45.0</td>\n",
       "      <td>1</td>\n",
       "    </tr>\n",
       "    <tr>\n",
       "      <th>8</th>\n",
       "      <td>Czechia</td>\n",
       "      <td>1998</td>\n",
       "      <td>1.0</td>\n",
       "      <td>1</td>\n",
       "    </tr>\n",
       "    <tr>\n",
       "      <th>9</th>\n",
       "      <td>Czechia</td>\n",
       "      <td>1995</td>\n",
       "      <td>7.0</td>\n",
       "      <td>1</td>\n",
       "    </tr>\n",
       "  </tbody>\n",
       "</table>\n",
       "</div>"
      ],
      "text/plain": [
       "   country  year  quantity  category\n",
       "0  Austria  1996       5.0         1\n",
       "1  Austria  1995      17.0         1\n",
       "2  Belgium  2014       0.0         1\n",
       "3  Belgium  2013       0.0         1\n",
       "4  Belgium  2012      35.0         1\n",
       "5  Belgium  2011      25.0         1\n",
       "6  Belgium  2010      22.0         1\n",
       "7  Belgium  2009      45.0         1\n",
       "8  Czechia  1998       1.0         1\n",
       "9  Czechia  1995       7.0         1"
      ]
     },
     "execution_count": 3,
     "metadata": {},
     "output_type": "execute_result"
    }
   ],
   "source": [
    "#Импортируем файл power.csv\n",
    "data_power = pd.read_csv('power.csv')\n",
    "data_power.head(10)"
   ]
  },
  {
   "cell_type": "code",
   "execution_count": 46,
   "id": "cb93d44a",
   "metadata": {},
   "outputs": [
    {
     "data": {
      "text/plain": [
       "array(['Lithuania'], dtype=object)"
      ]
     },
     "execution_count": 46,
     "metadata": {},
     "output_type": "execute_result"
    }
   ],
   "source": [
    "#Найдем значения стран при помощи метода str.contains\n",
    "data_power[ data_power['country'].str.contains('lit', case=False)]['country'].unique()"
   ]
  },
  {
   "cell_type": "code",
   "execution_count": 47,
   "id": "52fe9817",
   "metadata": {},
   "outputs": [
    {
     "data": {
      "text/plain": [
       "array(['Latvia'], dtype=object)"
      ]
     },
     "execution_count": 47,
     "metadata": {},
     "output_type": "execute_result"
    }
   ],
   "source": [
    "data_power[ data_power['country'].str.contains('lat', case=False)]['country'].unique()"
   ]
  },
  {
   "cell_type": "code",
   "execution_count": 49,
   "id": "31687abe",
   "metadata": {},
   "outputs": [
    {
     "data": {
      "text/plain": [
       "array(['Estonia'], dtype=object)"
      ]
     },
     "execution_count": 49,
     "metadata": {},
     "output_type": "execute_result"
    }
   ],
   "source": [
    "data_power[ data_power['country'].str.contains('sto', case=False)]['country'].unique()"
   ]
  },
  {
   "cell_type": "code",
   "execution_count": 50,
   "id": "53e5aa96",
   "metadata": {},
   "outputs": [],
   "source": [
    "def pribaltic (country):\n",
    "    \"\"\"опеределение при надлежности страны к странам прибалтики по наименованию\"\"\"\n",
    "    \n",
    "    if country in ['Lithuania', 'Latvia', 'Estonia']:\n",
    "        return 'Baltics'\n",
    "    return 'not the Baltics'                    \n",
    "    "
   ]
  },
  {
   "cell_type": "code",
   "execution_count": 5,
   "id": "8d2a838c",
   "metadata": {},
   "outputs": [],
   "source": [
    "#добавим столбец, определяющий принадлежность к странам Балтики путем применения функции pribaltic к столбцу country\n",
    "data_power['baltic'] = data_power.country.apply(pribaltic)"
   ]
  },
  {
   "cell_type": "code",
   "execution_count": 6,
   "id": "2a2e2cf3",
   "metadata": {},
   "outputs": [
    {
     "data": {
      "text/html": [
       "<div>\n",
       "<style scoped>\n",
       "    .dataframe tbody tr th:only-of-type {\n",
       "        vertical-align: middle;\n",
       "    }\n",
       "\n",
       "    .dataframe tbody tr th {\n",
       "        vertical-align: top;\n",
       "    }\n",
       "\n",
       "    .dataframe thead th {\n",
       "        text-align: right;\n",
       "    }\n",
       "</style>\n",
       "<table border=\"1\" class=\"dataframe\">\n",
       "  <thead>\n",
       "    <tr style=\"text-align: right;\">\n",
       "      <th></th>\n",
       "      <th>country</th>\n",
       "      <th>year</th>\n",
       "      <th>quantity</th>\n",
       "      <th>category</th>\n",
       "      <th>baltic</th>\n",
       "    </tr>\n",
       "  </thead>\n",
       "  <tbody>\n",
       "    <tr>\n",
       "      <th>0</th>\n",
       "      <td>Austria</td>\n",
       "      <td>1996</td>\n",
       "      <td>5.0</td>\n",
       "      <td>1</td>\n",
       "      <td>not the Baltics</td>\n",
       "    </tr>\n",
       "    <tr>\n",
       "      <th>1</th>\n",
       "      <td>Austria</td>\n",
       "      <td>1995</td>\n",
       "      <td>17.0</td>\n",
       "      <td>1</td>\n",
       "      <td>not the Baltics</td>\n",
       "    </tr>\n",
       "    <tr>\n",
       "      <th>2</th>\n",
       "      <td>Belgium</td>\n",
       "      <td>2014</td>\n",
       "      <td>0.0</td>\n",
       "      <td>1</td>\n",
       "      <td>not the Baltics</td>\n",
       "    </tr>\n",
       "    <tr>\n",
       "      <th>3</th>\n",
       "      <td>Belgium</td>\n",
       "      <td>2013</td>\n",
       "      <td>0.0</td>\n",
       "      <td>1</td>\n",
       "      <td>not the Baltics</td>\n",
       "    </tr>\n",
       "    <tr>\n",
       "      <th>4</th>\n",
       "      <td>Belgium</td>\n",
       "      <td>2012</td>\n",
       "      <td>35.0</td>\n",
       "      <td>1</td>\n",
       "      <td>not the Baltics</td>\n",
       "    </tr>\n",
       "  </tbody>\n",
       "</table>\n",
       "</div>"
      ],
      "text/plain": [
       "   country  year  quantity  category           baltic\n",
       "0  Austria  1996       5.0         1  not the Baltics\n",
       "1  Austria  1995      17.0         1  not the Baltics\n",
       "2  Belgium  2014       0.0         1  not the Baltics\n",
       "3  Belgium  2013       0.0         1  not the Baltics\n",
       "4  Belgium  2012      35.0         1  not the Baltics"
      ]
     },
     "execution_count": 6,
     "metadata": {},
     "output_type": "execute_result"
    }
   ],
   "source": [
    "#Посмотрим результат применения функции. Столбец добавился\n",
    "data_power.head()"
   ]
  },
  {
   "cell_type": "code",
   "execution_count": 7,
   "id": "a6a41c36",
   "metadata": {},
   "outputs": [],
   "source": [
    "#cоздаем новый ДФ только со странами прибалтики и убираем отрицательные значения по quantity\n",
    "data_baltic = data_power[(data_power['baltic'] == 'Baltics') & (data_power['quantity'] >= 0)]"
   ]
  },
  {
   "cell_type": "code",
   "execution_count": 8,
   "id": "8a8e156a",
   "metadata": {},
   "outputs": [
    {
     "data": {
      "text/html": [
       "<div>\n",
       "<style scoped>\n",
       "    .dataframe tbody tr th:only-of-type {\n",
       "        vertical-align: middle;\n",
       "    }\n",
       "\n",
       "    .dataframe tbody tr th {\n",
       "        vertical-align: top;\n",
       "    }\n",
       "\n",
       "    .dataframe thead th {\n",
       "        text-align: right;\n",
       "    }\n",
       "</style>\n",
       "<table border=\"1\" class=\"dataframe\">\n",
       "  <thead>\n",
       "    <tr style=\"text-align: right;\">\n",
       "      <th></th>\n",
       "      <th>country</th>\n",
       "      <th>year</th>\n",
       "      <th>quantity</th>\n",
       "      <th>category</th>\n",
       "      <th>baltic</th>\n",
       "    </tr>\n",
       "  </thead>\n",
       "  <tbody>\n",
       "    <tr>\n",
       "      <th>373</th>\n",
       "      <td>Lithuania</td>\n",
       "      <td>2014</td>\n",
       "      <td>39.0</td>\n",
       "      <td>1</td>\n",
       "      <td>Baltics</td>\n",
       "    </tr>\n",
       "    <tr>\n",
       "      <th>374</th>\n",
       "      <td>Lithuania</td>\n",
       "      <td>2013</td>\n",
       "      <td>192.0</td>\n",
       "      <td>1</td>\n",
       "      <td>Baltics</td>\n",
       "    </tr>\n",
       "    <tr>\n",
       "      <th>375</th>\n",
       "      <td>Lithuania</td>\n",
       "      <td>2012</td>\n",
       "      <td>196.0</td>\n",
       "      <td>1</td>\n",
       "      <td>Baltics</td>\n",
       "    </tr>\n",
       "    <tr>\n",
       "      <th>376</th>\n",
       "      <td>Lithuania</td>\n",
       "      <td>2011</td>\n",
       "      <td>171.0</td>\n",
       "      <td>1</td>\n",
       "      <td>Baltics</td>\n",
       "    </tr>\n",
       "    <tr>\n",
       "      <th>377</th>\n",
       "      <td>Lithuania</td>\n",
       "      <td>2010</td>\n",
       "      <td>158.0</td>\n",
       "      <td>1</td>\n",
       "      <td>Baltics</td>\n",
       "    </tr>\n",
       "    <tr>\n",
       "      <th>378</th>\n",
       "      <td>Lithuania</td>\n",
       "      <td>2009</td>\n",
       "      <td>158.0</td>\n",
       "      <td>1</td>\n",
       "      <td>Baltics</td>\n",
       "    </tr>\n",
       "    <tr>\n",
       "      <th>379</th>\n",
       "      <td>Lithuania</td>\n",
       "      <td>2008</td>\n",
       "      <td>100.0</td>\n",
       "      <td>1</td>\n",
       "      <td>Baltics</td>\n",
       "    </tr>\n",
       "    <tr>\n",
       "      <th>380</th>\n",
       "      <td>Lithuania</td>\n",
       "      <td>2007</td>\n",
       "      <td>105.0</td>\n",
       "      <td>1</td>\n",
       "      <td>Baltics</td>\n",
       "    </tr>\n",
       "    <tr>\n",
       "      <th>956</th>\n",
       "      <td>Lithuania</td>\n",
       "      <td>2014</td>\n",
       "      <td>0.0</td>\n",
       "      <td>1</td>\n",
       "      <td>Baltics</td>\n",
       "    </tr>\n",
       "    <tr>\n",
       "      <th>957</th>\n",
       "      <td>Lithuania</td>\n",
       "      <td>2013</td>\n",
       "      <td>0.0</td>\n",
       "      <td>1</td>\n",
       "      <td>Baltics</td>\n",
       "    </tr>\n",
       "  </tbody>\n",
       "</table>\n",
       "</div>"
      ],
      "text/plain": [
       "       country  year  quantity  category   baltic\n",
       "373  Lithuania  2014      39.0         1  Baltics\n",
       "374  Lithuania  2013     192.0         1  Baltics\n",
       "375  Lithuania  2012     196.0         1  Baltics\n",
       "376  Lithuania  2011     171.0         1  Baltics\n",
       "377  Lithuania  2010     158.0         1  Baltics\n",
       "378  Lithuania  2009     158.0         1  Baltics\n",
       "379  Lithuania  2008     100.0         1  Baltics\n",
       "380  Lithuania  2007     105.0         1  Baltics\n",
       "956  Lithuania  2014       0.0         1  Baltics\n",
       "957  Lithuania  2013       0.0         1  Baltics"
      ]
     },
     "execution_count": 8,
     "metadata": {},
     "output_type": "execute_result"
    }
   ],
   "source": [
    "data_baltic.head(10)"
   ]
  },
  {
   "cell_type": "code",
   "execution_count": 9,
   "id": "1af613c2",
   "metadata": {},
   "outputs": [],
   "source": [
    "#Фильтруем столбцы по году от 2005 по 2010\n",
    "data_baltic_year = data_baltic[ (data_baltic['year'] < 2010) & (data_baltic['year'] > 2005) ]"
   ]
  },
  {
   "cell_type": "code",
   "execution_count": 51,
   "id": "0f6cf2be",
   "metadata": {},
   "outputs": [
    {
     "data": {
      "text/html": [
       "<div>\n",
       "<style scoped>\n",
       "    .dataframe tbody tr th:only-of-type {\n",
       "        vertical-align: middle;\n",
       "    }\n",
       "\n",
       "    .dataframe tbody tr th {\n",
       "        vertical-align: top;\n",
       "    }\n",
       "\n",
       "    .dataframe thead th {\n",
       "        text-align: right;\n",
       "    }\n",
       "</style>\n",
       "<table border=\"1\" class=\"dataframe\">\n",
       "  <thead>\n",
       "    <tr style=\"text-align: right;\">\n",
       "      <th></th>\n",
       "      <th>country</th>\n",
       "      <th>year</th>\n",
       "      <th>quantity</th>\n",
       "      <th>category</th>\n",
       "      <th>baltic</th>\n",
       "    </tr>\n",
       "  </thead>\n",
       "  <tbody>\n",
       "    <tr>\n",
       "      <th>378</th>\n",
       "      <td>Lithuania</td>\n",
       "      <td>2009</td>\n",
       "      <td>158.0</td>\n",
       "      <td>1</td>\n",
       "      <td>Baltics</td>\n",
       "    </tr>\n",
       "    <tr>\n",
       "      <th>379</th>\n",
       "      <td>Lithuania</td>\n",
       "      <td>2008</td>\n",
       "      <td>100.0</td>\n",
       "      <td>1</td>\n",
       "      <td>Baltics</td>\n",
       "    </tr>\n",
       "    <tr>\n",
       "      <th>380</th>\n",
       "      <td>Lithuania</td>\n",
       "      <td>2007</td>\n",
       "      <td>105.0</td>\n",
       "      <td>1</td>\n",
       "      <td>Baltics</td>\n",
       "    </tr>\n",
       "    <tr>\n",
       "      <th>961</th>\n",
       "      <td>Lithuania</td>\n",
       "      <td>2009</td>\n",
       "      <td>3.0</td>\n",
       "      <td>1</td>\n",
       "      <td>Baltics</td>\n",
       "    </tr>\n",
       "    <tr>\n",
       "      <th>962</th>\n",
       "      <td>Lithuania</td>\n",
       "      <td>2008</td>\n",
       "      <td>9.0</td>\n",
       "      <td>1</td>\n",
       "      <td>Baltics</td>\n",
       "    </tr>\n",
       "    <tr>\n",
       "      <th>...</th>\n",
       "      <td>...</td>\n",
       "      <td>...</td>\n",
       "      <td>...</td>\n",
       "      <td>...</td>\n",
       "      <td>...</td>\n",
       "    </tr>\n",
       "    <tr>\n",
       "      <th>1188840</th>\n",
       "      <td>Latvia</td>\n",
       "      <td>2006</td>\n",
       "      <td>46.0</td>\n",
       "      <td>71</td>\n",
       "      <td>Baltics</td>\n",
       "    </tr>\n",
       "    <tr>\n",
       "      <th>1188856</th>\n",
       "      <td>Lithuania</td>\n",
       "      <td>2009</td>\n",
       "      <td>158.0</td>\n",
       "      <td>71</td>\n",
       "      <td>Baltics</td>\n",
       "    </tr>\n",
       "    <tr>\n",
       "      <th>1188857</th>\n",
       "      <td>Lithuania</td>\n",
       "      <td>2008</td>\n",
       "      <td>131.0</td>\n",
       "      <td>71</td>\n",
       "      <td>Baltics</td>\n",
       "    </tr>\n",
       "    <tr>\n",
       "      <th>1188858</th>\n",
       "      <td>Lithuania</td>\n",
       "      <td>2007</td>\n",
       "      <td>106.0</td>\n",
       "      <td>71</td>\n",
       "      <td>Baltics</td>\n",
       "    </tr>\n",
       "    <tr>\n",
       "      <th>1188859</th>\n",
       "      <td>Lithuania</td>\n",
       "      <td>2006</td>\n",
       "      <td>14.0</td>\n",
       "      <td>71</td>\n",
       "      <td>Baltics</td>\n",
       "    </tr>\n",
       "  </tbody>\n",
       "</table>\n",
       "<p>5479 rows × 5 columns</p>\n",
       "</div>"
      ],
      "text/plain": [
       "           country  year  quantity  category   baltic\n",
       "378      Lithuania  2009     158.0         1  Baltics\n",
       "379      Lithuania  2008     100.0         1  Baltics\n",
       "380      Lithuania  2007     105.0         1  Baltics\n",
       "961      Lithuania  2009       3.0         1  Baltics\n",
       "962      Lithuania  2008       9.0         1  Baltics\n",
       "...            ...   ...       ...       ...      ...\n",
       "1188840     Latvia  2006      46.0        71  Baltics\n",
       "1188856  Lithuania  2009     158.0        71  Baltics\n",
       "1188857  Lithuania  2008     131.0        71  Baltics\n",
       "1188858  Lithuania  2007     106.0        71  Baltics\n",
       "1188859  Lithuania  2006      14.0        71  Baltics\n",
       "\n",
       "[5479 rows x 5 columns]"
      ]
     },
     "execution_count": 51,
     "metadata": {},
     "output_type": "execute_result"
    }
   ],
   "source": [
    "data_baltic_year"
   ]
  },
  {
   "cell_type": "code",
   "execution_count": 30,
   "id": "33959232",
   "metadata": {},
   "outputs": [],
   "source": [
    "#Задаем условия фильтрации по категориям 4, 12, 24\n",
    "data_baltic_itog = data_baltic_year[(data_baltic_year['category'] == 4) | (data_baltic_year['category'] == 12) | (data_baltic_year['category'] == 21)]"
   ]
  },
  {
   "cell_type": "code",
   "execution_count": 31,
   "id": "94c98aa6",
   "metadata": {},
   "outputs": [
    {
     "data": {
      "text/plain": [
       "164555.0"
      ]
     },
     "execution_count": 31,
     "metadata": {},
     "output_type": "execute_result"
    }
   ],
   "source": [
    "#Расчитываем суммарное потребление с учетом ранее заданных условий:\n",
    "Для стран прибалтики за 2005-2010гг всех указанных категорий (4,12,21)\n",
    "data_baltic_itog['quantity'].sum()"
   ]
  },
  {
   "cell_type": "code",
   "execution_count": 43,
   "id": "ba69c564",
   "metadata": {},
   "outputs": [
    {
     "data": {
      "text/html": [
       "<div>\n",
       "<style scoped>\n",
       "    .dataframe tbody tr th:only-of-type {\n",
       "        vertical-align: middle;\n",
       "    }\n",
       "\n",
       "    .dataframe tbody tr th {\n",
       "        vertical-align: top;\n",
       "    }\n",
       "\n",
       "    .dataframe thead th {\n",
       "        text-align: right;\n",
       "    }\n",
       "</style>\n",
       "<table border=\"1\" class=\"dataframe\">\n",
       "  <thead>\n",
       "    <tr style=\"text-align: right;\">\n",
       "      <th></th>\n",
       "      <th>country</th>\n",
       "      <th>year</th>\n",
       "      <th>quantity</th>\n",
       "      <th>category</th>\n",
       "      <th>baltic</th>\n",
       "    </tr>\n",
       "  </thead>\n",
       "  <tbody>\n",
       "    <tr>\n",
       "      <th>10617</th>\n",
       "      <td>Estonia</td>\n",
       "      <td>2008</td>\n",
       "      <td>1.0</td>\n",
       "      <td>4</td>\n",
       "      <td>Baltics</td>\n",
       "    </tr>\n",
       "    <tr>\n",
       "      <th>18220</th>\n",
       "      <td>Lithuania</td>\n",
       "      <td>2006</td>\n",
       "      <td>1.0</td>\n",
       "      <td>4</td>\n",
       "      <td>Baltics</td>\n",
       "    </tr>\n",
       "    <tr>\n",
       "      <th>19854</th>\n",
       "      <td>Estonia</td>\n",
       "      <td>2008</td>\n",
       "      <td>1.0</td>\n",
       "      <td>4</td>\n",
       "      <td>Baltics</td>\n",
       "    </tr>\n",
       "    <tr>\n",
       "      <th>19855</th>\n",
       "      <td>Estonia</td>\n",
       "      <td>2007</td>\n",
       "      <td>0.0</td>\n",
       "      <td>4</td>\n",
       "      <td>Baltics</td>\n",
       "    </tr>\n",
       "    <tr>\n",
       "      <th>19856</th>\n",
       "      <td>Estonia</td>\n",
       "      <td>2006</td>\n",
       "      <td>3.0</td>\n",
       "      <td>4</td>\n",
       "      <td>Baltics</td>\n",
       "    </tr>\n",
       "    <tr>\n",
       "      <th>...</th>\n",
       "      <td>...</td>\n",
       "      <td>...</td>\n",
       "      <td>...</td>\n",
       "      <td>...</td>\n",
       "      <td>...</td>\n",
       "    </tr>\n",
       "    <tr>\n",
       "      <th>104821</th>\n",
       "      <td>Lithuania</td>\n",
       "      <td>2007</td>\n",
       "      <td>74.0</td>\n",
       "      <td>12</td>\n",
       "      <td>Baltics</td>\n",
       "    </tr>\n",
       "    <tr>\n",
       "      <th>104822</th>\n",
       "      <td>Lithuania</td>\n",
       "      <td>2006</td>\n",
       "      <td>1.0</td>\n",
       "      <td>12</td>\n",
       "      <td>Baltics</td>\n",
       "    </tr>\n",
       "    <tr>\n",
       "      <th>104143</th>\n",
       "      <td>Lithuania</td>\n",
       "      <td>2008</td>\n",
       "      <td>1.0</td>\n",
       "      <td>12</td>\n",
       "      <td>Baltics</td>\n",
       "    </tr>\n",
       "    <tr>\n",
       "      <th>105475</th>\n",
       "      <td>Lithuania</td>\n",
       "      <td>2007</td>\n",
       "      <td>1.0</td>\n",
       "      <td>12</td>\n",
       "      <td>Baltics</td>\n",
       "    </tr>\n",
       "    <tr>\n",
       "      <th>109220</th>\n",
       "      <td>Lithuania</td>\n",
       "      <td>2008</td>\n",
       "      <td>1.0</td>\n",
       "      <td>12</td>\n",
       "      <td>Baltics</td>\n",
       "    </tr>\n",
       "  </tbody>\n",
       "</table>\n",
       "<p>100 rows × 5 columns</p>\n",
       "</div>"
      ],
      "text/plain": [
       "          country  year  quantity  category   baltic\n",
       "10617     Estonia  2008       1.0         4  Baltics\n",
       "18220   Lithuania  2006       1.0         4  Baltics\n",
       "19854     Estonia  2008       1.0         4  Baltics\n",
       "19855     Estonia  2007       0.0         4  Baltics\n",
       "19856     Estonia  2006       3.0         4  Baltics\n",
       "...           ...   ...       ...       ...      ...\n",
       "104821  Lithuania  2007      74.0        12  Baltics\n",
       "104822  Lithuania  2006       1.0        12  Baltics\n",
       "104143  Lithuania  2008       1.0        12  Baltics\n",
       "105475  Lithuania  2007       1.0        12  Baltics\n",
       "109220  Lithuania  2008       1.0        12  Baltics\n",
       "\n",
       "[100 rows x 5 columns]"
      ]
     },
     "execution_count": 43,
     "metadata": {},
     "output_type": "execute_result"
    }
   ],
   "source": [
    "data_baltic_itog.sort_values(['category']).head(100)"
   ]
  },
  {
   "cell_type": "code",
   "execution_count": 55,
   "id": "43398f07",
   "metadata": {},
   "outputs": [
    {
     "data": {
      "text/plain": [
       "24.0"
      ]
     },
     "execution_count": 55,
     "metadata": {},
     "output_type": "execute_result"
    }
   ],
   "source": [
    "#Суммарное потребление стран прибалтики 4-й категории\n",
    "data_baltic_itog_4 = data_baltic_year[ (data_baltic_year['category'] == 4) ]\n",
    "data_baltic_itog_4['quantity'].sum()                                   "
   ]
  },
  {
   "cell_type": "code",
   "execution_count": 56,
   "id": "5df03a67",
   "metadata": {},
   "outputs": [
    {
     "data": {
      "text/plain": [
       "5363.0"
      ]
     },
     "execution_count": 56,
     "metadata": {},
     "output_type": "execute_result"
    }
   ],
   "source": [
    "#Суммарное потребление стран прибалтики 12-й категории\n",
    "data_baltic_itog_12 = data_baltic_year[ (data_baltic_year['category'] == 12) ]\n",
    "data_baltic_itog_12['quantity'].sum()"
   ]
  },
  {
   "cell_type": "code",
   "execution_count": 57,
   "id": "5ab84da0",
   "metadata": {},
   "outputs": [
    {
     "data": {
      "text/plain": [
       "159168.0"
      ]
     },
     "execution_count": 57,
     "metadata": {},
     "output_type": "execute_result"
    }
   ],
   "source": [
    "#Суммарное потребление стран прибалтики 21-й категории\n",
    "data_baltic_itog_21 = data_baltic_year[ (data_baltic_year['category'] == 21) ]\n",
    "data_baltic_itog_21['quantity'].sum()"
   ]
  },
  {
   "cell_type": "markdown",
   "id": "d44c94df",
   "metadata": {},
   "source": [
    "### Задание 1\n",
    "Скачайте с сайта grouplens.org...movielens/ датасет любого размера. Определите какому фильму было выставлено больше всего оценок 5.0."
   ]
  },
  {
   "cell_type": "code",
   "execution_count": 58,
   "id": "a1f7345f",
   "metadata": {},
   "outputs": [],
   "source": [
    "data_movies = pd.read_csv('movies.csv')\n",
    "data_ratigs = pd.read_csv('ratings.csv')"
   ]
  },
  {
   "cell_type": "code",
   "execution_count": 59,
   "id": "ab79266e",
   "metadata": {},
   "outputs": [
    {
     "data": {
      "text/html": [
       "<div>\n",
       "<style scoped>\n",
       "    .dataframe tbody tr th:only-of-type {\n",
       "        vertical-align: middle;\n",
       "    }\n",
       "\n",
       "    .dataframe tbody tr th {\n",
       "        vertical-align: top;\n",
       "    }\n",
       "\n",
       "    .dataframe thead th {\n",
       "        text-align: right;\n",
       "    }\n",
       "</style>\n",
       "<table border=\"1\" class=\"dataframe\">\n",
       "  <thead>\n",
       "    <tr style=\"text-align: right;\">\n",
       "      <th></th>\n",
       "      <th>movieId</th>\n",
       "      <th>title</th>\n",
       "      <th>genres</th>\n",
       "    </tr>\n",
       "  </thead>\n",
       "  <tbody>\n",
       "    <tr>\n",
       "      <th>0</th>\n",
       "      <td>1</td>\n",
       "      <td>Toy Story (1995)</td>\n",
       "      <td>Adventure|Animation|Children|Comedy|Fantasy</td>\n",
       "    </tr>\n",
       "    <tr>\n",
       "      <th>1</th>\n",
       "      <td>2</td>\n",
       "      <td>Jumanji (1995)</td>\n",
       "      <td>Adventure|Children|Fantasy</td>\n",
       "    </tr>\n",
       "    <tr>\n",
       "      <th>2</th>\n",
       "      <td>3</td>\n",
       "      <td>Grumpier Old Men (1995)</td>\n",
       "      <td>Comedy|Romance</td>\n",
       "    </tr>\n",
       "    <tr>\n",
       "      <th>3</th>\n",
       "      <td>4</td>\n",
       "      <td>Waiting to Exhale (1995)</td>\n",
       "      <td>Comedy|Drama|Romance</td>\n",
       "    </tr>\n",
       "    <tr>\n",
       "      <th>4</th>\n",
       "      <td>5</td>\n",
       "      <td>Father of the Bride Part II (1995)</td>\n",
       "      <td>Comedy</td>\n",
       "    </tr>\n",
       "  </tbody>\n",
       "</table>\n",
       "</div>"
      ],
      "text/plain": [
       "   movieId                               title  \\\n",
       "0        1                    Toy Story (1995)   \n",
       "1        2                      Jumanji (1995)   \n",
       "2        3             Grumpier Old Men (1995)   \n",
       "3        4            Waiting to Exhale (1995)   \n",
       "4        5  Father of the Bride Part II (1995)   \n",
       "\n",
       "                                        genres  \n",
       "0  Adventure|Animation|Children|Comedy|Fantasy  \n",
       "1                   Adventure|Children|Fantasy  \n",
       "2                               Comedy|Romance  \n",
       "3                         Comedy|Drama|Romance  \n",
       "4                                       Comedy  "
      ]
     },
     "execution_count": 59,
     "metadata": {},
     "output_type": "execute_result"
    }
   ],
   "source": [
    "data_movies.head()"
   ]
  },
  {
   "cell_type": "code",
   "execution_count": 62,
   "id": "6c4f0a9d",
   "metadata": {},
   "outputs": [
    {
     "data": {
      "text/html": [
       "<div>\n",
       "<style scoped>\n",
       "    .dataframe tbody tr th:only-of-type {\n",
       "        vertical-align: middle;\n",
       "    }\n",
       "\n",
       "    .dataframe tbody tr th {\n",
       "        vertical-align: top;\n",
       "    }\n",
       "\n",
       "    .dataframe thead th {\n",
       "        text-align: right;\n",
       "    }\n",
       "</style>\n",
       "<table border=\"1\" class=\"dataframe\">\n",
       "  <thead>\n",
       "    <tr style=\"text-align: right;\">\n",
       "      <th></th>\n",
       "      <th>userId</th>\n",
       "      <th>movieId</th>\n",
       "      <th>rating</th>\n",
       "      <th>timestamp</th>\n",
       "    </tr>\n",
       "  </thead>\n",
       "  <tbody>\n",
       "    <tr>\n",
       "      <th>0</th>\n",
       "      <td>1</td>\n",
       "      <td>1</td>\n",
       "      <td>4.0</td>\n",
       "      <td>964982703</td>\n",
       "    </tr>\n",
       "    <tr>\n",
       "      <th>1</th>\n",
       "      <td>1</td>\n",
       "      <td>3</td>\n",
       "      <td>4.0</td>\n",
       "      <td>964981247</td>\n",
       "    </tr>\n",
       "    <tr>\n",
       "      <th>2</th>\n",
       "      <td>1</td>\n",
       "      <td>6</td>\n",
       "      <td>4.0</td>\n",
       "      <td>964982224</td>\n",
       "    </tr>\n",
       "    <tr>\n",
       "      <th>3</th>\n",
       "      <td>1</td>\n",
       "      <td>47</td>\n",
       "      <td>5.0</td>\n",
       "      <td>964983815</td>\n",
       "    </tr>\n",
       "    <tr>\n",
       "      <th>4</th>\n",
       "      <td>1</td>\n",
       "      <td>50</td>\n",
       "      <td>5.0</td>\n",
       "      <td>964982931</td>\n",
       "    </tr>\n",
       "  </tbody>\n",
       "</table>\n",
       "</div>"
      ],
      "text/plain": [
       "   userId  movieId  rating  timestamp\n",
       "0       1        1     4.0  964982703\n",
       "1       1        3     4.0  964981247\n",
       "2       1        6     4.0  964982224\n",
       "3       1       47     5.0  964983815\n",
       "4       1       50     5.0  964982931"
      ]
     },
     "execution_count": 62,
     "metadata": {},
     "output_type": "execute_result"
    }
   ],
   "source": [
    "data_ratigs.head()"
   ]
  },
  {
   "cell_type": "code",
   "execution_count": 60,
   "id": "bcaa2b04",
   "metadata": {},
   "outputs": [
    {
     "data": {
      "text/html": [
       "<div>\n",
       "<style scoped>\n",
       "    .dataframe tbody tr th:only-of-type {\n",
       "        vertical-align: middle;\n",
       "    }\n",
       "\n",
       "    .dataframe tbody tr th {\n",
       "        vertical-align: top;\n",
       "    }\n",
       "\n",
       "    .dataframe thead th {\n",
       "        text-align: right;\n",
       "    }\n",
       "</style>\n",
       "<table border=\"1\" class=\"dataframe\">\n",
       "  <thead>\n",
       "    <tr style=\"text-align: right;\">\n",
       "      <th></th>\n",
       "      <th>userId</th>\n",
       "      <th>movieId</th>\n",
       "      <th>rating</th>\n",
       "      <th>timestamp</th>\n",
       "    </tr>\n",
       "  </thead>\n",
       "  <tbody>\n",
       "    <tr>\n",
       "      <th>3</th>\n",
       "      <td>1</td>\n",
       "      <td>47</td>\n",
       "      <td>5.0</td>\n",
       "      <td>964983815</td>\n",
       "    </tr>\n",
       "    <tr>\n",
       "      <th>4</th>\n",
       "      <td>1</td>\n",
       "      <td>50</td>\n",
       "      <td>5.0</td>\n",
       "      <td>964982931</td>\n",
       "    </tr>\n",
       "    <tr>\n",
       "      <th>6</th>\n",
       "      <td>1</td>\n",
       "      <td>101</td>\n",
       "      <td>5.0</td>\n",
       "      <td>964980868</td>\n",
       "    </tr>\n",
       "    <tr>\n",
       "      <th>8</th>\n",
       "      <td>1</td>\n",
       "      <td>151</td>\n",
       "      <td>5.0</td>\n",
       "      <td>964984041</td>\n",
       "    </tr>\n",
       "    <tr>\n",
       "      <th>9</th>\n",
       "      <td>1</td>\n",
       "      <td>157</td>\n",
       "      <td>5.0</td>\n",
       "      <td>964984100</td>\n",
       "    </tr>\n",
       "  </tbody>\n",
       "</table>\n",
       "</div>"
      ],
      "text/plain": [
       "   userId  movieId  rating  timestamp\n",
       "3       1       47     5.0  964983815\n",
       "4       1       50     5.0  964982931\n",
       "6       1      101     5.0  964980868\n",
       "8       1      151     5.0  964984041\n",
       "9       1      157     5.0  964984100"
      ]
     },
     "execution_count": 60,
     "metadata": {},
     "output_type": "execute_result"
    }
   ],
   "source": [
    "filtr_data = data_ratigs[ data_ratigs['rating'] == 5]\n",
    "filtr_data.head()"
   ]
  },
  {
   "cell_type": "code",
   "execution_count": 63,
   "id": "71416b55",
   "metadata": {},
   "outputs": [
    {
     "data": {
      "text/plain": [
       "318      153\n",
       "296      123\n",
       "356      116\n",
       "2571     109\n",
       "260      104\n",
       "        ... \n",
       "1150       1\n",
       "3223       1\n",
       "1416       1\n",
       "1590       1\n",
       "83969      1\n",
       "Name: movieId, Length: 2954, dtype: int64"
      ]
     },
     "execution_count": 63,
     "metadata": {},
     "output_type": "execute_result"
    }
   ],
   "source": [
    "filtr_data['movieId'].value_counts().sort_values(ascending=False)"
   ]
  },
  {
   "cell_type": "code",
   "execution_count": 64,
   "id": "ddc649af",
   "metadata": {},
   "outputs": [],
   "source": [
    "movies = data_movies[ data_movies['movieId'] == 318]"
   ]
  },
  {
   "cell_type": "code",
   "execution_count": 65,
   "id": "6052fc75",
   "metadata": {},
   "outputs": [
    {
     "data": {
      "text/plain": [
       "277    Shawshank Redemption, The (1994)\n",
       "Name: title, dtype: object"
      ]
     },
     "execution_count": 65,
     "metadata": {},
     "output_type": "execute_result"
    }
   ],
   "source": [
    "movies['title']"
   ]
  },
  {
   "cell_type": "markdown",
   "id": "096fbde5",
   "metadata": {},
   "source": [
    "### Задание 3\n",
    "Задание 3 Выберите страницу любого сайта с табличными данными. Импортируйте таблицы в pandas dataframe. Примеры страниц (необязательно брать именно эти): https://fortrader.org/quotes www.finanz.ru...om-vremeni"
   ]
  },
  {
   "cell_type": "code",
   "execution_count": 87,
   "id": "9340a970",
   "metadata": {},
   "outputs": [],
   "source": [
    "smart_list = pd.read_html('https://smart-lab.ru/q/ofz/')[0]"
   ]
  },
  {
   "cell_type": "code",
   "execution_count": 91,
   "id": "59456f81",
   "metadata": {},
   "outputs": [
    {
     "data": {
      "text/html": [
       "<div>\n",
       "<style scoped>\n",
       "    .dataframe tbody tr th:only-of-type {\n",
       "        vertical-align: middle;\n",
       "    }\n",
       "\n",
       "    .dataframe tbody tr th {\n",
       "        vertical-align: top;\n",
       "    }\n",
       "\n",
       "    .dataframe thead th {\n",
       "        text-align: right;\n",
       "    }\n",
       "</style>\n",
       "<table border=\"1\" class=\"dataframe\">\n",
       "  <thead>\n",
       "    <tr style=\"text-align: right;\">\n",
       "      <th></th>\n",
       "      <th>№</th>\n",
       "      <th>Unnamed: 1</th>\n",
       "      <th>Имя</th>\n",
       "      <th>Unnamed: 3</th>\n",
       "      <th>Погашение</th>\n",
       "      <th>Лет допогаш.</th>\n",
       "      <th>Доходн</th>\n",
       "      <th>!</th>\n",
       "      <th>Год.куп.дох.</th>\n",
       "      <th>Куп.дох.посл.</th>\n",
       "      <th>Цена</th>\n",
       "      <th>Объем,млн руб</th>\n",
       "      <th>Купон, руб</th>\n",
       "      <th>Частота,раз в год</th>\n",
       "      <th>НКД, руб</th>\n",
       "      <th>Дюр-я, лет</th>\n",
       "      <th>Дата купона</th>\n",
       "      <th>Unnamed: 17</th>\n",
       "      <th>Unnamed: 18</th>\n",
       "    </tr>\n",
       "  </thead>\n",
       "  <tbody>\n",
       "    <tr>\n",
       "      <th>0</th>\n",
       "      <td>1</td>\n",
       "      <td>18:36:17</td>\n",
       "      <td>ОФЗ 26237</td>\n",
       "      <td>NaN</td>\n",
       "      <td>2029-03-14</td>\n",
       "      <td>7.1</td>\n",
       "      <td>9.5%</td>\n",
       "      <td>NaN</td>\n",
       "      <td>6.70%</td>\n",
       "      <td>7.74%</td>\n",
       "      <td>86.60</td>\n",
       "      <td>1 223.7</td>\n",
       "      <td>33.41</td>\n",
       "      <td>2</td>\n",
       "      <td>25.33</td>\n",
       "      <td>5.51</td>\n",
       "      <td>2022-03-23</td>\n",
       "      <td>+</td>\n",
       "      <td>+</td>\n",
       "    </tr>\n",
       "    <tr>\n",
       "      <th>1</th>\n",
       "      <td>2</td>\n",
       "      <td>18:39:09</td>\n",
       "      <td>ОФЗ 26209</td>\n",
       "      <td>NaN</td>\n",
       "      <td>2022-07-20</td>\n",
       "      <td>0.5</td>\n",
       "      <td>9.7%</td>\n",
       "      <td>NaN</td>\n",
       "      <td>7.60%</td>\n",
       "      <td>7.66%</td>\n",
       "      <td>99.19</td>\n",
       "      <td>1 049.5</td>\n",
       "      <td>37.90</td>\n",
       "      <td>2</td>\n",
       "      <td>3.96</td>\n",
       "      <td>0.46</td>\n",
       "      <td>2022-07-20</td>\n",
       "      <td>+</td>\n",
       "      <td>+</td>\n",
       "    </tr>\n",
       "    <tr>\n",
       "      <th>2</th>\n",
       "      <td>3</td>\n",
       "      <td>18:35:49</td>\n",
       "      <td>ОФЗ 26239</td>\n",
       "      <td>NaN</td>\n",
       "      <td>2031-07-23</td>\n",
       "      <td>9.5</td>\n",
       "      <td>9.4%</td>\n",
       "      <td>NaN</td>\n",
       "      <td>6.90%</td>\n",
       "      <td>8.06%</td>\n",
       "      <td>85.65</td>\n",
       "      <td>255.3</td>\n",
       "      <td>34.41</td>\n",
       "      <td>2</td>\n",
       "      <td>0.95</td>\n",
       "      <td>6.90</td>\n",
       "      <td>2022-08-03</td>\n",
       "      <td>+</td>\n",
       "      <td>+</td>\n",
       "    </tr>\n",
       "    <tr>\n",
       "      <th>3</th>\n",
       "      <td>4</td>\n",
       "      <td>18:37:52</td>\n",
       "      <td>ОФЗ 26234</td>\n",
       "      <td>NaN</td>\n",
       "      <td>2025-07-16</td>\n",
       "      <td>3.5</td>\n",
       "      <td>9.5%</td>\n",
       "      <td>NaN</td>\n",
       "      <td>4.50%</td>\n",
       "      <td>5.22%</td>\n",
       "      <td>86.16</td>\n",
       "      <td>248.6</td>\n",
       "      <td>22.44</td>\n",
       "      <td>2</td>\n",
       "      <td>2.34</td>\n",
       "      <td>3.21</td>\n",
       "      <td>2022-07-20</td>\n",
       "      <td>+</td>\n",
       "      <td>+</td>\n",
       "    </tr>\n",
       "    <tr>\n",
       "      <th>4</th>\n",
       "      <td>5</td>\n",
       "      <td>18:37:15</td>\n",
       "      <td>ОФЗ 26229</td>\n",
       "      <td>NaN</td>\n",
       "      <td>2025-11-12</td>\n",
       "      <td>3.8</td>\n",
       "      <td>9.5%</td>\n",
       "      <td>NaN</td>\n",
       "      <td>7.15%</td>\n",
       "      <td>7.66%</td>\n",
       "      <td>93.33</td>\n",
       "      <td>237.8</td>\n",
       "      <td>35.65</td>\n",
       "      <td>2</td>\n",
       "      <td>16.06</td>\n",
       "      <td>3.31</td>\n",
       "      <td>2022-05-18</td>\n",
       "      <td>+</td>\n",
       "      <td>+</td>\n",
       "    </tr>\n",
       "  </tbody>\n",
       "</table>\n",
       "</div>"
      ],
      "text/plain": [
       "   № Unnamed: 1        Имя  Unnamed: 3   Погашение  Лет допогаш. Доходн    !  \\\n",
       "0  1   18:36:17  ОФЗ 26237         NaN  2029-03-14           7.1   9.5%  NaN   \n",
       "1  2   18:39:09  ОФЗ 26209         NaN  2022-07-20           0.5   9.7%  NaN   \n",
       "2  3   18:35:49  ОФЗ 26239         NaN  2031-07-23           9.5   9.4%  NaN   \n",
       "3  4   18:37:52  ОФЗ 26234         NaN  2025-07-16           3.5   9.5%  NaN   \n",
       "4  5   18:37:15  ОФЗ 26229         NaN  2025-11-12           3.8   9.5%  NaN   \n",
       "\n",
       "  Год.куп.дох. Куп.дох.посл.   Цена Объем,млн руб  Купон, руб  \\\n",
       "0        6.70%         7.74%  86.60       1 223.7       33.41   \n",
       "1        7.60%         7.66%  99.19       1 049.5       37.90   \n",
       "2        6.90%         8.06%  85.65         255.3       34.41   \n",
       "3        4.50%         5.22%  86.16         248.6       22.44   \n",
       "4        7.15%         7.66%  93.33         237.8       35.65   \n",
       "\n",
       "   Частота,раз в год  НКД, руб  Дюр-я, лет Дата купона Unnamed: 17 Unnamed: 18  \n",
       "0                  2     25.33        5.51  2022-03-23           +           +  \n",
       "1                  2      3.96        0.46  2022-07-20           +           +  \n",
       "2                  2      0.95        6.90  2022-08-03           +           +  \n",
       "3                  2      2.34        3.21  2022-07-20           +           +  \n",
       "4                  2     16.06        3.31  2022-05-18           +           +  "
      ]
     },
     "execution_count": 91,
     "metadata": {},
     "output_type": "execute_result"
    }
   ],
   "source": [
    "smart_list.head()"
   ]
  },
  {
   "cell_type": "code",
   "execution_count": 90,
   "id": "0f023769",
   "metadata": {},
   "outputs": [
    {
     "data": {
      "text/plain": [
       "55"
      ]
     },
     "execution_count": 90,
     "metadata": {},
     "output_type": "execute_result"
    }
   ],
   "source": [
    "smart_list['Имя'].nunique()"
   ]
  },
  {
   "cell_type": "code",
   "execution_count": null,
   "id": "6c5b2a64",
   "metadata": {},
   "outputs": [],
   "source": []
  }
 ],
 "metadata": {
  "kernelspec": {
   "display_name": "Python 3",
   "language": "python",
   "name": "python3"
  },
  "language_info": {
   "codemirror_mode": {
    "name": "ipython",
    "version": 3
   },
   "file_extension": ".py",
   "mimetype": "text/x-python",
   "name": "python",
   "nbconvert_exporter": "python",
   "pygments_lexer": "ipython3",
   "version": "3.8.8"
  }
 },
 "nbformat": 4,
 "nbformat_minor": 5
}
