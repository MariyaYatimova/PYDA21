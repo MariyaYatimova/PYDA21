{
 "cells": [
  {
   "cell_type": "code",
   "execution_count": 1,
   "id": "cc2aabc1",
   "metadata": {},
   "outputs": [
    {
     "name": "stdout",
     "output_type": "stream",
     "text": [
      "hello word\n"
     ]
    }
   ],
   "source": [
    "print('hello word')"
   ]
  },
  {
   "cell_type": "code",
   "execution_count": 2,
   "id": "4870258c",
   "metadata": {},
   "outputs": [
    {
     "data": {
      "text/plain": [
       "3"
      ]
     },
     "execution_count": 2,
     "metadata": {},
     "output_type": "execute_result"
    }
   ],
   "source": [
    "1+2"
   ]
  },
  {
   "cell_type": "code",
   "execution_count": 5,
   "id": "387a9589",
   "metadata": {},
   "outputs": [],
   "source": [
    "a = 1"
   ]
  },
  {
   "cell_type": "code",
   "execution_count": 9,
   "id": "2e9cb05c",
   "metadata": {},
   "outputs": [
    {
     "ename": "NameError",
     "evalue": "name 'IntProgress' is not defined",
     "output_type": "error",
     "traceback": [
      "\u001b[1;31m---------------------------------------------------------------------------\u001b[0m",
      "\u001b[1;31mNameError\u001b[0m                                 Traceback (most recent call last)",
      "\u001b[1;32m<ipython-input-9-87a8773d649c>\u001b[0m in \u001b[0;36m<module>\u001b[1;34m\u001b[0m\n\u001b[1;32m----> 1\u001b[1;33m \u001b[0mprogress\u001b[0m \u001b[1;33m=\u001b[0m \u001b[0mIntProgress\u001b[0m\u001b[1;33m(\u001b[0m\u001b[0mmin\u001b[0m\u001b[1;33m=\u001b[0m\u001b[1;36m0\u001b[0m\u001b[1;33m,\u001b[0m \u001b[0mmax\u001b[0m\u001b[1;33m=\u001b[0m\u001b[1;36m100\u001b[0m\u001b[1;33m,\u001b[0m \u001b[0mvalue\u001b[0m\u001b[1;33m=\u001b[0m\u001b[1;36m0\u001b[0m\u001b[1;33m)\u001b[0m\u001b[1;33m\u001b[0m\u001b[1;33m\u001b[0m\u001b[0m\n\u001b[0m\u001b[0;32m      2\u001b[0m \u001b[0mdisplay\u001b[0m\u001b[1;33m(\u001b[0m\u001b[0mprogress\u001b[0m\u001b[1;33m)\u001b[0m\u001b[1;33m\u001b[0m\u001b[1;33m\u001b[0m\u001b[0m\n\u001b[0;32m      3\u001b[0m \u001b[1;33m\u001b[0m\u001b[0m\n\u001b[0;32m      4\u001b[0m \u001b[1;32mfor\u001b[0m \u001b[0mi\u001b[0m \u001b[1;32min\u001b[0m \u001b[0mrange\u001b[0m\u001b[1;33m(\u001b[0m\u001b[1;36m100\u001b[0m\u001b[1;33m)\u001b[0m \u001b[1;33m:\u001b[0m\u001b[1;33m\u001b[0m\u001b[1;33m\u001b[0m\u001b[0m\n\u001b[0;32m      5\u001b[0m     \u001b[0mtime\u001b[0m\u001b[1;33m.\u001b[0m\u001b[0msleep\u001b[0m\u001b[1;33m(\u001b[0m\u001b[1;36m0.05\u001b[0m\u001b[1;33m)\u001b[0m\u001b[1;33m\u001b[0m\u001b[1;33m\u001b[0m\u001b[0m\n",
      "\u001b[1;31mNameError\u001b[0m: name 'IntProgress' is not defined"
     ]
    }
   ],
   "source": [
    "progress = IntProgress(min=0, max=100, value=0)\n",
    "display(progress)\n",
    "\n",
    "for i in range(100) :\n",
    "    time.sleep(0.05)\n",
    "    progress.value = i\n",
    "    "
   ]
  },
  {
   "cell_type": "code",
   "execution_count": 10,
   "id": "8c543a7a",
   "metadata": {},
   "outputs": [],
   "source": [
    "#однострочный комментарий"
   ]
  },
  {
   "cell_type": "code",
   "execution_count": 11,
   "id": "d233a62b",
   "metadata": {},
   "outputs": [
    {
     "data": {
      "text/plain": [
       "6"
      ]
     },
     "execution_count": 11,
     "metadata": {},
     "output_type": "execute_result"
    }
   ],
   "source": [
    "2+2*2"
   ]
  },
  {
   "cell_type": "code",
   "execution_count": 12,
   "id": "3bd0698c",
   "metadata": {},
   "outputs": [
    {
     "data": {
      "text/plain": [
       "8"
      ]
     },
     "execution_count": 12,
     "metadata": {},
     "output_type": "execute_result"
    }
   ],
   "source": [
    "(2+2)*2"
   ]
  },
  {
   "cell_type": "code",
   "execution_count": 13,
   "id": "2e172397",
   "metadata": {},
   "outputs": [],
   "source": [
    "###Переменные"
   ]
  },
  {
   "cell_type": "code",
   "execution_count": 14,
   "id": "5faeffc8",
   "metadata": {},
   "outputs": [
    {
     "name": "stdout",
     "output_type": "stream",
     "text": [
      "Otvet 4.884615384615385\n"
     ]
    }
   ],
   "source": [
    "a=150-23\n",
    "b=26\n",
    "c=a/b\n",
    "print('Otvet', c)"
   ]
  },
  {
   "cell_type": "code",
   "execution_count": 15,
   "id": "571aa221",
   "metadata": {},
   "outputs": [
    {
     "name": "stdout",
     "output_type": "stream",
     "text": [
      "less 2\n"
     ]
    }
   ],
   "source": [
    "my_less = 1\n",
    "my_less_two = my_less+1\n",
    "print('less', my_less_two)"
   ]
  },
  {
   "cell_type": "code",
   "execution_count": 16,
   "id": "aa214c27",
   "metadata": {},
   "outputs": [],
   "source": [
    "#операторы сравнения"
   ]
  },
  {
   "cell_type": "code",
   "execution_count": 17,
   "id": "6e03cbea",
   "metadata": {},
   "outputs": [
    {
     "data": {
      "text/plain": [
       "False"
      ]
     },
     "execution_count": 17,
     "metadata": {},
     "output_type": "execute_result"
    }
   ],
   "source": [
    "2>3"
   ]
  },
  {
   "cell_type": "code",
   "execution_count": 18,
   "id": "3d18be25",
   "metadata": {},
   "outputs": [
    {
     "data": {
      "text/plain": [
       "True"
      ]
     },
     "execution_count": 18,
     "metadata": {},
     "output_type": "execute_result"
    }
   ],
   "source": [
    "2<3"
   ]
  },
  {
   "cell_type": "code",
   "execution_count": 19,
   "id": "3ecf3f9c",
   "metadata": {},
   "outputs": [
    {
     "data": {
      "text/plain": [
       "True"
      ]
     },
     "execution_count": 19,
     "metadata": {},
     "output_type": "execute_result"
    }
   ],
   "source": [
    "5>4<10"
   ]
  },
  {
   "cell_type": "code",
   "execution_count": 20,
   "id": "6d64065b",
   "metadata": {},
   "outputs": [],
   "source": [
    "#сравнение строк (сравнение идет по алфавиту)"
   ]
  },
  {
   "cell_type": "code",
   "execution_count": 21,
   "id": "a97a679a",
   "metadata": {},
   "outputs": [
    {
     "name": "stdout",
     "output_type": "stream",
     "text": [
      "False\n"
     ]
    }
   ],
   "source": [
    "print('fbc'>'mcb')"
   ]
  },
  {
   "cell_type": "code",
   "execution_count": 22,
   "id": "a50cddc9",
   "metadata": {},
   "outputs": [
    {
     "name": "stdout",
     "output_type": "stream",
     "text": [
      "Значение а меньше в\n"
     ]
    }
   ],
   "source": [
    "a=1\n",
    "b=4\n",
    "if a<b:\n",
    "    print('Значение а меньше в')"
   ]
  },
  {
   "cell_type": "code",
   "execution_count": 23,
   "id": "c1212467",
   "metadata": {},
   "outputs": [],
   "source": [
    "#проверка четности числа"
   ]
  },
  {
   "cell_type": "code",
   "execution_count": 44,
   "id": "02bd301d",
   "metadata": {},
   "outputs": [
    {
     "name": "stdout",
     "output_type": "stream",
     "text": [
      "9 -нечетное число\n"
     ]
    }
   ],
   "source": [
    "a=9\n",
    "if a % 2==0:\n",
    "    print(a, '-четное число')\n",
    "else:\n",
    "    print(a, '-нечетное число')"
   ]
  },
  {
   "cell_type": "code",
   "execution_count": 46,
   "id": "2f483006",
   "metadata": {},
   "outputs": [
    {
     "name": "stdout",
     "output_type": "stream",
     "text": [
      "введите предполагаемую сумму 200000\n",
      "однозначно кипр\n"
     ]
    }
   ],
   "source": [
    "day=15\n",
    "if day<=19:\n",
    "    user_input = int(input('введите предполагаемую сумму '))\n",
    "    if user_input < 90000:\n",
    "        print('Это Россия, детка') \n",
    "    elif user_input < 120000:\n",
    "        print('возможно повезет в египет')\n",
    "    elif user_input >=120000:\n",
    "        print('однозначно кипр')\n",
    "    else:\n",
    "        print('дома тоже хорошо')\n",
    "else:\n",
    "    print('отпуск не такой длинный, как ты думаешь')"
   ]
  },
  {
   "cell_type": "code",
   "execution_count": 33,
   "id": "e48b4b26",
   "metadata": {},
   "outputs": [
    {
     "data": {
      "text/plain": [
       "int"
      ]
     },
     "execution_count": 33,
     "metadata": {},
     "output_type": "execute_result"
    }
   ],
   "source": [
    "my_int = 5\n",
    "type(my_int)"
   ]
  },
  {
   "cell_type": "code",
   "execution_count": 34,
   "id": "448e14ec",
   "metadata": {},
   "outputs": [
    {
     "data": {
      "text/plain": [
       "float"
      ]
     },
     "execution_count": 34,
     "metadata": {},
     "output_type": "execute_result"
    }
   ],
   "source": [
    "my_float = 5.5 #вещественное число, обознач. с .\n",
    "type(my_float)"
   ]
  },
  {
   "cell_type": "code",
   "execution_count": 35,
   "id": "85c2eaf4",
   "metadata": {},
   "outputs": [
    {
     "data": {
      "text/plain": [
       "float"
      ]
     },
     "execution_count": 35,
     "metadata": {},
     "output_type": "execute_result"
    }
   ],
   "source": [
    "type(5.25)"
   ]
  },
  {
   "cell_type": "code",
   "execution_count": 36,
   "id": "9607d48b",
   "metadata": {},
   "outputs": [
    {
     "data": {
      "text/plain": [
       "str"
      ]
     },
     "execution_count": 36,
     "metadata": {},
     "output_type": "execute_result"
    }
   ],
   "source": [
    "#строки\n",
    "type('Hello')"
   ]
  },
  {
   "cell_type": "code",
   "execution_count": 52,
   "id": "2809078d",
   "metadata": {},
   "outputs": [
    {
     "name": "stdout",
     "output_type": "stream",
     "text": [
      "моя зарплата 150000 рублей\n"
     ]
    }
   ],
   "source": [
    "#Преобразование типов\n",
    "zp = 150000\n",
    "print('моя зарплата '  + str(zp) +  ' рублей' )"
   ]
  },
  {
   "cell_type": "code",
   "execution_count": 56,
   "id": "78f1dc75",
   "metadata": {},
   "outputs": [
    {
     "data": {
      "text/plain": [
       "1100.5"
      ]
     },
     "execution_count": 56,
     "metadata": {},
     "output_type": "execute_result"
    }
   ],
   "source": [
    "float('1000.5') + 100"
   ]
  },
  {
   "cell_type": "code",
   "execution_count": 58,
   "id": "79bdc85d",
   "metadata": {},
   "outputs": [
    {
     "name": "stdout",
     "output_type": "stream",
     "text": [
      "Kolbasa\n"
     ]
    }
   ],
   "source": [
    "my_str = 'Kolbasa'\n",
    "print(my_str)"
   ]
  },
  {
   "cell_type": "code",
   "execution_count": 59,
   "id": "b66a5ff8",
   "metadata": {},
   "outputs": [
    {
     "data": {
      "text/plain": [
       "'KOLBASA'"
      ]
     },
     "execution_count": 59,
     "metadata": {},
     "output_type": "execute_result"
    }
   ],
   "source": [
    "my_str.upper()"
   ]
  },
  {
   "cell_type": "code",
   "execution_count": 60,
   "id": "6aa8b2f8",
   "metadata": {},
   "outputs": [
    {
     "data": {
      "text/plain": [
       "'kolbasa'"
      ]
     },
     "execution_count": 60,
     "metadata": {},
     "output_type": "execute_result"
    }
   ],
   "source": [
    "my_str.lower()"
   ]
  },
  {
   "cell_type": "code",
   "execution_count": 61,
   "id": "316e0318",
   "metadata": {},
   "outputs": [
    {
     "data": {
      "text/plain": [
       "'Kolbasa'"
      ]
     },
     "execution_count": 61,
     "metadata": {},
     "output_type": "execute_result"
    }
   ],
   "source": [
    "my_str.capitalize()"
   ]
  },
  {
   "cell_type": "code",
   "execution_count": 62,
   "id": "569118f1",
   "metadata": {},
   "outputs": [
    {
     "data": {
      "text/plain": [
       "'Abibasa'"
      ]
     },
     "execution_count": 62,
     "metadata": {},
     "output_type": "execute_result"
    }
   ],
   "source": [
    "my_str.replace('Kol','Abi')"
   ]
  },
  {
   "cell_type": "code",
   "execution_count": 64,
   "id": "1791b282",
   "metadata": {},
   "outputs": [],
   "source": [
    "my_str = my_str.replace('Kol','Abi')"
   ]
  },
  {
   "cell_type": "code",
   "execution_count": 65,
   "id": "3e2ac03e",
   "metadata": {},
   "outputs": [
    {
     "name": "stdout",
     "output_type": "stream",
     "text": [
      "Abibasa\n"
     ]
    }
   ],
   "source": [
    "print(my_str)"
   ]
  },
  {
   "cell_type": "code",
   "execution_count": 66,
   "id": "849976a7",
   "metadata": {},
   "outputs": [
    {
     "data": {
      "text/plain": [
       "7"
      ]
     },
     "execution_count": 66,
     "metadata": {},
     "output_type": "execute_result"
    }
   ],
   "source": [
    "len(my_str)"
   ]
  },
  {
   "cell_type": "code",
   "execution_count": 67,
   "id": "3ce9ea1a",
   "metadata": {},
   "outputs": [
    {
     "data": {
      "text/plain": [
       "'i'"
      ]
     },
     "execution_count": 67,
     "metadata": {},
     "output_type": "execute_result"
    }
   ],
   "source": [
    "my_str[2]"
   ]
  },
  {
   "cell_type": "code",
   "execution_count": 69,
   "id": "1895ad83",
   "metadata": {},
   "outputs": [
    {
     "data": {
      "text/plain": [
       "'a'"
      ]
     },
     "execution_count": 69,
     "metadata": {},
     "output_type": "execute_result"
    }
   ],
   "source": [
    "my_str[-3]"
   ]
  },
  {
   "cell_type": "code",
   "execution_count": 70,
   "id": "d74abdaf",
   "metadata": {},
   "outputs": [
    {
     "data": {
      "text/plain": [
       "'Abiba'"
      ]
     },
     "execution_count": 70,
     "metadata": {},
     "output_type": "execute_result"
    }
   ],
   "source": [
    "my_str[0:5]"
   ]
  },
  {
   "cell_type": "code",
   "execution_count": 71,
   "id": "58ad1b8d",
   "metadata": {},
   "outputs": [
    {
     "data": {
      "text/plain": [
       "'Aia'"
      ]
     },
     "execution_count": 71,
     "metadata": {},
     "output_type": "execute_result"
    }
   ],
   "source": [
    "my_str[0:5:2]"
   ]
  },
  {
   "cell_type": "code",
   "execution_count": 73,
   "id": "25b5cc6c",
   "metadata": {},
   "outputs": [
    {
     "data": {
      "text/plain": [
       "'sa'"
      ]
     },
     "execution_count": 73,
     "metadata": {},
     "output_type": "execute_result"
    }
   ],
   "source": [
    "my_str[5:]"
   ]
  },
  {
   "cell_type": "code",
   "execution_count": 74,
   "id": "9a6e20ba",
   "metadata": {},
   "outputs": [
    {
     "data": {
      "text/plain": [
       "'Abiba'"
      ]
     },
     "execution_count": 74,
     "metadata": {},
     "output_type": "execute_result"
    }
   ],
   "source": [
    "my_str[:5]"
   ]
  },
  {
   "cell_type": "code",
   "execution_count": 75,
   "id": "8debb029",
   "metadata": {},
   "outputs": [
    {
     "name": "stdout",
     "output_type": "stream",
     "text": [
      "Nashlos\n"
     ]
    }
   ],
   "source": [
    "my_str = 'Preobladanie'\n",
    "my_str2 = 'dan'\n",
    "\n",
    "if my_str2 in my_str:\n",
    "    print('Nashlos')"
   ]
  },
  {
   "cell_type": "code",
   "execution_count": null,
   "id": "62a8827a",
   "metadata": {},
   "outputs": [],
   "source": []
  }
 ],
 "metadata": {
  "kernelspec": {
   "display_name": "Python 3",
   "language": "python",
   "name": "python3"
  },
  "language_info": {
   "codemirror_mode": {
    "name": "ipython",
    "version": 3
   },
   "file_extension": ".py",
   "mimetype": "text/x-python",
   "name": "python",
   "nbconvert_exporter": "python",
   "pygments_lexer": "ipython3",
   "version": "3.8.8"
  }
 },
 "nbformat": 4,
 "nbformat_minor": 5
}
